{
 "cells": [
  {
   "cell_type": "markdown",
   "metadata": {},
   "source": [
    "### Imports"
   ]
  },
  {
   "cell_type": "code",
   "execution_count": 34,
   "metadata": {},
   "outputs": [],
   "source": [
    "from utilities import *"
   ]
  },
  {
   "cell_type": "markdown",
   "metadata": {},
   "source": [
    "### Write an algorithm that computes the sum of the first N natural numbers"
   ]
  },
  {
   "cell_type": "markdown",
   "metadata": {},
   "source": [
    "Iterative version"
   ]
  },
  {
   "cell_type": "code",
   "execution_count": 2,
   "metadata": {},
   "outputs": [],
   "source": [
    "#this is a function definition\n",
    "def sum(number: int) -> int:\n",
    "    counter: int = 1\n",
    "    sum: int = 0\n",
    "\n",
    "    while counter <= number:\n",
    "      sum = sum + counter\n",
    "      counter = counter + 1\n",
    "    return sum"
   ]
  },
  {
   "cell_type": "markdown",
   "metadata": {},
   "source": [
    "Recursive version"
   ]
  },
  {
   "cell_type": "code",
   "execution_count": 3,
   "metadata": {},
   "outputs": [
    {
     "data": {
      "text/plain": [
       "15"
      ]
     },
     "execution_count": 3,
     "metadata": {},
     "output_type": "execute_result"
    }
   ],
   "source": [
    "def sum_rec(number: int) -> int:\n",
    "    if number == 1: return 1\n",
    "    else: return number + sum_rec(number - 1)\n",
    "\n",
    "sum_rec(5)"
   ]
  },
  {
   "cell_type": "markdown",
   "metadata": {},
   "source": [
    "### Write an algorithm that computes the factorial of a positive number N"
   ]
  },
  {
   "cell_type": "markdown",
   "metadata": {},
   "source": [
    "Iterative version"
   ]
  },
  {
   "cell_type": "code",
   "execution_count": 4,
   "metadata": {},
   "outputs": [],
   "source": [
    "#this is a function definition\n",
    "def factorial(number: int) -> int:\n",
    "    counter = 1\n",
    "    fact = 1\n",
    "    while counter <= number:\n",
    "       fact = fact * counter\n",
    "       counter = counter + 1\n",
    "    return fact"
   ]
  },
  {
   "cell_type": "markdown",
   "metadata": {},
   "source": [
    "Recursive version"
   ]
  },
  {
   "cell_type": "code",
   "execution_count": 5,
   "metadata": {},
   "outputs": [
    {
     "data": {
      "text/plain": [
       "120"
      ]
     },
     "execution_count": 5,
     "metadata": {},
     "output_type": "execute_result"
    }
   ],
   "source": [
    "def factorial(number: int) -> int:\n",
    "    if number == 1:\n",
    "        return 1\n",
    "    else:\n",
    "        return number * factorial(number - 1)\n",
    "    \n",
    "factorial(5)"
   ]
  },
  {
   "cell_type": "markdown",
   "metadata": {},
   "source": [
    "### Write an algorithm that counts the number of digits in a given natural number N."
   ]
  },
  {
   "cell_type": "markdown",
   "metadata": {},
   "source": [
    "Iterative version"
   ]
  },
  {
   "cell_type": "code",
   "execution_count": 6,
   "metadata": {},
   "outputs": [],
   "source": [
    "def count_digits(number: int) -> int:\n",
    "    counter = 0\n",
    "    while number != 0:\n",
    "        number = number // 10\n",
    "        counter = counter + 1\n",
    "    return counter"
   ]
  },
  {
   "cell_type": "markdown",
   "metadata": {},
   "source": [
    "Recursive version"
   ]
  },
  {
   "cell_type": "code",
   "execution_count": 7,
   "metadata": {},
   "outputs": [
    {
     "data": {
      "text/plain": [
       "4"
      ]
     },
     "execution_count": 7,
     "metadata": {},
     "output_type": "execute_result"
    }
   ],
   "source": [
    "def count_digits(number: int) -> int:\n",
    "    if is_one_digit(number): return 1\n",
    "    else:\n",
    "        return 1 + count_digits(number // 10)\n",
    "    \n",
    "count_digits(4578)"
   ]
  },
  {
   "cell_type": "markdown",
   "metadata": {},
   "source": [
    "### Write an algorithm that counts the even digits in a given natural number N."
   ]
  },
  {
   "cell_type": "markdown",
   "metadata": {},
   "source": [
    "Iterative version"
   ]
  },
  {
   "cell_type": "code",
   "execution_count": 8,
   "metadata": {},
   "outputs": [],
   "source": [
    "def count_evens(number: int):\n",
    "    num_evens = 0\n",
    "    while number != 0:\n",
    "        remainder = number % 10\n",
    "        if is_even(remainder): \n",
    "            num_evens = num_evens + 1\n",
    "        else: \n",
    "            pass\n",
    "        number = number // 10\n",
    "    return num_evens"
   ]
  },
  {
   "cell_type": "markdown",
   "metadata": {},
   "source": [
    "Recursive version"
   ]
  },
  {
   "cell_type": "code",
   "execution_count": 9,
   "metadata": {},
   "outputs": [
    {
     "data": {
      "text/plain": [
       "3"
      ]
     },
     "execution_count": 9,
     "metadata": {},
     "output_type": "execute_result"
    }
   ],
   "source": [
    "def count_evens(number: int) -> int:\n",
    "    if is_one_digit(number):\n",
    "        return 1 if is_even(number) else 0\n",
    "    elif is_even(number % 10): # is the digit I am seeing even? If so add 1\n",
    "        return 1 + count_evens(number // 10)\n",
    "    else:\n",
    "        return 0 + count_evens(number // 10)\n",
    "\n",
    "count_evens(78654)\n"
   ]
  },
  {
   "cell_type": "markdown",
   "metadata": {},
   "source": [
    "### Write an algorithm that computes the sum of digits in a given natural number N"
   ]
  },
  {
   "cell_type": "markdown",
   "metadata": {},
   "source": [
    "Iterative version"
   ]
  },
  {
   "cell_type": "code",
   "execution_count": 10,
   "metadata": {},
   "outputs": [],
   "source": [
    "def sum_digits(number: int) -> int:\n",
    "    summation = 0\n",
    "    while number != 0:\n",
    "        remainder = number % 10\n",
    "        summation = summation + remainder\n",
    "        number = number // 10\n",
    "    return summation"
   ]
  },
  {
   "cell_type": "markdown",
   "metadata": {},
   "source": [
    "Recursive version"
   ]
  },
  {
   "cell_type": "code",
   "execution_count": 11,
   "metadata": {},
   "outputs": [
    {
     "data": {
      "text/plain": [
       "27"
      ]
     },
     "execution_count": 11,
     "metadata": {},
     "output_type": "execute_result"
    }
   ],
   "source": [
    "def sum_digits(number: int) -> int:\n",
    "    if is_one_digit(number):\n",
    "        return number\n",
    "    else:\n",
    "        return get_last_digit(number) + sum_digits(number // 10)\n",
    "\n",
    "sum_digits(65790)"
   ]
  },
  {
   "cell_type": "markdown",
   "metadata": {},
   "source": [
    "### write an algorithm that counts the number of odd digits in a number"
   ]
  },
  {
   "cell_type": "markdown",
   "metadata": {},
   "source": [
    "Iterative version"
   ]
  },
  {
   "cell_type": "code",
   "execution_count": 12,
   "metadata": {},
   "outputs": [],
   "source": [
    "def count_odds(number: int) -> int:\n",
    "    count = 0\n",
    "    while number != 0:\n",
    "        remainder = number % 10\n",
    "        if is_odd(remainder):\n",
    "            count = count + 1\n",
    "        number = number // 10\n",
    "    return count"
   ]
  },
  {
   "cell_type": "markdown",
   "metadata": {},
   "source": [
    "Recursive version"
   ]
  },
  {
   "cell_type": "code",
   "execution_count": 13,
   "metadata": {},
   "outputs": [
    {
     "data": {
      "text/plain": [
       "3"
      ]
     },
     "execution_count": 13,
     "metadata": {},
     "output_type": "execute_result"
    }
   ],
   "source": [
    "def count_odds(number : int ) -> int:\n",
    "    if is_one_digit(number):\n",
    "        return 1 if is_odd(number) else 0\n",
    "    elif is_odd(number % 10):\n",
    "        return 1 + count_odds(number//10)\n",
    "    else:\n",
    "        return 0 + count_odds(number//10)\n",
    "count_odds(333)"
   ]
  },
  {
   "cell_type": "markdown",
   "metadata": {},
   "source": [
    "### Write an algorithm that computes the sum of even digits in a given natural number N"
   ]
  },
  {
   "cell_type": "markdown",
   "metadata": {},
   "source": [
    "Iterative version"
   ]
  },
  {
   "cell_type": "code",
   "execution_count": 14,
   "metadata": {},
   "outputs": [],
   "source": [
    "def sum_evens(number: int) -> int:\n",
    "    sum = 0\n",
    "    while number != 0:\n",
    "        remainder = number % 10\n",
    "        if is_even(remainder):\n",
    "            sum = sum + remainder\n",
    "        number = number // 10\n",
    "    return sum"
   ]
  },
  {
   "cell_type": "markdown",
   "metadata": {},
   "source": [
    "Recursive version"
   ]
  },
  {
   "cell_type": "code",
   "execution_count": 15,
   "metadata": {},
   "outputs": [],
   "source": [
    "def sum_evens(number: int) -> int:\n",
    "    if is_one_digit(number):\n",
    "        return number if is_even(number) else 0\n",
    "    elif is_even(get_last_digit(number)):\n",
    "        return get_last_digit(number) + sum_evens(number // 10)\n",
    "    else:\n",
    "        return 0 + sum_evens(number // 10)"
   ]
  },
  {
   "cell_type": "markdown",
   "metadata": {},
   "source": [
    "### Write a function that checks if a given natural number N contains a given digit d."
   ]
  },
  {
   "cell_type": "markdown",
   "metadata": {},
   "source": [
    "Iterative version"
   ]
  },
  {
   "cell_type": "code",
   "execution_count": 16,
   "metadata": {},
   "outputs": [],
   "source": [
    "def contains(number: int, digit: int) -> bool:\n",
    "    while number != 0:\n",
    "        remainder = number % 10 # we grab the right most digit\n",
    "        if remainder == digit: #we check to see if it is equal to what we are looking for.\n",
    "            return True # we stop the search\n",
    "        number = number // 10\n",
    "    return False"
   ]
  },
  {
   "cell_type": "markdown",
   "metadata": {},
   "source": [
    "Recursive version"
   ]
  },
  {
   "cell_type": "code",
   "execution_count": 17,
   "metadata": {},
   "outputs": [],
   "source": [
    "def contains(number: int, digit: int) -> bool:\n",
    "    if is_one_digit(number):\n",
    "        return number == digit\n",
    "    else:\n",
    "        return (get_last_digit(number) == digit) or contains(number // 10, digit)"
   ]
  },
  {
   "cell_type": "markdown",
   "metadata": {},
   "source": [
    "### Write a function that computes the power function."
   ]
  },
  {
   "cell_type": "markdown",
   "metadata": {},
   "source": [
    "Iterative version"
   ]
  },
  {
   "cell_type": "code",
   "execution_count": 18,
   "metadata": {},
   "outputs": [],
   "source": [
    "def power(base: int, exponent: int) -> int:\n",
    "    result = 1\n",
    "    while exponent > 0:\n",
    "       result = result * base\n",
    "       exponent = exponent - 1\n",
    "    return result"
   ]
  },
  {
   "cell_type": "markdown",
   "metadata": {},
   "source": [
    "Recursive version"
   ]
  },
  {
   "cell_type": "code",
   "execution_count": 19,
   "metadata": {},
   "outputs": [],
   "source": [
    "def power(base: int, exponent: int) -> int:\n",
    "    if exponent == 1:\n",
    "        return base\n",
    "    else:\n",
    "        return base * power(base, exponent - 1)"
   ]
  },
  {
   "cell_type": "markdown",
   "metadata": {},
   "source": [
    "### Write a function that computes the multiplication function."
   ]
  },
  {
   "cell_type": "markdown",
   "metadata": {},
   "source": [
    "Iterative version"
   ]
  },
  {
   "cell_type": "code",
   "execution_count": 20,
   "metadata": {},
   "outputs": [],
   "source": [
    "def multiply(first: int, second: int) -> int:\n",
    "    result = 0\n",
    "    while second > 0:\n",
    "        result = result + first\n",
    "        second = second - 1\n",
    "    return result\n"
   ]
  },
  {
   "cell_type": "markdown",
   "metadata": {},
   "source": [
    "Recursive version"
   ]
  },
  {
   "cell_type": "code",
   "execution_count": 21,
   "metadata": {},
   "outputs": [],
   "source": [
    "def multiply(first: int, second: int) -> int:\n",
    "    if second == 1:\n",
    "        return first\n",
    "    else:\n",
    "        return first + multiply(first, second - 1)"
   ]
  },
  {
   "cell_type": "markdown",
   "metadata": {},
   "source": [
    "### Write a function that returns the reverse of a given natural number N ."
   ]
  },
  {
   "cell_type": "markdown",
   "metadata": {},
   "source": [
    "Iterative version"
   ]
  },
  {
   "cell_type": "code",
   "execution_count": 22,
   "metadata": {},
   "outputs": [],
   "source": [
    "def reverse(number: int) -> int:\n",
    "    rev = 0\n",
    "    while number != 0:\n",
    "        remainder = number % 10\n",
    "        rev = rev * 10 + remainder\n",
    "        number = number // 10\n",
    "    return rev\n"
   ]
  },
  {
   "cell_type": "markdown",
   "metadata": {},
   "source": [
    "Recursive version"
   ]
  },
  {
   "cell_type": "code",
   "execution_count": 23,
   "metadata": {},
   "outputs": [],
   "source": [
    "def foo(number: int) -> int:\n",
    "    num = count_digits(number)\n",
    "    return power(10, num)\n",
    "\n",
    "\n",
    "def reverse(number: int) -> int:\n",
    "    if is_one_digit(number):\n",
    "        return number\n",
    "    else:\n",
    "        return foo(number // 10) * (number % 10) + reverse(number // 10)"
   ]
  },
  {
   "cell_type": "markdown",
   "metadata": {},
   "source": [
    "### Write a function that checks if a given natural number N is Armstrong "
   ]
  },
  {
   "cell_type": "markdown",
   "metadata": {},
   "source": [
    "Iterative version"
   ]
  },
  {
   "cell_type": "code",
   "execution_count": 24,
   "metadata": {},
   "outputs": [
    {
     "data": {
      "text/plain": [
       "False"
      ]
     },
     "execution_count": 24,
     "metadata": {},
     "output_type": "execute_result"
    }
   ],
   "source": [
    "def is_armstrong(number: int) -> bool:\n",
    "    num = count_digits(number) # compute the number of digits\n",
    "    temp = number # make a copy so that we can compare later\n",
    "    sum = 0\n",
    "    while temp != 0:\n",
    "        remainder = temp % 10\n",
    "        sum = sum + power(remainder, num)\n",
    "        temp = temp // 10\n",
    "    return number == sum # we check if the sum is == to the original number\n",
    "is_armstrong(8408)"
   ]
  },
  {
   "cell_type": "markdown",
   "metadata": {},
   "source": [
    "Recursive version"
   ]
  },
  {
   "cell_type": "code",
   "execution_count": 25,
   "metadata": {},
   "outputs": [
    {
     "data": {
      "text/plain": [
       "True"
      ]
     },
     "execution_count": 25,
     "metadata": {},
     "output_type": "execute_result"
    }
   ],
   "source": [
    "def is_armstrong(number: int) -> bool:\n",
    "    return compute_sum(number, count_digits(number)) == number\n",
    "\n",
    "def compute_sum(number: int, num_digits: int) -> int:\n",
    "        if is_one_digit(number):\n",
    "            return power(number, num_digits) \n",
    "        else:\n",
    "            return power((number % 10), num_digits) + compute_sum(number // 10, num_digits)\n",
    "\n",
    "is_armstrong(153)"
   ]
  },
  {
   "cell_type": "markdown",
   "metadata": {},
   "source": [
    "### Write a function that returns the number of times a given digit appears in a given natural number N."
   ]
  },
  {
   "cell_type": "markdown",
   "metadata": {},
   "source": [
    "Iterative version"
   ]
  },
  {
   "cell_type": "code",
   "execution_count": 50,
   "metadata": {},
   "outputs": [
    {
     "name": "stdout",
     "output_type": "stream",
     "text": [
      "There are 3 4's in 457454\n"
     ]
    }
   ],
   "source": [
    "def frequency(number: int, digit: int) -> int:\n",
    "   counter = 0\n",
    "   while number != 0:\n",
    "      remainder = number % 10\n",
    "      if remainder == digit:\n",
    "         counter = counter + 1\n",
    "      number = number // 10\n",
    "   return counter"
   ]
  },
  {
   "cell_type": "markdown",
   "metadata": {},
   "source": [
    "Recursive version"
   ]
  },
  {
   "cell_type": "code",
   "execution_count": 27,
   "metadata": {},
   "outputs": [
    {
     "data": {
      "text/plain": [
       "2"
      ]
     },
     "execution_count": 27,
     "metadata": {},
     "output_type": "execute_result"
    }
   ],
   "source": [
    "def frequency(number: int, digit: int) -> int:\n",
    "    if is_one_digit(number):\n",
    "        return 1 if number == digit else 0\n",
    "    elif get_last_digit(number) == digit:\n",
    "        return 1 + frequency(number // 10, digit)\n",
    "    else:\n",
    "        return 0 + frequency(number // 10, digit)\n",
    "frequency(5675, 5)"
   ]
  },
  {
   "cell_type": "markdown",
   "metadata": {},
   "source": [
    "### Write a program that calculates with how many zeroes the factorial of a given number ends."
   ]
  },
  {
   "cell_type": "markdown",
   "metadata": {},
   "source": [
    "Iterative version"
   ]
  },
  {
   "cell_type": "code",
   "execution_count": 28,
   "metadata": {},
   "outputs": [
    {
     "data": {
      "text/plain": [
       "0"
      ]
     },
     "execution_count": 28,
     "metadata": {},
     "output_type": "execute_result"
    }
   ],
   "source": [
    "def count_zeros(number: int) -> int:\n",
    "    counter = 0\n",
    "    fact = factorial(number)\n",
    "    while fact != 0:\n",
    "        remainder = fact % 10\n",
    "        if remainder == 0:\n",
    "            counter = counter + 1\n",
    "        else:\n",
    "            return counter\n",
    "        fact = fact // 10\n",
    "\n",
    "count_zeros(4)"
   ]
  },
  {
   "cell_type": "markdown",
   "metadata": {},
   "source": [
    "Recursive version"
   ]
  },
  {
   "cell_type": "code",
   "execution_count": 33,
   "metadata": {},
   "outputs": [
    {
     "data": {
      "text/plain": [
       "4"
      ]
     },
     "execution_count": 33,
     "metadata": {},
     "output_type": "execute_result"
    }
   ],
   "source": [
    "def count_zeros(factorial: int) -> int:\n",
    "    if get_last_digit(factorial) != 0:\n",
    "        return 0\n",
    "    else:\n",
    "        return 1 + count_zeros(factorial // 10)"
   ]
  },
  {
   "cell_type": "markdown",
   "metadata": {},
   "source": [
    "Write a function that determines if a given natural number is prime "
   ]
  },
  {
   "cell_type": "code",
   "execution_count": 60,
   "metadata": {},
   "outputs": [
    {
     "data": {
      "text/plain": [
       "6760"
      ]
     },
     "execution_count": 60,
     "metadata": {},
     "output_type": "execute_result"
    }
   ],
   "source": [
    "from math import sqrt\n",
    "\n",
    "def is_prime(number: int) -> bool:\n",
    "    counter = 2\n",
    "    while counter < sqrt(number):\n",
    "        remainder = number % counter\n",
    "        if remainder == 0:\n",
    "            return False\n",
    "        counter = counter + 1\n",
    "    return True"
   ]
  },
  {
   "cell_type": "markdown",
   "metadata": {},
   "source": [
    "### Write a function that returns the maximum digit in a given natural number N."
   ]
  },
  {
   "cell_type": "markdown",
   "metadata": {},
   "source": [
    "Iterative version"
   ]
  },
  {
   "cell_type": "code",
   "execution_count": 64,
   "metadata": {},
   "outputs": [
    {
     "data": {
      "text/plain": [
       "5"
      ]
     },
     "execution_count": 64,
     "metadata": {},
     "output_type": "execute_result"
    }
   ],
   "source": [
    "def get_max(number: int) -> int:\n",
    "    max = number % 10\n",
    "    while number != 0:\n",
    "        remainder = number % 10\n",
    "        if remainder > max:\n",
    "            max = remainder\n",
    "        number = number // 10\n",
    "    return max\n",
    "\n",
    "get_max(52440)"
   ]
  },
  {
   "cell_type": "markdown",
   "metadata": {},
   "source": [
    "Recursive version"
   ]
  },
  {
   "cell_type": "code",
   "execution_count": 37,
   "metadata": {},
   "outputs": [
    {
     "data": {
      "text/plain": [
       "8"
      ]
     },
     "execution_count": 37,
     "metadata": {},
     "output_type": "execute_result"
    }
   ],
   "source": [
    "def get_max(number: int) -> int:\n",
    "    if is_one_digit(number):\n",
    "        return number\n",
    "    else:\n",
    "        return max(number % 10, get_max(number // 10))"
   ]
  },
  {
   "cell_type": "markdown",
   "metadata": {},
   "source": [
    "### Write a function that returns the minimum digit in a given natural number N."
   ]
  },
  {
   "cell_type": "markdown",
   "metadata": {},
   "source": [
    "Iterative version"
   ]
  },
  {
   "cell_type": "code",
   "execution_count": 66,
   "metadata": {},
   "outputs": [],
   "source": [
    "def get_minimum(number: int) -> int:\n",
    "    min = number % 10\n",
    "    while number != 0:\n",
    "        remainder = number % 10\n",
    "        if remainder < min:\n",
    "            min = remainder\n",
    "        number = number // 10\n",
    "    return min"
   ]
  },
  {
   "cell_type": "markdown",
   "metadata": {},
   "source": [
    "Recursive version"
   ]
  },
  {
   "cell_type": "code",
   "execution_count": null,
   "metadata": {},
   "outputs": [],
   "source": []
  },
  {
   "cell_type": "markdown",
   "metadata": {},
   "source": [
    "Write a function that calculates the sum of the first N squares."
   ]
  },
  {
   "cell_type": "code",
   "execution_count": 65,
   "metadata": {},
   "outputs": [],
   "source": [
    "def sum_squares(number: int) -> int:\n",
    "    counter = 1\n",
    "    sum = 0\n",
    "    while counter <= number:\n",
    "        sum = sum + power(counter, 2)\n",
    "        counter = counter + 1\n",
    "    return sum\n",
    "\n"
   ]
  },
  {
   "cell_type": "markdown",
   "metadata": {},
   "source": [
    "Write a function that counts the number of digits greater than or equal to a\n",
    "given digit d in a given natural number N."
   ]
  },
  {
   "cell_type": "code",
   "execution_count": 67,
   "metadata": {},
   "outputs": [
    {
     "data": {
      "text/plain": [
       "5"
      ]
     },
     "execution_count": 67,
     "metadata": {},
     "output_type": "execute_result"
    }
   ],
   "source": [
    "def count_if(number: int, digit: int) -> int:\n",
    "    counter = 0\n",
    "    while number != 0:\n",
    "        remainder = number % 10\n",
    "        if remainder >= digit:\n",
    "            counter = counter + 1\n",
    "        number = number // 10\n",
    "    return counter"
   ]
  },
  {
   "cell_type": "markdown",
   "metadata": {},
   "source": [
    "Write a function that computes the logarithm of a given natural number N\n",
    "in a given base b."
   ]
  },
  {
   "cell_type": "code",
   "execution_count": 72,
   "metadata": {},
   "outputs": [
    {
     "data": {
      "text/plain": [
       "6"
      ]
     },
     "execution_count": 72,
     "metadata": {},
     "output_type": "execute_result"
    }
   ],
   "source": [
    "def log(number: int, base: int) -> int:\n",
    "    counter = 0\n",
    "    while number > 1: # only keep dividing as long the number is not 1 or below 1\n",
    "        counter = counter + 1\n",
    "        number = number // base\n",
    "    return counter\n",
    "\n",
    "log(100, 2)"
   ]
  },
  {
   "cell_type": "markdown",
   "metadata": {},
   "source": [
    "Write a function div which, given two positive integers a and\n",
    "b, return the quotient"
   ]
  },
  {
   "cell_type": "code",
   "execution_count": 76,
   "metadata": {},
   "outputs": [
    {
     "data": {
      "text/plain": [
       "7"
      ]
     },
     "execution_count": 76,
     "metadata": {},
     "output_type": "execute_result"
    }
   ],
   "source": [
    "def div(number: int, denominator: int) -> int:\n",
    "    counter = 0\n",
    "    while number >= denominator:\n",
    "        counter = counter + 1\n",
    "        number = number - denominator\n",
    "    return counter\n",
    "\n",
    "div(15, 2)"
   ]
  },
  {
   "cell_type": "markdown",
   "metadata": {},
   "source": [
    "Write a function mod which, given two positive integers a and\n",
    "b, return the quotient"
   ]
  },
  {
   "cell_type": "code",
   "execution_count": 83,
   "metadata": {},
   "outputs": [
    {
     "data": {
      "text/plain": [
       "1"
      ]
     },
     "execution_count": 83,
     "metadata": {},
     "output_type": "execute_result"
    }
   ],
   "source": [
    "def mod(number: int, divisor: int) -> int:\n",
    "    while number >= divisor:\n",
    "        number = number - divisor\n",
    "    return number\n",
    "\n",
    "mod(13, 2)"
   ]
  },
  {
   "cell_type": "markdown",
   "metadata": {},
   "source": [
    "Write a function that takes in a natural number N in decimal base and\n",
    "returns the number of bits set to 1 in its binary representation"
   ]
  },
  {
   "cell_type": "code",
   "execution_count": 86,
   "metadata": {},
   "outputs": [
    {
     "data": {
      "text/plain": [
       "3"
      ]
     },
     "execution_count": 86,
     "metadata": {},
     "output_type": "execute_result"
    }
   ],
   "source": [
    "def count_ones(number: int) -> int:\n",
    "    counter = 0\n",
    "    while number != 0:\n",
    "        remainder = number % 2\n",
    "        if remainder == 1:\n",
    "            counter = counter + 1\n",
    "        number = number // 2\n",
    "    return counter\n",
    "\n",
    "count_ones(7)"
   ]
  },
  {
   "cell_type": "markdown",
   "metadata": {},
   "source": [
    "a recursive function that returns odd numbers"
   ]
  },
  {
   "cell_type": "code",
   "execution_count": 16,
   "metadata": {},
   "outputs": [],
   "source": [
    "def count_evens(number: int) -> int:\n",
    "    if is_one_digit(number):\n",
    "        return 1 if is_even(number) else 0\n",
    "    elif is_even(number % 10): # is the digit I am seeing even? If so add 1\n",
    "        return 1 + count_evens(number // 10)\n",
    "    else:\n",
    "        return 0 + count_evens(number // 10)\n"
   ]
  },
  {
   "cell_type": "markdown",
   "metadata": {},
   "source": [
    "11 "
   ]
  },
  {
   "cell_type": "markdown",
   "metadata": {},
   "source": []
  },
  {
   "cell_type": "code",
   "execution_count": 37,
   "metadata": {},
   "outputs": [
    {
     "name": "stdout",
     "output_type": "stream",
     "text": [
      "1\n",
      "2\n",
      "fizz\n",
      "4\n",
      "5\n",
      "fizz\n",
      "7\n",
      "8\n",
      "fizz\n",
      "10\n",
      "11\n",
      "fizz\n",
      "13\n",
      "14\n",
      "fizz\n",
      "16\n",
      "17\n",
      "fizz\n",
      "19\n",
      "20\n",
      "fizz\n",
      "22\n",
      "23\n",
      "fizz\n",
      "25\n",
      "26\n",
      "fizz\n",
      "28\n",
      "29\n",
      "fizz\n"
     ]
    }
   ],
   "source": [
    "for number in range(1, 31):\n",
    "    if number % 3 == 0:\n",
    "        print('fizz')\n",
    "    else:\n",
    "        print(number)"
   ]
  },
  {
   "cell_type": "code",
   "execution_count": 36,
   "metadata": {},
   "outputs": [
    {
     "name": "stdout",
     "output_type": "stream",
     "text": [
      "12345"
     ]
    }
   ],
   "source": [
    "for number in range(1, 6):\n",
    "    print(number, sep='a', end='')"
   ]
  },
  {
   "cell_type": "code",
   "execution_count": 16,
   "metadata": {},
   "outputs": [
    {
     "name": "stdout",
     "output_type": "stream",
     "text": [
      "Help on built-in function print in module builtins:\n",
      "\n",
      "print(*args, sep=' ', end='\\n', file=None, flush=False)\n",
      "    Prints the values to a stream, or to sys.stdout by default.\n",
      "    \n",
      "    sep\n",
      "      string inserted between values, default a space.\n",
      "    end\n",
      "      string appended after the last value, default a newline.\n",
      "    file\n",
      "      a file-like object (stream); defaults to the current sys.stdout.\n",
      "    flush\n",
      "      whether to forcibly flush the stream.\n",
      "\n"
     ]
    }
   ],
   "source": [
    "help(print)"
   ]
  },
  {
   "cell_type": "code",
   "execution_count": null,
   "metadata": {},
   "outputs": [],
   "source": []
  }
 ],
 "metadata": {
  "kernelspec": {
   "display_name": "Python 3",
   "language": "python",
   "name": "python3"
  },
  "language_info": {
   "codemirror_mode": {
    "name": "ipython",
    "version": 3
   },
   "file_extension": ".py",
   "mimetype": "text/x-python",
   "name": "python",
   "nbconvert_exporter": "python",
   "pygments_lexer": "ipython3",
   "version": "3.11.4"
  },
  "orig_nbformat": 4
 },
 "nbformat": 4,
 "nbformat_minor": 2
}
