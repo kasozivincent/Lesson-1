{
 "cells": [
  {
   "cell_type": "markdown",
   "metadata": {},
   "source": [
    "### Imports"
   ]
  },
  {
   "cell_type": "code",
   "execution_count": 1,
   "metadata": {},
   "outputs": [],
   "source": [
    "from utilities import *"
   ]
  },
  {
   "cell_type": "markdown",
   "metadata": {},
   "source": [
    "### Write an algorithm that computes the sum of the first N natural numbers"
   ]
  },
  {
   "cell_type": "markdown",
   "metadata": {},
   "source": [
    "Iterative version"
   ]
  },
  {
   "cell_type": "code",
   "execution_count": 2,
   "metadata": {},
   "outputs": [],
   "source": [
    "#this is a function definition\n",
    "def sum(number: int) -> int:\n",
    "    counter: int = 1\n",
    "    sum: int = 0\n",
    "\n",
    "    while counter <= number:\n",
    "      sum = sum + counter\n",
    "      counter = counter + 1\n",
    "    return sum\n"
   ]
  },
  {
   "cell_type": "markdown",
   "metadata": {},
   "source": [
    "Recursive version"
   ]
  },
  {
   "cell_type": "code",
   "execution_count": 3,
   "metadata": {},
   "outputs": [
    {
     "data": {
      "text/plain": [
       "15"
      ]
     },
     "execution_count": 3,
     "metadata": {},
     "output_type": "execute_result"
    }
   ],
   "source": [
    "def sum_rec(number: int) -> int:\n",
    "    if number == 1: return 1\n",
    "    else: return number + sum_rec(number - 1)\n",
    "\n",
    "sum_rec(5)"
   ]
  },
  {
   "cell_type": "markdown",
   "metadata": {},
   "source": [
    "List version"
   ]
  },
  {
   "cell_type": "code",
   "execution_count": 4,
   "metadata": {},
   "outputs": [],
   "source": [
    "def sum_list(number: int) -> int:\n",
    "    sum = 0\n",
    "    for number in range(1, number + 1):\n",
    "        sum = sum + number\n",
    "    return sum"
   ]
  },
  {
   "cell_type": "markdown",
   "metadata": {},
   "source": [
    "### Write an algorithm that computes the factorial of a positive number N"
   ]
  },
  {
   "cell_type": "markdown",
   "metadata": {},
   "source": [
    "Iterative version"
   ]
  },
  {
   "cell_type": "code",
   "execution_count": 5,
   "metadata": {},
   "outputs": [],
   "source": [
    "#this is a function definition\n",
    "def factorial(number: int) -> int:\n",
    "    counter = 1\n",
    "    fact = 1\n",
    "    while counter <= number:\n",
    "       fact = fact * counter\n",
    "       counter = counter + 1\n",
    "    return fact"
   ]
  },
  {
   "cell_type": "markdown",
   "metadata": {},
   "source": [
    "Recursive version"
   ]
  },
  {
   "cell_type": "code",
   "execution_count": 6,
   "metadata": {},
   "outputs": [],
   "source": [
    "def factorial(number: int) -> int:\n",
    "    if number == 1:\n",
    "        return 1\n",
    "    else:\n",
    "        return number * factorial(number - 1)"
   ]
  },
  {
   "cell_type": "markdown",
   "metadata": {},
   "source": [
    "List version"
   ]
  },
  {
   "cell_type": "code",
   "execution_count": 7,
   "metadata": {},
   "outputs": [],
   "source": [
    "def factorial(number: int) -> int:\n",
    "    product = 1\n",
    "    for number in range(1, number + 1):\n",
    "        product = product * number\n",
    "    return product"
   ]
  },
  {
   "cell_type": "markdown",
   "metadata": {},
   "source": [
    "### Write an algorithm that counts the number of digits in a given natural number N."
   ]
  },
  {
   "cell_type": "markdown",
   "metadata": {},
   "source": [
    "Iterative version"
   ]
  },
  {
   "cell_type": "code",
   "execution_count": 8,
   "metadata": {},
   "outputs": [],
   "source": [
    "def count_digits(number: int) -> int:\n",
    "    counter = 0\n",
    "    while number != 0:\n",
    "        number = number // 10\n",
    "        counter = counter + 1\n",
    "    return counter"
   ]
  },
  {
   "cell_type": "markdown",
   "metadata": {},
   "source": [
    "Recursive version"
   ]
  },
  {
   "cell_type": "code",
   "execution_count": 9,
   "metadata": {},
   "outputs": [
    {
     "data": {
      "text/plain": [
       "4"
      ]
     },
     "execution_count": 9,
     "metadata": {},
     "output_type": "execute_result"
    }
   ],
   "source": [
    "def count_digits(number: int) -> int:\n",
    "    if is_one_digit(number): return 1\n",
    "    else:\n",
    "        return 1 + count_digits(number // 10)\n",
    "count_digits(4578)"
   ]
  },
  {
   "cell_type": "markdown",
   "metadata": {},
   "source": [
    "List version"
   ]
  },
  {
   "cell_type": "code",
   "execution_count": 10,
   "metadata": {},
   "outputs": [],
   "source": [
    "from typing import List\n",
    "def count_items(sequence: List[int]) -> int:\n",
    "    count = 0\n",
    "    for item in sequence:\n",
    "        count = count + 1\n",
    "    return count"
   ]
  },
  {
   "cell_type": "markdown",
   "metadata": {},
   "source": [
    "### Write an algorithm that counts the even digits in a given natural number N."
   ]
  },
  {
   "cell_type": "markdown",
   "metadata": {},
   "source": [
    "Iterative version"
   ]
  },
  {
   "cell_type": "code",
   "execution_count": 11,
   "metadata": {},
   "outputs": [],
   "source": [
    "def count_evens(number: int):\n",
    "    num_evens = 0\n",
    "    while number != 0:\n",
    "        remainder = number % 10\n",
    "        if is_even(remainder): \n",
    "            num_evens = num_evens + 1\n",
    "        else: \n",
    "            pass\n",
    "        number = number // 10\n",
    "    return num_evens"
   ]
  },
  {
   "cell_type": "markdown",
   "metadata": {},
   "source": [
    "Recursive version"
   ]
  },
  {
   "cell_type": "code",
   "execution_count": 12,
   "metadata": {},
   "outputs": [
    {
     "data": {
      "text/plain": [
       "3"
      ]
     },
     "execution_count": 12,
     "metadata": {},
     "output_type": "execute_result"
    }
   ],
   "source": [
    "def count_evens(number: int) -> int:\n",
    "    if is_one_digit(number):\n",
    "        return 1 if is_even(number) else 0\n",
    "    elif is_even(number % 10): # is the digit I am seeing even? If so add 1\n",
    "        return 1 + count_evens(number // 10)\n",
    "    else:\n",
    "        return 0 + count_evens(number // 10)\n",
    "\n",
    "count_evens(78654)\n"
   ]
  },
  {
   "cell_type": "markdown",
   "metadata": {},
   "source": [
    "List version"
   ]
  },
  {
   "cell_type": "code",
   "execution_count": 13,
   "metadata": {},
   "outputs": [],
   "source": [
    "def count_evens(sequence: List[int]) -> int:\n",
    "    result = 0\n",
    "    for number in sequence:\n",
    "        if is_even(number):\n",
    "            result = result + 1\n",
    "    return result\n"
   ]
  },
  {
   "cell_type": "markdown",
   "metadata": {},
   "source": [
    "### Write an algorithm that computes the sum of digits in a given natural number N"
   ]
  },
  {
   "cell_type": "markdown",
   "metadata": {},
   "source": [
    "Iterative version"
   ]
  },
  {
   "cell_type": "code",
   "execution_count": 14,
   "metadata": {},
   "outputs": [],
   "source": [
    "def sum_digits(number: int) -> int:\n",
    "    summation = 0\n",
    "    while number != 0:\n",
    "        remainder = number % 10\n",
    "        summation = summation + remainder\n",
    "        number = number // 10\n",
    "    return summation"
   ]
  },
  {
   "cell_type": "markdown",
   "metadata": {},
   "source": [
    "Recursive version"
   ]
  },
  {
   "cell_type": "code",
   "execution_count": 15,
   "metadata": {},
   "outputs": [
    {
     "data": {
      "text/plain": [
       "27"
      ]
     },
     "execution_count": 15,
     "metadata": {},
     "output_type": "execute_result"
    }
   ],
   "source": [
    "def sum_digits(number: int) -> int:\n",
    "    if is_one_digit(number):\n",
    "        return number\n",
    "    else:\n",
    "        return get_last_digit(number) + sum_digits(number // 10)\n",
    "\n",
    "sum_digits(65790)"
   ]
  },
  {
   "cell_type": "markdown",
   "metadata": {},
   "source": [
    "List version"
   ]
  },
  {
   "cell_type": "code",
   "execution_count": 16,
   "metadata": {},
   "outputs": [],
   "source": [
    "def compute_sum(seqence: List[int]) -> int:\n",
    "    sum = 0\n",
    "    for number in seqence:\n",
    "        sum = sum + number\n",
    "    return sum"
   ]
  },
  {
   "cell_type": "markdown",
   "metadata": {},
   "source": [
    "### write an algorithm that counts the number of odd digits in a number"
   ]
  },
  {
   "cell_type": "markdown",
   "metadata": {},
   "source": [
    "Iterative version"
   ]
  },
  {
   "cell_type": "code",
   "execution_count": 17,
   "metadata": {},
   "outputs": [],
   "source": [
    "def count_odds(number: int) -> int:\n",
    "    count = 0\n",
    "    while number != 0:\n",
    "        remainder = number % 10\n",
    "        if is_odd(remainder):\n",
    "            count = count + 1\n",
    "        number = number // 10\n",
    "    return count"
   ]
  },
  {
   "cell_type": "markdown",
   "metadata": {},
   "source": [
    "Recursive version"
   ]
  },
  {
   "cell_type": "code",
   "execution_count": 18,
   "metadata": {},
   "outputs": [
    {
     "data": {
      "text/plain": [
       "3"
      ]
     },
     "execution_count": 18,
     "metadata": {},
     "output_type": "execute_result"
    }
   ],
   "source": [
    "def count_odds(number : int ) -> int:\n",
    "    if is_one_digit(number):\n",
    "        return 1 if is_odd(number) else 0\n",
    "    elif is_odd(number % 10):\n",
    "        return 1 + count_odds(number//10)\n",
    "    else:\n",
    "        return 0 + count_odds(number//10)\n",
    "count_odds(333)"
   ]
  },
  {
   "cell_type": "markdown",
   "metadata": {},
   "source": [
    "List version"
   ]
  },
  {
   "cell_type": "code",
   "execution_count": 19,
   "metadata": {},
   "outputs": [],
   "source": [
    "def count_odds(sequence: List[int]) -> int:\n",
    "    count = 0\n",
    "    for number in sequence:\n",
    "        if is_odd(number):\n",
    "            count = count + 1\n",
    "    return count"
   ]
  },
  {
   "cell_type": "markdown",
   "metadata": {},
   "source": [
    "### Write an algorithm that computes the sum of even digits in a given natural number N"
   ]
  },
  {
   "cell_type": "markdown",
   "metadata": {},
   "source": [
    "Iterative version"
   ]
  },
  {
   "cell_type": "code",
   "execution_count": 20,
   "metadata": {},
   "outputs": [],
   "source": [
    "def sum_evens(number: int) -> int:\n",
    "    sum = 0\n",
    "    while number != 0:\n",
    "        remainder = number % 10\n",
    "        if is_even(remainder):\n",
    "            sum = sum + remainder\n",
    "        number = number // 10\n",
    "    return sum"
   ]
  },
  {
   "cell_type": "markdown",
   "metadata": {},
   "source": [
    "Recursive version"
   ]
  },
  {
   "cell_type": "code",
   "execution_count": 21,
   "metadata": {},
   "outputs": [],
   "source": [
    "def sum_evens(number: int) -> int:\n",
    "    if is_one_digit(number):\n",
    "        return number if is_even(number) else 0\n",
    "    elif is_even(get_last_digit(number)):\n",
    "        return get_last_digit(number) + sum_evens(number // 10)\n",
    "    else:\n",
    "        return 0 + sum_evens(number // 10)"
   ]
  },
  {
   "cell_type": "markdown",
   "metadata": {},
   "source": [
    "List version"
   ]
  },
  {
   "cell_type": "code",
   "execution_count": null,
   "metadata": {},
   "outputs": [],
   "source": []
  },
  {
   "cell_type": "markdown",
   "metadata": {},
   "source": [
    "### Write a function that checks if a given natural number N contains a given digit d."
   ]
  },
  {
   "cell_type": "markdown",
   "metadata": {},
   "source": [
    "Iterative version"
   ]
  },
  {
   "cell_type": "code",
   "execution_count": 22,
   "metadata": {},
   "outputs": [],
   "source": [
    "def contains(number: int, digit: int) -> bool:\n",
    "    while number != 0:\n",
    "        remainder = number % 10 # we grab the right most digit\n",
    "        if remainder == digit: #we check to see if it is equal to what we are looking for.\n",
    "            return True # we stop the search\n",
    "        number = number // 10\n",
    "    return False"
   ]
  },
  {
   "cell_type": "markdown",
   "metadata": {},
   "source": [
    "Recursive version"
   ]
  },
  {
   "cell_type": "code",
   "execution_count": 23,
   "metadata": {},
   "outputs": [],
   "source": [
    "def contains(number: int, digit: int) -> bool:\n",
    "    if is_one_digit(number):\n",
    "        return number == digit\n",
    "    else:\n",
    "        return (get_last_digit(number) == digit) or contains(number // 10, digit)"
   ]
  },
  {
   "cell_type": "markdown",
   "metadata": {},
   "source": [
    "List version"
   ]
  },
  {
   "cell_type": "code",
   "execution_count": 24,
   "metadata": {},
   "outputs": [],
   "source": [
    "def contains(sequence: List[int], key: int) -> bool:\n",
    "    for number in sequence:\n",
    "        if number == key:\n",
    "            return True\n",
    "    return False"
   ]
  },
  {
   "cell_type": "markdown",
   "metadata": {},
   "source": [
    "### Write a function that computes the power function."
   ]
  },
  {
   "cell_type": "markdown",
   "metadata": {},
   "source": [
    "Iterative version"
   ]
  },
  {
   "cell_type": "code",
   "execution_count": 25,
   "metadata": {},
   "outputs": [],
   "source": [
    "def power(base: int, exponent: int) -> int:\n",
    "    result = 1\n",
    "    while exponent > 0:\n",
    "       result = result * base\n",
    "       exponent = exponent - 1\n",
    "    return result"
   ]
  },
  {
   "cell_type": "markdown",
   "metadata": {},
   "source": [
    "Recursive version"
   ]
  },
  {
   "cell_type": "code",
   "execution_count": 26,
   "metadata": {},
   "outputs": [],
   "source": [
    "def power(base: int, exponent: int) -> int:\n",
    "    if exponent == 1:\n",
    "        return base\n",
    "    else:\n",
    "        return base * power(base, exponent - 1)"
   ]
  },
  {
   "cell_type": "markdown",
   "metadata": {},
   "source": [
    "### Write a function that computes the multiplication function."
   ]
  },
  {
   "cell_type": "markdown",
   "metadata": {},
   "source": [
    "Iterative version"
   ]
  },
  {
   "cell_type": "code",
   "execution_count": 27,
   "metadata": {},
   "outputs": [],
   "source": [
    "def multiply(first: int, second: int) -> int:\n",
    "    result = 0\n",
    "    while second > 0:\n",
    "        result = result + first\n",
    "        second = second - 1\n",
    "    return result\n"
   ]
  },
  {
   "cell_type": "markdown",
   "metadata": {},
   "source": [
    "Recursive version"
   ]
  },
  {
   "cell_type": "code",
   "execution_count": 28,
   "metadata": {},
   "outputs": [],
   "source": [
    "def multiply(first: int, second: int) -> int:\n",
    "    if second == 1:\n",
    "        return first\n",
    "    else:\n",
    "        return first + multiply(first, second - 1)"
   ]
  },
  {
   "cell_type": "markdown",
   "metadata": {},
   "source": [
    "### Write a function that returns the reverse of a given natural number N ."
   ]
  },
  {
   "cell_type": "markdown",
   "metadata": {},
   "source": [
    "Iterative version"
   ]
  },
  {
   "cell_type": "code",
   "execution_count": 29,
   "metadata": {},
   "outputs": [],
   "source": [
    "def reverse(number: int) -> int:\n",
    "    rev = 0\n",
    "    while number != 0:\n",
    "        remainder = number % 10\n",
    "        rev = rev * 10 + remainder\n",
    "        number = number // 10\n",
    "    return rev"
   ]
  },
  {
   "cell_type": "markdown",
   "metadata": {},
   "source": [
    "Recursive version"
   ]
  },
  {
   "cell_type": "code",
   "execution_count": 30,
   "metadata": {},
   "outputs": [],
   "source": [
    "def foo(number: int) -> int:\n",
    "    num = count_digits(number)\n",
    "    return power(10, num)\n",
    "\n",
    "\n",
    "def reverse(number: int) -> int:\n",
    "    if is_one_digit(number):\n",
    "        return number\n",
    "    else:\n",
    "        return foo(number // 10) * (number % 10) + reverse(number // 10)"
   ]
  },
  {
   "cell_type": "markdown",
   "metadata": {},
   "source": [
    "### Write a function that checks if a given natural number N is Armstrong "
   ]
  },
  {
   "cell_type": "markdown",
   "metadata": {},
   "source": [
    "Iterative version"
   ]
  },
  {
   "cell_type": "code",
   "execution_count": 31,
   "metadata": {},
   "outputs": [
    {
     "data": {
      "text/plain": [
       "False"
      ]
     },
     "execution_count": 31,
     "metadata": {},
     "output_type": "execute_result"
    }
   ],
   "source": [
    "def is_armstrong(number: int) -> bool:\n",
    "    num = count_digits(number) # compute the number of digits\n",
    "    temp = number # make a copy so that we can compare later\n",
    "    sum = 0\n",
    "    while temp != 0:\n",
    "        remainder = temp % 10\n",
    "        sum = sum + power(remainder, num)\n",
    "        temp = temp // 10\n",
    "    return number == sum # we check if the sum is == to the original number\n",
    "is_armstrong(8408)"
   ]
  },
  {
   "cell_type": "markdown",
   "metadata": {},
   "source": [
    "Recursive version"
   ]
  },
  {
   "cell_type": "code",
   "execution_count": 32,
   "metadata": {},
   "outputs": [
    {
     "data": {
      "text/plain": [
       "True"
      ]
     },
     "execution_count": 32,
     "metadata": {},
     "output_type": "execute_result"
    }
   ],
   "source": [
    "def is_armstrong(number: int) -> bool:\n",
    "    return compute_sum(number, count_digits(number)) == number\n",
    "\n",
    "def compute_sum(number: int, num_digits: int) -> int:\n",
    "        if is_one_digit(number):\n",
    "            return power(number, num_digits) \n",
    "        else:\n",
    "            return power((number % 10), num_digits) + compute_sum(number // 10, num_digits)\n",
    "\n",
    "is_armstrong(153)"
   ]
  },
  {
   "cell_type": "markdown",
   "metadata": {},
   "source": [
    "### Write a function that returns the number of times a given digit appears in a given natural number N."
   ]
  },
  {
   "cell_type": "markdown",
   "metadata": {},
   "source": [
    "Iterative version"
   ]
  },
  {
   "cell_type": "code",
   "execution_count": 33,
   "metadata": {},
   "outputs": [],
   "source": [
    "def frequency(number: int, digit: int) -> int:\n",
    "   counter = 0\n",
    "   while number != 0:\n",
    "      remainder = number % 10\n",
    "      if remainder == digit:\n",
    "         counter = counter + 1\n",
    "      number = number // 10\n",
    "   return counter"
   ]
  },
  {
   "cell_type": "markdown",
   "metadata": {},
   "source": [
    "Recursive version"
   ]
  },
  {
   "cell_type": "code",
   "execution_count": 34,
   "metadata": {},
   "outputs": [
    {
     "data": {
      "text/plain": [
       "2"
      ]
     },
     "execution_count": 34,
     "metadata": {},
     "output_type": "execute_result"
    }
   ],
   "source": [
    "def frequency(number: int, digit: int) -> int:\n",
    "    if is_one_digit(number):\n",
    "        return 1 if number == digit else 0\n",
    "    elif get_last_digit(number) == digit:\n",
    "        return 1 + frequency(number // 10, digit)\n",
    "    else:\n",
    "        return 0 + frequency(number // 10, digit)\n",
    "frequency(5675, 5)"
   ]
  },
  {
   "cell_type": "markdown",
   "metadata": {},
   "source": [
    "### Write a program that calculates with how many zeroes the factorial of a given number ends."
   ]
  },
  {
   "cell_type": "markdown",
   "metadata": {},
   "source": [
    "Iterative version"
   ]
  },
  {
   "cell_type": "code",
   "execution_count": 35,
   "metadata": {},
   "outputs": [
    {
     "data": {
      "text/plain": [
       "0"
      ]
     },
     "execution_count": 35,
     "metadata": {},
     "output_type": "execute_result"
    }
   ],
   "source": [
    "def count_zeros(number: int) -> int:\n",
    "    counter = 0\n",
    "    fact = factorial(number)\n",
    "    while fact != 0:\n",
    "        remainder = fact % 10\n",
    "        if remainder == 0:\n",
    "            counter = counter + 1\n",
    "        else:\n",
    "            return counter\n",
    "        fact = fact // 10\n",
    "\n",
    "count_zeros(4)"
   ]
  },
  {
   "cell_type": "markdown",
   "metadata": {},
   "source": [
    "Recursive version"
   ]
  },
  {
   "cell_type": "code",
   "execution_count": 36,
   "metadata": {},
   "outputs": [],
   "source": [
    "def count_zeros(factorial: int) -> int:\n",
    "    if get_last_digit(factorial) != 0:\n",
    "        return 0\n",
    "    else:\n",
    "        return 1 + count_zeros(factorial // 10)"
   ]
  },
  {
   "cell_type": "markdown",
   "metadata": {},
   "source": [
    "Write a function that determines if a given natural number is prime "
   ]
  },
  {
   "cell_type": "code",
   "execution_count": 37,
   "metadata": {},
   "outputs": [],
   "source": [
    "from math import sqrt\n",
    "\n",
    "def is_prime(number: int) -> bool:\n",
    "    counter = 2\n",
    "    while counter < sqrt(number):\n",
    "        remainder = number % counter\n",
    "        if remainder == 0:\n",
    "            return False\n",
    "        counter = counter + 1\n",
    "    return True"
   ]
  },
  {
   "cell_type": "markdown",
   "metadata": {},
   "source": [
    "### Write a function that returns the maximum digit in a given natural number N."
   ]
  },
  {
   "cell_type": "markdown",
   "metadata": {},
   "source": [
    "Iterative version"
   ]
  },
  {
   "cell_type": "code",
   "execution_count": 38,
   "metadata": {},
   "outputs": [
    {
     "data": {
      "text/plain": [
       "5"
      ]
     },
     "execution_count": 38,
     "metadata": {},
     "output_type": "execute_result"
    }
   ],
   "source": [
    "def get_max(number: int) -> int:\n",
    "    max = number % 10\n",
    "    while number != 0:\n",
    "        remainder = number % 10\n",
    "        if remainder > max:\n",
    "            max = remainder\n",
    "        number = number // 10\n",
    "    return max\n",
    "\n",
    "get_max(52440)"
   ]
  },
  {
   "cell_type": "markdown",
   "metadata": {},
   "source": [
    "Recursive version"
   ]
  },
  {
   "cell_type": "code",
   "execution_count": 39,
   "metadata": {},
   "outputs": [],
   "source": [
    "def get_max(number: int) -> int:\n",
    "    if is_one_digit(number):\n",
    "        return number\n",
    "    else:\n",
    "        return max(number % 10, get_max(number // 10))"
   ]
  },
  {
   "cell_type": "markdown",
   "metadata": {},
   "source": [
    "### Write a function that returns the minimum digit in a given natural number N."
   ]
  },
  {
   "cell_type": "markdown",
   "metadata": {},
   "source": [
    "Iterative version"
   ]
  },
  {
   "cell_type": "code",
   "execution_count": 40,
   "metadata": {},
   "outputs": [],
   "source": [
    "def get_minimum(number: int) -> int:\n",
    "    min = number % 10\n",
    "    while number != 0:\n",
    "        remainder = number % 10\n",
    "        if remainder < min:\n",
    "            min = remainder\n",
    "        number = number // 10\n",
    "    return min"
   ]
  },
  {
   "cell_type": "markdown",
   "metadata": {},
   "source": [
    "Recursive version"
   ]
  },
  {
   "cell_type": "code",
   "execution_count": null,
   "metadata": {},
   "outputs": [],
   "source": []
  },
  {
   "cell_type": "markdown",
   "metadata": {},
   "source": [
    "### Write a function that calculates the sum of the first N squares."
   ]
  },
  {
   "cell_type": "markdown",
   "metadata": {},
   "source": [
    "Iterative version"
   ]
  },
  {
   "cell_type": "code",
   "execution_count": 41,
   "metadata": {},
   "outputs": [],
   "source": [
    "def sum_squares(number: int) -> int:\n",
    "    counter = 1\n",
    "    sum = 0\n",
    "    while counter <= number:\n",
    "        sum = sum + power(counter, 2)\n",
    "        counter = counter + 1\n",
    "    return sum\n",
    "\n"
   ]
  },
  {
   "cell_type": "markdown",
   "metadata": {},
   "source": [
    "Recursive version"
   ]
  },
  {
   "cell_type": "code",
   "execution_count": 42,
   "metadata": {},
   "outputs": [],
   "source": [
    "def sum_squares(number: int) -> int:\n",
    "    if number == 1:\n",
    "        return 1\n",
    "    else:\n",
    "        return power(number, 2) + sum_squares(number - 1)"
   ]
  },
  {
   "cell_type": "markdown",
   "metadata": {},
   "source": [
    "### Write a function that counts the number of digits greater than or equal to a given digit d in a given natural number N."
   ]
  },
  {
   "cell_type": "markdown",
   "metadata": {},
   "source": [
    "Iterative version"
   ]
  },
  {
   "cell_type": "code",
   "execution_count": 43,
   "metadata": {},
   "outputs": [],
   "source": [
    "def count_if(number: int, digit: int) -> int:\n",
    "    counter = 0\n",
    "    while number != 0:\n",
    "        remainder = number % 10\n",
    "        if remainder >= digit:\n",
    "            counter = counter + 1\n",
    "        number = number // 10\n",
    "    return counter"
   ]
  },
  {
   "cell_type": "markdown",
   "metadata": {},
   "source": [
    "Recursive version"
   ]
  },
  {
   "cell_type": "code",
   "execution_count": 44,
   "metadata": {},
   "outputs": [
    {
     "data": {
      "text/plain": [
       "5"
      ]
     },
     "execution_count": 44,
     "metadata": {},
     "output_type": "execute_result"
    }
   ],
   "source": [
    "def count_if(number: int, digit: int) -> int:\n",
    "    if is_one_digit(number):\n",
    "        return 1 if number >= digit else 0\n",
    "    elif (number % 10) >= digit:\n",
    "        return 1 + count_if(number // 10, digit)\n",
    "    else:\n",
    "        return 0 + count_if(number // 10, digit)\n",
    "    \n",
    "count_if(658942, 4)"
   ]
  },
  {
   "cell_type": "markdown",
   "metadata": {},
   "source": [
    "### Write a function that computes the logarithm of a given natural number N in a given base b."
   ]
  },
  {
   "cell_type": "markdown",
   "metadata": {},
   "source": [
    "Iterative version"
   ]
  },
  {
   "cell_type": "code",
   "execution_count": 45,
   "metadata": {},
   "outputs": [
    {
     "data": {
      "text/plain": [
       "6"
      ]
     },
     "execution_count": 45,
     "metadata": {},
     "output_type": "execute_result"
    }
   ],
   "source": [
    "def log(number: int, base: int) -> int:\n",
    "    counter = 0\n",
    "    while number > 1: # only keep dividing as long the number is not 1 or below 1\n",
    "        counter = counter + 1\n",
    "        number = number // base\n",
    "    return counter\n",
    "log(100, 2)"
   ]
  },
  {
   "cell_type": "markdown",
   "metadata": {},
   "source": [
    "Recursive version"
   ]
  },
  {
   "cell_type": "code",
   "execution_count": 46,
   "metadata": {},
   "outputs": [],
   "source": [
    "def log(number: int, base: int) -> int:\n",
    "    if number <= 1:\n",
    "        return 0\n",
    "    else:\n",
    "        return 1 + log(number // 10, base)"
   ]
  },
  {
   "cell_type": "markdown",
   "metadata": {},
   "source": [
    "### Write a function div which, given two positive integers a and b, return the quotient"
   ]
  },
  {
   "cell_type": "markdown",
   "metadata": {},
   "source": [
    "Iterative version"
   ]
  },
  {
   "cell_type": "code",
   "execution_count": 47,
   "metadata": {},
   "outputs": [
    {
     "data": {
      "text/plain": [
       "7"
      ]
     },
     "execution_count": 47,
     "metadata": {},
     "output_type": "execute_result"
    }
   ],
   "source": [
    "def div(number: int, denominator: int) -> int:\n",
    "    counter = 0\n",
    "    while number >= denominator:\n",
    "        counter = counter + 1\n",
    "        number = number - denominator\n",
    "    return counter\n",
    "\n",
    "div(15, 2)"
   ]
  },
  {
   "cell_type": "markdown",
   "metadata": {},
   "source": [
    "Recursive version"
   ]
  },
  {
   "cell_type": "code",
   "execution_count": 48,
   "metadata": {},
   "outputs": [],
   "source": [
    "def div(number: int, divisor: int) -> int:\n",
    "    if number < divisor:\n",
    "        return 0\n",
    "    else:\n",
    "        return 1 + div(number - divisor, divisor)"
   ]
  },
  {
   "cell_type": "markdown",
   "metadata": {},
   "source": [
    "### Write a function mod which, given two positive integers a and b, return the quotient"
   ]
  },
  {
   "cell_type": "markdown",
   "metadata": {},
   "source": [
    "Iterative version"
   ]
  },
  {
   "cell_type": "code",
   "execution_count": 49,
   "metadata": {},
   "outputs": [
    {
     "data": {
      "text/plain": [
       "4"
      ]
     },
     "execution_count": 49,
     "metadata": {},
     "output_type": "execute_result"
    }
   ],
   "source": [
    "def mod(number: int, divisor: int) -> int:\n",
    "    while number >= divisor:\n",
    "        number = number - divisor\n",
    "    return number\n",
    "\n",
    "mod(13, 2)\n",
    "\n",
    "\n",
    "4 % 10"
   ]
  },
  {
   "cell_type": "markdown",
   "metadata": {},
   "source": [
    "Recursive version"
   ]
  },
  {
   "cell_type": "code",
   "execution_count": 50,
   "metadata": {},
   "outputs": [],
   "source": [
    "def mod(number: int, divisor: int) -> int:\n",
    "    if number < divisor:\n",
    "        return number\n",
    "    else:\n",
    "        return mod(number - divisor, divisor)"
   ]
  },
  {
   "cell_type": "markdown",
   "metadata": {},
   "source": [
    "Write a function that takes in a natural number N in decimal base and\n",
    "returns the number of bits set to 1 in its binary representation"
   ]
  },
  {
   "cell_type": "code",
   "execution_count": 51,
   "metadata": {},
   "outputs": [
    {
     "data": {
      "text/plain": [
       "3"
      ]
     },
     "execution_count": 51,
     "metadata": {},
     "output_type": "execute_result"
    }
   ],
   "source": [
    "def count_ones(number: int) -> int:\n",
    "    counter = 0\n",
    "    while number != 0:\n",
    "        remainder = number % 2\n",
    "        if remainder == 1:\n",
    "            counter = counter + 1\n",
    "        number = number // 2\n",
    "    return counter\n",
    "\n",
    "count_ones(7)"
   ]
  },
  {
   "cell_type": "markdown",
   "metadata": {},
   "source": [
    "a recursive function that returns odd numbers"
   ]
  },
  {
   "cell_type": "code",
   "execution_count": 52,
   "metadata": {},
   "outputs": [],
   "source": [
    "def count_evens(number: int) -> int:\n",
    "    if is_one_digit(number):\n",
    "        return 1 if is_even(number) else 0\n",
    "    elif is_even(number % 10): # is the digit I am seeing even? If so add 1\n",
    "        return 1 + count_evens(number // 10)\n",
    "    else:\n",
    "        return 0 + count_evens(number // 10)\n"
   ]
  },
  {
   "cell_type": "markdown",
   "metadata": {},
   "source": [
    "## Matrices in python"
   ]
  },
  {
   "cell_type": "markdown",
   "metadata": {},
   "source": [
    "### Representation of matrices in python"
   ]
  },
  {
   "cell_type": "code",
   "execution_count": 53,
   "metadata": {},
   "outputs": [],
   "source": [
    "matrix = [[1, 2, 3], \n",
    "          [4, 5, 6], \n",
    "          [7, 8, 9]]"
   ]
  },
  {
   "cell_type": "markdown",
   "metadata": {},
   "source": [
    "### Printing each row in a matrix"
   ]
  },
  {
   "cell_type": "code",
   "execution_count": 54,
   "metadata": {},
   "outputs": [
    {
     "name": "stdout",
     "output_type": "stream",
     "text": [
      "[1, 2, 3]\n",
      "[4, 5, 6]\n",
      "[7, 8, 9]\n"
     ]
    }
   ],
   "source": [
    "for row in matrix:\n",
    "    print(row)"
   ]
  },
  {
   "cell_type": "markdown",
   "metadata": {},
   "source": [
    "### Printing the first column in every row"
   ]
  },
  {
   "cell_type": "code",
   "execution_count": 55,
   "metadata": {},
   "outputs": [
    {
     "name": "stdout",
     "output_type": "stream",
     "text": [
      "1\n",
      "4\n",
      "7\n"
     ]
    }
   ],
   "source": [
    "for row in matrix:\n",
    "    print(row[0])"
   ]
  },
  {
   "cell_type": "markdown",
   "metadata": {},
   "source": [
    "### Printing the second column in every row"
   ]
  },
  {
   "cell_type": "code",
   "execution_count": 56,
   "metadata": {},
   "outputs": [],
   "source": [
    "def print_row(matrix) -> None:\n",
    "  for row in matrix:\n",
    "    print(row[1])"
   ]
  },
  {
   "cell_type": "markdown",
   "metadata": {},
   "source": [
    "### Printing the diagonal of a square matrix"
   ]
  },
  {
   "cell_type": "code",
   "execution_count": 97,
   "metadata": {},
   "outputs": [
    {
     "name": "stdout",
     "output_type": "stream",
     "text": [
      "1 5 9 "
     ]
    }
   ],
   "source": [
    "def print_diagonal(matrix) -> None:\n",
    "    for (idx, _) in enumerate(matrix):\n",
    "        print(matrix[idx][idx], end=' ')\n",
    "\n",
    "print_diagonal(matrix)"
   ]
  },
  {
   "cell_type": "markdown",
   "metadata": {},
   "source": [
    "### Function that computes the sum of entries on the major diagonal"
   ]
  },
  {
   "cell_type": "code",
   "execution_count": 96,
   "metadata": {},
   "outputs": [
    {
     "data": {
      "text/plain": [
       "15"
      ]
     },
     "execution_count": 96,
     "metadata": {},
     "output_type": "execute_result"
    }
   ],
   "source": [
    "def compute_sum(matrix):\n",
    "    sum = 0\n",
    "    for (index, _) in enumerate(matrix):\n",
    "        sum = sum + matrix[index][index]\n",
    "    return sum\n",
    "compute_sum(matrix)"
   ]
  },
  {
   "cell_type": "markdown",
   "metadata": {},
   "source": [
    "### Python built in types\n",
    "- int\n",
    "- float\n",
    "- bool\n",
    "- str\n",
    "- lists\n",
    "- sets\n",
    "- dictionaries\n",
    "- tuples"
   ]
  },
  {
   "cell_type": "code",
   "execution_count": 83,
   "metadata": {},
   "outputs": [
    {
     "name": "stdout",
     "output_type": "stream",
     "text": [
      "<class 'int'>\n",
      "<class 'float'>\n",
      "<class 'bool'>\n",
      "<class 'str'>\n",
      "['__add__', '__class__', '__contains__', '__delattr__', '__dir__', '__doc__', '__eq__', '__format__', '__ge__', '__getattribute__', '__getitem__', '__getnewargs__', '__getstate__', '__gt__', '__hash__', '__init__', '__init_subclass__', '__iter__', '__le__', '__len__', '__lt__', '__mod__', '__mul__', '__ne__', '__new__', '__reduce__', '__reduce_ex__', '__repr__', '__rmod__', '__rmul__', '__setattr__', '__sizeof__', '__str__', '__subclasshook__', 'capitalize', 'casefold', 'center', 'count', 'encode', 'endswith', 'expandtabs', 'find', 'format', 'format_map', 'index', 'isalnum', 'isalpha', 'isascii', 'isdecimal', 'isdigit', 'isidentifier', 'islower', 'isnumeric', 'isprintable', 'isspace', 'istitle', 'isupper', 'join', 'ljust', 'lower', 'lstrip', 'maketrans', 'partition', 'removeprefix', 'removesuffix', 'replace', 'rfind', 'rindex', 'rjust', 'rpartition', 'rsplit', 'rstrip', 'split', 'splitlines', 'startswith', 'strip', 'swapcase', 'title', 'translate', 'upper', 'zfill']\n",
      "<class 'list'>\n",
      "<class 'dict'>\n"
     ]
    }
   ],
   "source": [
    "from typing import Set, List, Tuple\n",
    "\n",
    "# int\n",
    "age: int = 20\n",
    "print(type(age))\n",
    "\n",
    "# float\n",
    "weight: float = 45.8\n",
    "print(type(weight))\n",
    "\n",
    "# bool\n",
    "is_girl: bool = True\n",
    "print(type(is_girl))\n",
    "# str\n",
    "name: str = 'Mirembe Vanessa'\n",
    "print(type(name))\n",
    "print(dir(name))\n",
    "\n",
    "# lists\n",
    "family: List[str] = ['Vanessa', \"Nsasiirwe\"]\n",
    "print(type(family))\n",
    "\n",
    "# sets\n",
    "cities: Set[str] = {'Ntinda', 'Bukoto'} \n",
    "\n",
    "# dictionaries\n",
    "student = {\n",
    "    'first name': 'Mirembe',\n",
    "    'second name': 'Vanessa',\n",
    "    'age': 20\n",
    "}\n",
    "\n",
    "print(type(student))\n",
    "\n",
    "point: Tuple[int, int, str] = (2, 8, 'ntinda')\n"
   ]
  },
  {
   "cell_type": "markdown",
   "metadata": {},
   "source": []
  }
 ],
 "metadata": {
  "kernelspec": {
   "display_name": "Python 3",
   "language": "python",
   "name": "python3"
  },
  "language_info": {
   "codemirror_mode": {
    "name": "ipython",
    "version": 3
   },
   "file_extension": ".py",
   "mimetype": "text/x-python",
   "name": "python",
   "nbconvert_exporter": "python",
   "pygments_lexer": "ipython3",
   "version": "3.11.4"
  },
  "orig_nbformat": 4
 },
 "nbformat": 4,
 "nbformat_minor": 2
}
