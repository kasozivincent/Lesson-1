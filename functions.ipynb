{
 "cells": [
  {
   "cell_type": "markdown",
   "metadata": {},
   "source": [
    "## Special Argument-Matching Mode"
   ]
  },
  {
   "cell_type": "markdown",
   "metadata": {},
   "source": [
    "Positionals: matched from left to right"
   ]
  },
  {
   "cell_type": "code",
   "execution_count": 16,
   "metadata": {},
   "outputs": [
    {
     "name": "stdout",
     "output_type": "stream",
     "text": [
      "dev vanessa\n"
     ]
    }
   ],
   "source": [
    "def foo(name, job): \n",
    "    print(name, job)\n",
    "\n",
    "foo('dev', 'vanessa')"
   ]
  },
  {
   "cell_type": "markdown",
   "metadata": {},
   "source": [
    "Keywords: matched by argument name"
   ]
  },
  {
   "cell_type": "code",
   "execution_count": 32,
   "metadata": {},
   "outputs": [
    {
     "name": "stdout",
     "output_type": "stream",
     "text": [
      "vanessa dev\n"
     ]
    }
   ],
   "source": [
    "def foo(*,name, job): \n",
    "    print(name, job)\n",
    "\n",
    "d = {\n",
    "    'job': 'doctor',\n",
    "    'name': 'ibrahim'\n",
    "}\n",
    "foo(job='dev', name='vanessa')"
   ]
  },
  {
   "cell_type": "markdown",
   "metadata": {},
   "source": [
    "Defaults: specify values for optional arguments that aren’t passed"
   ]
  },
  {
   "cell_type": "code",
   "execution_count": 14,
   "metadata": {},
   "outputs": [
    {
     "name": "stdout",
     "output_type": "stream",
     "text": [
      "1 5\n"
     ]
    }
   ],
   "source": [
    "def foo(a, b=2):\n",
    "    print(a, b)\n",
    "\n",
    "foo(1, 5)"
   ]
  },
  {
   "cell_type": "markdown",
   "metadata": {},
   "source": [
    "Varargs collecting: collect arbitrarily many positional or keyword arguments"
   ]
  },
  {
   "cell_type": "code",
   "execution_count": 25,
   "metadata": {},
   "outputs": [
    {
     "data": {
      "text/plain": [
       "12"
      ]
     },
     "execution_count": 25,
     "metadata": {},
     "output_type": "execute_result"
    }
   ],
   "source": [
    "def my_sum(*args): # In a function defn, * packs objects into a tuple\n",
    "    total = 0\n",
    "    for number in args:\n",
    "        total = total + number\n",
    "    return total\n",
    "\n",
    "def add(a, b): return a + b\n",
    "\n",
    "nums = [6, 6]\n",
    "add(*nums) # In a function call, * unpacks objects"
   ]
  },
  {
   "cell_type": "markdown",
   "metadata": {},
   "source": []
  }
 ],
 "metadata": {
  "kernelspec": {
   "display_name": "Python 3",
   "language": "python",
   "name": "python3"
  },
  "language_info": {
   "codemirror_mode": {
    "name": "ipython",
    "version": 3
   },
   "file_extension": ".py",
   "mimetype": "text/x-python",
   "name": "python",
   "nbconvert_exporter": "python",
   "pygments_lexer": "ipython3",
   "version": "3.11.4"
  },
  "orig_nbformat": 4
 },
 "nbformat": 4,
 "nbformat_minor": 2
}
