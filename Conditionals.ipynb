{
 "cells": [
  {
   "cell_type": "markdown",
   "metadata": {},
   "source": [
    "Write an algorithm that asks a user for a number and displays if the number is strictly positive or not"
   ]
  },
  {
   "cell_type": "code",
   "execution_count": null,
   "metadata": {},
   "outputs": [],
   "source": [
    "number: float = float(input('Insert the number: '))\n",
    "if number > 0:\n",
    "    print(f'{number} is strictly positive')\n",
    "elif number < 0:\n",
    "    print(f'{number} is negative')\n",
    "else:\n",
    "    print(f'{number} is zero')"
   ]
  },
  {
   "cell_type": "markdown",
   "metadata": {},
   "source": [
    "Write an algorithm that asks a user for two numbers m and n and display if their product is positive, negative or zero\n"
   ]
  },
  {
   "cell_type": "code",
   "execution_count": null,
   "metadata": {},
   "outputs": [],
   "source": [
    "m: float = float(input('Insert the number: '))\n",
    "n: float = float(input('Insert the number: '))\n",
    "\n",
    "if (m > 0) and (n > 0):\n",
    "    print(f'The product of {m} and {n} is positive')\n",
    "elif (m > 0) and (n < 0):\n",
    "    print(f'The product of {m} and {n} is negative')\n",
    "elif (m < 0) and (n > 0):\n",
    "    print(f'The product of {m} and {n} is negative')\n",
    "elif (m < 0) and (n < 0):\n",
    "    print(f'The product of {m} and {n} is positive')\n",
    "else:\n",
    "    print(f'The product of {m} and {n} is zero')"
   ]
  },
  {
   "cell_type": "markdown",
   "metadata": {},
   "source": [
    "write an algorithm that computes the absolute value of a number"
   ]
  },
  {
   "cell_type": "code",
   "execution_count": null,
   "metadata": {},
   "outputs": [],
   "source": [
    "number: float = float(input('Insert the number: '))\n",
    "if number >= 0:\n",
    "    print(f'The absolute value of {number} is {number}')\n",
    "else:\n",
    "    print(f'The absolute value of {number} is {-1 * number}')"
   ]
  },
  {
   "cell_type": "markdown",
   "metadata": {},
   "source": [
    "Write an algorithm that takes in a number and tests if it is between 0 and 20"
   ]
  },
  {
   "cell_type": "code",
   "execution_count": null,
   "metadata": {},
   "outputs": [],
   "source": [
    "number: int = int(input('Insert the number: '))\n",
    "if 0 <= number <= 20:\n",
    "    print(f'{number} is between 0 and 20')\n",
    "else:\n",
    "    print(f'{number} is not between 0 and 20')"
   ]
  },
  {
   "cell_type": "markdown",
   "metadata": {},
   "source": [
    "write an algorithm that takes in two numbers m and n and displays the maximum"
   ]
  },
  {
   "cell_type": "code",
   "execution_count": 4,
   "metadata": {},
   "outputs": [],
   "source": [
    "def maximum(m: float, n: float) -> float:\n",
    "    return m if m >= n else n"
   ]
  },
  {
   "cell_type": "markdown",
   "metadata": {},
   "source": [
    "write an algorithm that takes in the position of a month and returns the number of days in that month"
   ]
  },
  {
   "cell_type": "code",
   "execution_count": null,
   "metadata": {},
   "outputs": [],
   "source": [
    "month: int = int(input('Insert the month number'))\n",
    "if 1 <= month <= 12:\n",
    "    if month in [1, 3, 5, 7, 8, 10, 12]:\n",
    "        print('31 days')\n",
    "    elif month == 2:\n",
    "        print('29 or 28 days')\n",
    "    else:\n",
    "        print('30 days')\n",
    "else:\n",
    "    print('You input a wrong month position')"
   ]
  },
  {
   "cell_type": "markdown",
   "metadata": {},
   "source": [
    "write an algorithm that simulates an electronic calculator."
   ]
  },
  {
   "cell_type": "code",
   "execution_count": null,
   "metadata": {},
   "outputs": [],
   "source": [
    "m = float(input('insert the first number: '))\n",
    "n = float(input('insert the second number: '))\n",
    "operation = input('Insert the operation that you want to perform')\n",
    "\n",
    "if operation == '+':\n",
    "    print(f'{m} + {n} = {m + n}')\n",
    "elif operation == '-':\n",
    "    print(f'{m} - {n} = {m - n}')\n",
    "elif operation == '/':\n",
    "    if n != 0:\n",
    "       print(f'{m} / {n} = {m / n}')\n",
    "    else:\n",
    "        print('The denominator is 0')\n",
    "elif operation == '*':\n",
    "    print(f'{m} * {n} = {m * n}')\n",
    "else:\n",
    "    print('Invalid Operation')"
   ]
  }
 ],
 "metadata": {
  "kernelspec": {
   "display_name": "Python 3",
   "language": "python",
   "name": "python3"
  },
  "language_info": {
   "codemirror_mode": {
    "name": "ipython",
    "version": 3
   },
   "file_extension": ".py",
   "mimetype": "text/x-python",
   "name": "python",
   "nbconvert_exporter": "python",
   "pygments_lexer": "ipython3",
   "version": "3.11.4"
  },
  "orig_nbformat": 4
 },
 "nbformat": 4,
 "nbformat_minor": 2
}
