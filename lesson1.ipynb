{
 "cells": [
  {
   "cell_type": "markdown",
   "metadata": {},
   "source": [
    "Write an algorithm that computes the sum of the first N natural numbers"
   ]
  },
  {
   "cell_type": "code",
   "execution_count": 1,
   "metadata": {},
   "outputs": [
    {
     "name": "stdout",
     "output_type": "stream",
     "text": [
      "The sum of the first 8 is 36\n"
     ]
    }
   ],
   "source": [
    "number = int(input('Please insert a positive number: '))\n",
    "counter = 1\n",
    "sum = 0\n",
    "\n",
    "while counter <= number:\n",
    "   sum = sum + counter\n",
    "   counter = counter + 1\n",
    "print(f'The sum of the first {number} is {sum}')"
   ]
  },
  {
   "cell_type": "markdown",
   "metadata": {},
   "source": [
    "Let us convert this code into a function"
   ]
  },
  {
   "cell_type": "code",
   "execution_count": 2,
   "metadata": {},
   "outputs": [],
   "source": [
    "#this is a function definition\n",
    "def exercise1(number: int) -> int:\n",
    "    counter: int = 1\n",
    "    sum: int = 0\n",
    "\n",
    "    while counter <= number:\n",
    "      sum = sum + counter\n",
    "      counter = counter + 1\n",
    "    return sum"
   ]
  },
  {
   "cell_type": "markdown",
   "metadata": {},
   "source": [
    "Recursive function to add the sum of the first n integers"
   ]
  },
  {
   "cell_type": "code",
   "execution_count": 3,
   "metadata": {},
   "outputs": [
    {
     "data": {
      "text/plain": [
       "15"
      ]
     },
     "execution_count": 3,
     "metadata": {},
     "output_type": "execute_result"
    }
   ],
   "source": [
    "def sum_rec(number: int) -> int:\n",
    "    if number == 1: return 1\n",
    "    else: return number + sum_rec(number - 1)\n",
    "\n",
    "\n",
    "sum_rec(5)"
   ]
  },
  {
   "cell_type": "code",
   "execution_count": 3,
   "metadata": {},
   "outputs": [
    {
     "data": {
      "text/plain": [
       "5050"
      ]
     },
     "execution_count": 3,
     "metadata": {},
     "output_type": "execute_result"
    }
   ],
   "source": [
    "#this is a function call.\n",
    "exercise1(100)"
   ]
  },
  {
   "cell_type": "markdown",
   "metadata": {},
   "source": [
    "Write an algorithm that computes the factorial of a positive number N"
   ]
  },
  {
   "cell_type": "code",
   "execution_count": 51,
   "metadata": {},
   "outputs": [
    {
     "name": "stdout",
     "output_type": "stream",
     "text": [
      "The factorial of 20 is 2432902008176640000\n"
     ]
    }
   ],
   "source": [
    "number: int = int(input('Insert a positive number: '))\n",
    "counter = 1\n",
    "factorial = 1\n",
    "\n",
    "while counter <= number:\n",
    "    factorial = factorial * counter\n",
    "    counter = counter + 1\n",
    "print(f'The factorial of {number} is {factorial}')"
   ]
  },
  {
   "cell_type": "markdown",
   "metadata": {},
   "source": [
    "Let us convert this code into a function"
   ]
  },
  {
   "cell_type": "code",
   "execution_count": 52,
   "metadata": {},
   "outputs": [],
   "source": [
    "#this is a function definition\n",
    "def factorial(number: int) -> int:\n",
    "    counter = 1\n",
    "    fact = 1\n",
    "    while counter <= number:\n",
    "       fact = fact * counter\n",
    "       counter = counter + 1\n",
    "    return fact"
   ]
  },
  {
   "cell_type": "markdown",
   "metadata": {},
   "source": [
    "write a recursive function that computes the factorial of a positive number"
   ]
  },
  {
   "cell_type": "code",
   "execution_count": 2,
   "metadata": {},
   "outputs": [
    {
     "data": {
      "text/plain": [
       "120"
      ]
     },
     "execution_count": 2,
     "metadata": {},
     "output_type": "execute_result"
    }
   ],
   "source": [
    "def factorial(number: int) -> int:\n",
    "    if number == 1:\n",
    "        return 1\n",
    "    else:\n",
    "        return number * factorial(number - 1)\n",
    "    \n",
    "factorial(5)"
   ]
  },
  {
   "cell_type": "code",
   "execution_count": 6,
   "metadata": {},
   "outputs": [
    {
     "data": {
      "text/plain": [
       "120"
      ]
     },
     "execution_count": 6,
     "metadata": {},
     "output_type": "execute_result"
    }
   ],
   "source": [
    "#calling the function\n",
    "factorial(5)"
   ]
  },
  {
   "cell_type": "markdown",
   "metadata": {},
   "source": [
    "Write an algorithm that counts the number of digits in a given natural number N."
   ]
  },
  {
   "cell_type": "code",
   "execution_count": 7,
   "metadata": {},
   "outputs": [
    {
     "name": "stdout",
     "output_type": "stream",
     "text": [
      "The number 9 contains 1 digits\n"
     ]
    }
   ],
   "source": [
    "number = int(input('Insert a positive number: '))\n",
    "temp = number\n",
    "counter = 0\n",
    "\n",
    "while temp != 0:\n",
    "    temp = temp // 10\n",
    "    counter = counter + 1\n",
    "print(f'The number {number} contains {counter} digits')"
   ]
  },
  {
   "cell_type": "markdown",
   "metadata": {},
   "source": [
    "Let us convert this code into a function"
   ]
  },
  {
   "cell_type": "code",
   "execution_count": 30,
   "metadata": {},
   "outputs": [],
   "source": [
    "def count_digits(number: int) -> int:\n",
    "    counter = 0\n",
    "    while number != 0:\n",
    "        number = number // 10\n",
    "        counter = counter + 1\n",
    "    return counter"
   ]
  },
  {
   "cell_type": "markdown",
   "metadata": {},
   "source": [
    "write a recursive function that counts the number of digits in a given number"
   ]
  },
  {
   "cell_type": "code",
   "execution_count": 4,
   "metadata": {},
   "outputs": [
    {
     "data": {
      "text/plain": [
       "4"
      ]
     },
     "execution_count": 4,
     "metadata": {},
     "output_type": "execute_result"
    }
   ],
   "source": [
    "def is_one_digit(number: int) -> bool:\n",
    "    return number < 10\n",
    "\n",
    "def count_digits(number: int) -> int:\n",
    "    if is_one_digit(number): return 1\n",
    "    else:\n",
    "        return 1 + count_digits(number // 10)\n",
    "    \n",
    "count_digits(4578)"
   ]
  },
  {
   "cell_type": "markdown",
   "metadata": {},
   "source": [
    "Function to test if a number is even"
   ]
  },
  {
   "cell_type": "code",
   "execution_count": 3,
   "metadata": {},
   "outputs": [],
   "source": [
    "def is_even(number: int) -> bool:\n",
    "    if(number % 2 == 0):\n",
    "        return True\n",
    "    else:\n",
    "        return False"
   ]
  },
  {
   "cell_type": "markdown",
   "metadata": {},
   "source": [
    "Write an algorithm that counts the even digits in a given natural number N."
   ]
  },
  {
   "cell_type": "code",
   "execution_count": 25,
   "metadata": {},
   "outputs": [
    {
     "name": "stdout",
     "output_type": "stream",
     "text": [
      "The sum of the even digits in 4584 is 3\n"
     ]
    }
   ],
   "source": [
    "number: int = int(input('Insert the number: '))\n",
    "temp = number\n",
    "count = 0\n",
    "while temp != 0:\n",
    "    remainder = temp % 10  # grab the last digit\n",
    "    if is_even(remainder):    # test if it is even\n",
    "        count = count + 1  #update the summation variable\n",
    "    else:\n",
    "        pass # if it is odd, just ignore.\n",
    "    temp = temp // 10\n",
    "print(f'The sum of the even digits in {number} is {count}')"
   ]
  },
  {
   "cell_type": "code",
   "execution_count": 28,
   "metadata": {},
   "outputs": [],
   "source": [
    "def count_evens(number: int):\n",
    "    num_evens = 0\n",
    "    while number != 0:\n",
    "        remainder = number % 10\n",
    "        if is_even(remainder): \n",
    "            num_evens = num_evens + 1\n",
    "        else: \n",
    "            pass\n",
    "        number = number // 10\n",
    "    return num_evens"
   ]
  },
  {
   "cell_type": "markdown",
   "metadata": {},
   "source": [
    "Write a recursive function that counts the even digits in a given natural number N.\n"
   ]
  },
  {
   "cell_type": "code",
   "execution_count": null,
   "metadata": {},
   "outputs": [],
   "source": [
    "def count_evens(number: int) -> int:\n",
    "    if is_one_digit(number):\n",
    "        return 1 if is_even(number) else 0\n",
    "    elif is_even(number % 10): # is the digit I am seeing even? If so add 1\n",
    "        return 1 + count_evens(number // 10)\n",
    "    else:\n",
    "        return 0 + count_evens(number // 10)\n"
   ]
  },
  {
   "cell_type": "markdown",
   "metadata": {},
   "source": [
    "Write a recursive function that counts the odd digits in a given natural number N."
   ]
  },
  {
   "cell_type": "code",
   "execution_count": null,
   "metadata": {},
   "outputs": [],
   "source": [
    "if is_even(number):\n",
    "    return 1\n",
    "else:\n",
    "    return 0\n",
    "\n",
    "1 if is_even(number) else 0"
   ]
  },
  {
   "cell_type": "markdown",
   "metadata": {},
   "source": [
    "function to test if a number is odd\n"
   ]
  },
  {
   "cell_type": "code",
   "execution_count": 41,
   "metadata": {},
   "outputs": [],
   "source": [
    "def is_odd(number: int) -> bool:\n",
    "    if (number % 2 == 1):\n",
    "        return  True\n",
    "    else:\n",
    "        return False"
   ]
  },
  {
   "cell_type": "markdown",
   "metadata": {},
   "source": [
    "Write an algorithm that counts the odd digits in a given natural number N ."
   ]
  },
  {
   "cell_type": "code",
   "execution_count": 6,
   "metadata": {},
   "outputs": [
    {
     "name": "stdout",
     "output_type": "stream",
     "text": [
      "The sum of odd digits in 123456is 6\n"
     ]
    }
   ],
   "source": [
    "# your homework\n",
    "\n",
    "number : int = int(input('insert the number: '))\n",
    "copy= number\n",
    "count = 0\n",
    "while copy != 0 :\n",
    "    remainder = copy % 10\n",
    "    if is_odd(remainder): \n",
    "        count = count + 1\n",
    "    else:\n",
    "        pass\n",
    "    copy = copy // 10\n",
    "print ( f'The sum of odd digits in {number} is {count}')"
   ]
  },
  {
   "cell_type": "markdown",
   "metadata": {},
   "source": [
    "Write an algorithm that computes the sum of digits in a given natural number N"
   ]
  },
  {
   "cell_type": "code",
   "execution_count": 32,
   "metadata": {},
   "outputs": [
    {
     "name": "stdout",
     "output_type": "stream",
     "text": [
      "The sum of the digits in 1245 is 12\n"
     ]
    }
   ],
   "source": [
    "number: int = int(input('Insert the number: '))\n",
    "temp = number\n",
    "summation = 0\n",
    "while temp != 0:\n",
    "    remainder = temp % 10 # since we care about the digit, we need to store it.\n",
    "    summation = summation + remainder\n",
    "    temp = temp // 10\n",
    "print(f'The sum of the digits in {number} is {summation}') "
   ]
  },
  {
   "cell_type": "code",
   "execution_count": null,
   "metadata": {},
   "outputs": [],
   "source": [
    "def sum_digits(number: int) -> int:\n",
    "    summation = 0\n",
    "    while number != 0:\n",
    "        remainder = number % 10\n",
    "        summation = summation + remainder\n",
    "        number = number // 10\n",
    "    return summation"
   ]
  },
  {
   "cell_type": "markdown",
   "metadata": {},
   "source": [
    "Write an algorithm that computes the sum of even digits in a given natural number N"
   ]
  },
  {
   "cell_type": "code",
   "execution_count": 34,
   "metadata": {},
   "outputs": [
    {
     "name": "stdout",
     "output_type": "stream",
     "text": [
      "The sum of the even digits in 12345 is 6\n"
     ]
    }
   ],
   "source": [
    "number: int = int(input('Insert the number :'))\n",
    "temp = number\n",
    "summation = 0\n",
    "while temp != 0:\n",
    "    remainder = temp % 10\n",
    "    if is_even(remainder):\n",
    "        summation = summation + remainder\n",
    "    else:\n",
    "        pass\n",
    "    temp = temp // 10\n",
    "print(f'The sum of the even digits in {number} is {summation}')"
   ]
  },
  {
   "cell_type": "markdown",
   "metadata": {},
   "source": [
    "Write an algorithm that asks a user for a number and displays if the number is strictly positive or not"
   ]
  },
  {
   "cell_type": "code",
   "execution_count": 46,
   "metadata": {},
   "outputs": [
    {
     "name": "stdout",
     "output_type": "stream",
     "text": [
      "-56.0 is negative\n"
     ]
    }
   ],
   "source": [
    "number: float = float(input('Insert the number: '))\n",
    "if number > 0:\n",
    "    print(f'{number} is strictly positive')\n",
    "elif number < 0:\n",
    "    print(f'{number} is negative')\n",
    "else:\n",
    "    print(f'{number} is zero')"
   ]
  },
  {
   "cell_type": "markdown",
   "metadata": {},
   "source": [
    "Write an algorithm that asks a user for two numbers m and n and display if their product is positive, negative or zero"
   ]
  },
  {
   "cell_type": "code",
   "execution_count": 51,
   "metadata": {},
   "outputs": [
    {
     "name": "stdout",
     "output_type": "stream",
     "text": [
      "The product of 0.0 and 4.0 is zero\n"
     ]
    }
   ],
   "source": [
    "m: float = float(input('Insert the number: '))\n",
    "n: float = float(input('Insert the number: '))\n",
    "\n",
    "if (m > 0) and (n > 0):\n",
    "    print(f'The product of {m} and {n} is positive')\n",
    "elif (m > 0) and (n < 0):\n",
    "    print(f'The product of {m} and {n} is negative')\n",
    "elif (m < 0) and (n > 0):\n",
    "    print(f'The product of {m} and {n} is negative')\n",
    "elif (m < 0) and (n < 0):\n",
    "    print(f'The product of {m} and {n} is positive')\n",
    "else:\n",
    "    print(f'The product of {m} and {n} is zero')"
   ]
  },
  {
   "cell_type": "markdown",
   "metadata": {},
   "source": [
    "write an algorithm that computes the absolute value of a number"
   ]
  },
  {
   "cell_type": "code",
   "execution_count": 54,
   "metadata": {},
   "outputs": [
    {
     "name": "stdout",
     "output_type": "stream",
     "text": [
      "The absolute value of -5.0 is 5.0\n"
     ]
    }
   ],
   "source": [
    "number: float = float(input('Insert the number: '))\n",
    "if number >= 0:\n",
    "    print(f'The absolute value of {number} is {number}')\n",
    "else:\n",
    "    print(f'The absolute value of {number} is {-1 * number}')"
   ]
  },
  {
   "cell_type": "markdown",
   "metadata": {},
   "source": [
    "write an algorithm that takes in an integer and displays if it is odd or even"
   ]
  },
  {
   "cell_type": "code",
   "execution_count": 56,
   "metadata": {},
   "outputs": [
    {
     "name": "stdout",
     "output_type": "stream",
     "text": [
      "20 is even\n"
     ]
    }
   ],
   "source": [
    "number: int = int(input('Insert the number: '))\n",
    "if number % 2 == 0:\n",
    "    print(f'{number} is even')\n",
    "else:\n",
    "    print(f'{number} is odd')"
   ]
  },
  {
   "cell_type": "markdown",
   "metadata": {},
   "source": [
    "Write an algorithm that takes in a number and tests if it is between 0 and 20"
   ]
  },
  {
   "cell_type": "code",
   "execution_count": 58,
   "metadata": {},
   "outputs": [
    {
     "name": "stdout",
     "output_type": "stream",
     "text": [
      "15 is between 0 and 20\n"
     ]
    }
   ],
   "source": [
    "number: int = int(input('Insert the number: '))\n",
    "if 0 <= number <= 20:\n",
    "    print(f'{number} is between 0 and 20')\n",
    "else:\n",
    "    print(f'{number} is not between 0 and 20')"
   ]
  },
  {
   "cell_type": "markdown",
   "metadata": {},
   "source": [
    "write an algorithm that takes in two numbers m and n and displays the maximum"
   ]
  },
  {
   "cell_type": "code",
   "execution_count": 63,
   "metadata": {},
   "outputs": [
    {
     "name": "stdout",
     "output_type": "stream",
     "text": [
      "5.0 is equal to 5.0\n"
     ]
    }
   ],
   "source": [
    "m: float = float(input('Insert the number: '))\n",
    "n: float = float(input('Insert the number: '))\n",
    "\n",
    "if m > n:\n",
    "    print(f'{m} is greater than {n}')\n",
    "elif m == n:\n",
    "    print(f'{m} is equal to {n}')\n",
    "else:\n",
    "    print(f'{n} is greater than {m}')"
   ]
  },
  {
   "cell_type": "markdown",
   "metadata": {},
   "source": [
    "write an algorithm that takes in the position of a month and returns the number of days in that month"
   ]
  },
  {
   "cell_type": "code",
   "execution_count": 67,
   "metadata": {},
   "outputs": [
    {
     "name": "stdout",
     "output_type": "stream",
     "text": [
      "30 days\n"
     ]
    }
   ],
   "source": [
    "month: int = int(input('Insert the month number'))\n",
    "if 1 <= month <= 12:\n",
    "    if month in [1, 3, 5, 7, 8, 10, 12]:\n",
    "        print('31 days')\n",
    "    elif month == 2:\n",
    "        print('29 or 28 days')\n",
    "    else:\n",
    "        print('30 days')\n",
    "else:\n",
    "    print('You input a wrong month position')"
   ]
  },
  {
   "cell_type": "markdown",
   "metadata": {},
   "source": [
    "write an algorithm that simulates an electronic calculator."
   ]
  },
  {
   "cell_type": "code",
   "execution_count": 17,
   "metadata": {},
   "outputs": [
    {
     "name": "stdout",
     "output_type": "stream",
     "text": [
      "The denominator is 0\n"
     ]
    }
   ],
   "source": [
    "m = float(input('insert the first number: '))\n",
    "n = float(input('insert the second number: '))\n",
    "operation = input('Insert the operation that you want to perform')\n",
    "\n",
    "if operation == '+':\n",
    "    print(f'{m} + {n} = {m + n}')\n",
    "elif operation == '-':\n",
    "    print(f'{m} - {n} = {m - n}')\n",
    "elif operation == '/':\n",
    "    if n != 0:\n",
    "       print(f'{m} / {n} = {m / n}')\n",
    "    else:\n",
    "        print('The denominator is 0')\n",
    "elif operation == '*':\n",
    "    print(f'{m} * {n} = {m * n}')\n",
    "else:\n",
    "    print('Invalid Operation')"
   ]
  },
  {
   "cell_type": "markdown",
   "metadata": {},
   "source": [
    "Write a function that checks if a given natural number N contains a given\n",
    "digits ."
   ]
  },
  {
   "cell_type": "code",
   "execution_count": 22,
   "metadata": {},
   "outputs": [
    {
     "name": "stdout",
     "output_type": "stream",
     "text": [
      "No, 9 is not contained in 5487\n"
     ]
    }
   ],
   "source": [
    "def contains(number: int, digit: int) -> bool:\n",
    "    while number != 0:\n",
    "        remainder = number % 10 # we grab the right most digit\n",
    "        if remainder == digit: #we check to see if it is equal to what we are looking for.\n",
    "            return True # we stop the search\n",
    "        number = number // 10\n",
    "    return False\n",
    "\n",
    "\n",
    "def vanessa(): \n",
    "    number: int = int(input('Insert a number: '))\n",
    "    digit: int = int(input('Insert the digit: '))\n",
    "\n",
    "    if contains(number, digit):\n",
    "        print(f'Yah, {digit} is contained in {number}')\n",
    "    else:\n",
    "        print(f'No, {digit} is not contained in {number}')\n",
    "\n",
    "vanessa()"
   ]
  },
  {
   "cell_type": "markdown",
   "metadata": {},
   "source": [
    "Write a function that computes the power function."
   ]
  },
  {
   "cell_type": "code",
   "execution_count": 34,
   "metadata": {},
   "outputs": [],
   "source": [
    "def power(base: int, exponent: int) -> int:\n",
    "    result = 1\n",
    "    while exponent > 0:\n",
    "       result = result * base\n",
    "       exponent = exponent - 1\n",
    "    return result\n",
    "\n",
    "def vanessa():\n",
    "    base: int = int(input('Insert the base: '))\n",
    "    exponent: int = int(input('Insert the exponent'))\n",
    "    answer = power(base, exponent)\n",
    "    print(f'{base} ^ {exponent} = {answer}')"
   ]
  },
  {
   "cell_type": "markdown",
   "metadata": {},
   "source": [
    "Write a function that computes the multiplication function."
   ]
  },
  {
   "cell_type": "code",
   "execution_count": 26,
   "metadata": {},
   "outputs": [
    {
     "name": "stdout",
     "output_type": "stream",
     "text": [
      "5 * 5 = 25\n"
     ]
    }
   ],
   "source": [
    "def multiply(first: int, second: int) -> int:\n",
    "    result = 0\n",
    "    while second > 0:\n",
    "        result = result + first\n",
    "        second = second - 1\n",
    "    return result\n",
    "\n",
    "def vanessa():\n",
    "    first: int = int(input('Insert the first number: '))\n",
    "    second: int = int(input('Insert the second number'))\n",
    "    answer = multiply(first, second)\n",
    "    print(f'{first} * {second} = {answer}')\n",
    "\n",
    "vanessa()"
   ]
  },
  {
   "cell_type": "markdown",
   "metadata": {},
   "source": [
    "Write a function that returns the reverse of a given natural number N ."
   ]
  },
  {
   "cell_type": "code",
   "execution_count": 29,
   "metadata": {},
   "outputs": [
    {
     "name": "stdout",
     "output_type": "stream",
     "text": [
      "The reverse of 5487 is 7845\n"
     ]
    }
   ],
   "source": [
    "def reverse(number: int) -> int:\n",
    "    rev = 0\n",
    "    while number != 0:\n",
    "        remainder = number % 10\n",
    "        rev = rev * 10 + remainder\n",
    "        number = number // 10\n",
    "    return rev\n",
    "\n",
    "def vanessa():\n",
    "    number = int(input('Insert the number: '))\n",
    "    answer = reverse(number)\n",
    "    print(f'The reverse of {number} is {answer}')\n",
    "\n",
    "vanessa()"
   ]
  },
  {
   "cell_type": "markdown",
   "metadata": {},
   "source": [
    "\n",
    "Write a function that checks if a given natural number N is Armstrong "
   ]
  },
  {
   "cell_type": "code",
   "execution_count": 46,
   "metadata": {},
   "outputs": [
    {
     "data": {
      "text/plain": [
       "False"
      ]
     },
     "execution_count": 46,
     "metadata": {},
     "output_type": "execute_result"
    }
   ],
   "source": [
    "def is_armstrong(number: int) -> bool:\n",
    "    num = count_digits(number) # compute the number of digits\n",
    "    temp = number # make a copy so that we can compare later\n",
    "    sum = 0\n",
    "    while temp != 0:\n",
    "        remainder = temp % 10\n",
    "        sum = sum + power(remainder, num)\n",
    "        temp = temp // 10\n",
    "    return number == sum # we check if the sum is == to the original number\n",
    "is_armstrong(8408)"
   ]
  },
  {
   "cell_type": "markdown",
   "metadata": {},
   "source": [
    "Write a function that returns the number of times a given digit appears in a\n",
    "given natural number N ."
   ]
  },
  {
   "cell_type": "code",
   "execution_count": 50,
   "metadata": {},
   "outputs": [
    {
     "name": "stdout",
     "output_type": "stream",
     "text": [
      "There are 3 4's in 457454\n"
     ]
    }
   ],
   "source": [
    "def frequency(number: int, digit: int) -> int:\n",
    "   counter = 0\n",
    "   while number != 0:\n",
    "      remainder = number % 10\n",
    "      if remainder == digit:\n",
    "         counter = counter + 1\n",
    "      number = number // 10\n",
    "   return counter\n",
    "\n",
    "number = int(input('Insert the number: '))\n",
    "digit = int(input('Insert the digit: '))\n",
    "\n",
    "count = frequency(number, digit)\n",
    "print(f\"There are {count} {digit}'s in {number}\")"
   ]
  },
  {
   "cell_type": "markdown",
   "metadata": {},
   "source": [
    "Write a program that calculates with how many zeroes the factorial of a given\n",
    "number ends."
   ]
  },
  {
   "cell_type": "code",
   "execution_count": 55,
   "metadata": {},
   "outputs": [
    {
     "name": "stdout",
     "output_type": "stream",
     "text": [
      "24\n"
     ]
    },
    {
     "data": {
      "text/plain": [
       "0"
      ]
     },
     "execution_count": 55,
     "metadata": {},
     "output_type": "execute_result"
    }
   ],
   "source": [
    "def count_zeros(number: int) -> int:\n",
    "    counter = 0\n",
    "    fact = factorial(number)\n",
    "    while fact != 0:\n",
    "        remainder = fact % 10\n",
    "        if remainder == 0:\n",
    "            counter = counter + 1\n",
    "        else:\n",
    "            return counter\n",
    "        fact = fact // 10\n",
    "\n",
    "count_zeros(4)"
   ]
  },
  {
   "cell_type": "code",
   "execution_count": 59,
   "metadata": {},
   "outputs": [
    {
     "data": {
      "text/plain": [
       "24"
      ]
     },
     "execution_count": 59,
     "metadata": {},
     "output_type": "execute_result"
    }
   ],
   "source": [
    "factorial(4)"
   ]
  },
  {
   "cell_type": "markdown",
   "metadata": {},
   "source": [
    "Write a function that determines if a given natural number is prime "
   ]
  },
  {
   "cell_type": "code",
   "execution_count": 60,
   "metadata": {},
   "outputs": [
    {
     "data": {
      "text/plain": [
       "6760"
      ]
     },
     "execution_count": 60,
     "metadata": {},
     "output_type": "execute_result"
    }
   ],
   "source": [
    "from math import sqrt\n",
    "\n",
    "def is_prime(number: int) -> bool:\n",
    "    counter = 2\n",
    "    while counter < sqrt(number):\n",
    "        remainder = number % counter\n",
    "        if remainder == 0:\n",
    "            return False\n",
    "        counter = counter + 1\n",
    "    return True"
   ]
  },
  {
   "cell_type": "markdown",
   "metadata": {},
   "source": [
    "Write a function that returns the maximum digit in a given natural number N."
   ]
  },
  {
   "cell_type": "code",
   "execution_count": 64,
   "metadata": {},
   "outputs": [
    {
     "data": {
      "text/plain": [
       "5"
      ]
     },
     "execution_count": 64,
     "metadata": {},
     "output_type": "execute_result"
    }
   ],
   "source": [
    "def get_max(number: int) -> int:\n",
    "    max = number % 10\n",
    "    while number != 0:\n",
    "        remainder = number % 10\n",
    "        if remainder > max:\n",
    "            max = remainder\n",
    "        number = number // 10\n",
    "    return max\n",
    "\n",
    "get_max(52440)"
   ]
  },
  {
   "cell_type": "markdown",
   "metadata": {},
   "source": [
    "Write a function that returns the minimum digit in a given natural number N."
   ]
  },
  {
   "cell_type": "code",
   "execution_count": 66,
   "metadata": {},
   "outputs": [],
   "source": [
    "def get_minimum(number: int) -> int:\n",
    "    min = number % 10\n",
    "    while number != 0:\n",
    "        remainder = number % 10\n",
    "        if remainder < min:\n",
    "            min = remainder\n",
    "        number = number // 10\n",
    "    return min"
   ]
  },
  {
   "cell_type": "markdown",
   "metadata": {},
   "source": [
    "Write a function that calculates the sum of the first N squares."
   ]
  },
  {
   "cell_type": "code",
   "execution_count": 65,
   "metadata": {},
   "outputs": [],
   "source": [
    "def sum_squares(number: int) -> int:\n",
    "    counter = 1\n",
    "    sum = 0\n",
    "    while counter <= number:\n",
    "        sum = sum + power(counter, 2)\n",
    "        counter = counter + 1\n",
    "    return sum\n",
    "\n"
   ]
  },
  {
   "cell_type": "markdown",
   "metadata": {},
   "source": [
    "Write a function that counts the number of digits greater than or equal to a\n",
    "given digit d in a given natural number N."
   ]
  },
  {
   "cell_type": "code",
   "execution_count": 67,
   "metadata": {},
   "outputs": [
    {
     "data": {
      "text/plain": [
       "5"
      ]
     },
     "execution_count": 67,
     "metadata": {},
     "output_type": "execute_result"
    }
   ],
   "source": [
    "def count_if(number: int, digit: int) -> int:\n",
    "    counter = 0\n",
    "    while number != 0:\n",
    "        remainder = number % 10\n",
    "        if remainder >= digit:\n",
    "            counter = counter + 1\n",
    "        number = number // 10\n",
    "    return counter"
   ]
  },
  {
   "cell_type": "markdown",
   "metadata": {},
   "source": [
    "Write a function that computes the logarithm of a given natural number N\n",
    "in a given base b."
   ]
  },
  {
   "cell_type": "code",
   "execution_count": 72,
   "metadata": {},
   "outputs": [
    {
     "data": {
      "text/plain": [
       "6"
      ]
     },
     "execution_count": 72,
     "metadata": {},
     "output_type": "execute_result"
    }
   ],
   "source": [
    "def log(number: int, base: int) -> int:\n",
    "    counter = 0\n",
    "    while number > 1: # only keep dividing as long the number is not 1 or below 1\n",
    "        counter = counter + 1\n",
    "        number = number // base\n",
    "    return counter\n",
    "\n",
    "log(100, 2)"
   ]
  },
  {
   "cell_type": "markdown",
   "metadata": {},
   "source": [
    "Write a function div which, given two positive integers a and\n",
    "b, return the quotient"
   ]
  },
  {
   "cell_type": "code",
   "execution_count": 76,
   "metadata": {},
   "outputs": [
    {
     "data": {
      "text/plain": [
       "7"
      ]
     },
     "execution_count": 76,
     "metadata": {},
     "output_type": "execute_result"
    }
   ],
   "source": [
    "def div(number: int, denominator: int) -> int:\n",
    "    counter = 0\n",
    "    while number >= denominator:\n",
    "        counter = counter + 1\n",
    "        number = number - denominator\n",
    "    return counter\n",
    "\n",
    "div(15, 2)"
   ]
  },
  {
   "cell_type": "markdown",
   "metadata": {},
   "source": [
    "Write a function mod which, given two positive integers a and\n",
    "b, return the quotient"
   ]
  },
  {
   "cell_type": "code",
   "execution_count": 83,
   "metadata": {},
   "outputs": [
    {
     "data": {
      "text/plain": [
       "1"
      ]
     },
     "execution_count": 83,
     "metadata": {},
     "output_type": "execute_result"
    }
   ],
   "source": [
    "def mod(number: int, divisor: int) -> int:\n",
    "    while number >= divisor:\n",
    "        number = number - divisor\n",
    "    return number\n",
    "\n",
    "mod(13, 2)"
   ]
  },
  {
   "cell_type": "markdown",
   "metadata": {},
   "source": [
    "Write a function that takes in a natural number N in decimal base and\n",
    "returns the number of bits set to 1 in its binary representation"
   ]
  },
  {
   "cell_type": "code",
   "execution_count": 86,
   "metadata": {},
   "outputs": [
    {
     "data": {
      "text/plain": [
       "3"
      ]
     },
     "execution_count": 86,
     "metadata": {},
     "output_type": "execute_result"
    }
   ],
   "source": [
    "def count_ones(number: int) -> int:\n",
    "    counter = 0\n",
    "    while number != 0:\n",
    "        remainder = number % 2\n",
    "        if remainder == 1:\n",
    "            counter = counter + 1\n",
    "        number = number // 2\n",
    "    return counter\n",
    "\n",
    "count_ones(7)"
   ]
  },
  {
   "cell_type": "code",
   "execution_count": 87,
   "metadata": {},
   "outputs": [],
   "source": [
    "class Student:\n",
    "    def __init__(self, first_name, second_name, nationality, age):\n",
    "        self.first_name: str = first_name\n",
    "        self.second_name: str = second_name\n",
    "        self.nationality: str = nationality\n",
    "        self.age: int = age"
   ]
  },
  {
   "cell_type": "markdown",
   "metadata": {},
   "source": [
    "11 "
   ]
  }
 ],
 "metadata": {
  "kernelspec": {
   "display_name": "Python 3",
   "language": "python",
   "name": "python3"
  },
  "language_info": {
   "codemirror_mode": {
    "name": "ipython",
    "version": 3
   },
   "file_extension": ".py",
   "mimetype": "text/x-python",
   "name": "python",
   "nbconvert_exporter": "python",
   "pygments_lexer": "ipython3",
   "version": "3.11.4"
  },
  "orig_nbformat": 4
 },
 "nbformat": 4,
 "nbformat_minor": 2
}
