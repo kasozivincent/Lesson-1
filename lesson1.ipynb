{
 "cells": [
  {
   "cell_type": "markdown",
   "metadata": {},
   "source": [
    "Write an algorithm that computes the sum of the first N natural numbers"
   ]
  },
  {
   "cell_type": "code",
   "execution_count": 1,
   "metadata": {},
   "outputs": [
    {
     "name": "stdout",
     "output_type": "stream",
     "text": [
      "The sum of the first 8 is 36\n"
     ]
    }
   ],
   "source": [
    "number = int(input('Please insert a positive number: '))\n",
    "counter = 1\n",
    "sum = 0\n",
    "\n",
    "while counter <= number:\n",
    "   sum = sum + counter\n",
    "   counter = counter + 1\n",
    "print(f'The sum of the first {number} is {sum}')"
   ]
  },
  {
   "cell_type": "markdown",
   "metadata": {},
   "source": [
    "Let us convert this code into a function"
   ]
  },
  {
   "cell_type": "code",
   "execution_count": 2,
   "metadata": {},
   "outputs": [],
   "source": [
    "#this is a function definition\n",
    "def exercise1(number: int) -> int:\n",
    "    counter: int = 1\n",
    "    sum: int = 0\n",
    "\n",
    "    while counter <= number:\n",
    "      sum = sum + counter\n",
    "      counter = counter + 1\n",
    "    return sum"
   ]
  },
  {
   "cell_type": "code",
   "execution_count": 3,
   "metadata": {},
   "outputs": [
    {
     "data": {
      "text/plain": [
       "5050"
      ]
     },
     "execution_count": 3,
     "metadata": {},
     "output_type": "execute_result"
    }
   ],
   "source": [
    "#this is a function call.\n",
    "exercise1(100)"
   ]
  },
  {
   "cell_type": "markdown",
   "metadata": {},
   "source": [
    "Write an algorithm that computes the factorial of a positive number N"
   ]
  },
  {
   "cell_type": "code",
   "execution_count": 4,
   "metadata": {},
   "outputs": [
    {
     "name": "stdout",
     "output_type": "stream",
     "text": [
      "The factorial of 9 is 362880\n"
     ]
    }
   ],
   "source": [
    "number: int = int(input('Insert a positive number: '))\n",
    "counter = 1\n",
    "factorial = 1\n",
    "\n",
    "while counter <= number:\n",
    "    factorial = factorial * counter\n",
    "    counter = counter + 1\n",
    "print(f'The factorial of {number} is {factorial}')"
   ]
  },
  {
   "cell_type": "markdown",
   "metadata": {},
   "source": [
    "Let us convert this code into a function"
   ]
  },
  {
   "cell_type": "code",
   "execution_count": 5,
   "metadata": {},
   "outputs": [],
   "source": [
    "#this is a function definition\n",
    "def factorial(number: int) -> int:\n",
    "    counter = 1\n",
    "    fact = 1\n",
    "\n",
    "    while counter <= number:\n",
    "       fact = fact * counter\n",
    "       counter = counter + 1\n",
    "    return fact"
   ]
  },
  {
   "cell_type": "code",
   "execution_count": 6,
   "metadata": {},
   "outputs": [
    {
     "data": {
      "text/plain": [
       "120"
      ]
     },
     "execution_count": 6,
     "metadata": {},
     "output_type": "execute_result"
    }
   ],
   "source": [
    "#calling the function\n",
    "factorial(5)"
   ]
  },
  {
   "cell_type": "markdown",
   "metadata": {},
   "source": [
    "Write an algorithm that counts the number of digits in a given natural number N."
   ]
  },
  {
   "cell_type": "code",
   "execution_count": 7,
   "metadata": {},
   "outputs": [
    {
     "name": "stdout",
     "output_type": "stream",
     "text": [
      "The number 9 contains 1 digits\n"
     ]
    }
   ],
   "source": [
    "number = int(input('Insert a positive number: '))\n",
    "temp = number\n",
    "counter = 0\n",
    "\n",
    "while temp != 0:\n",
    "    temp = temp // 10\n",
    "    counter = counter + 1\n",
    "print(f'The number {number} contains {counter} digits')"
   ]
  },
  {
   "cell_type": "markdown",
   "metadata": {},
   "source": [
    "Let us convert this code into a function"
   ]
  },
  {
   "cell_type": "code",
   "execution_count": 8,
   "metadata": {},
   "outputs": [],
   "source": [
    "def count_digits(number: int) -> int:\n",
    "    counter = 0\n",
    "    while number != 0:\n",
    "        number = number // 10\n",
    "        counter = counter + 1\n",
    "    return counter"
   ]
  },
  {
   "cell_type": "code",
   "execution_count": 9,
   "metadata": {},
   "outputs": [
    {
     "data": {
      "text/plain": [
       "2"
      ]
     },
     "execution_count": 9,
     "metadata": {},
     "output_type": "execute_result"
    }
   ],
   "source": [
    "count_digits(25)"
   ]
  },
  {
   "cell_type": "markdown",
   "metadata": {},
   "source": [
    "Function to test if a number is even"
   ]
  },
  {
   "cell_type": "code",
   "execution_count": 3,
   "metadata": {},
   "outputs": [],
   "source": [
    "def is_even(number: int) -> bool:\n",
    "    if(number % 2 == 0):\n",
    "        return True\n",
    "    else:\n",
    "        return False"
   ]
  },
  {
   "cell_type": "markdown",
   "metadata": {},
   "source": [
    "Write an algorithm that counts the even digits in a given natural number N ."
   ]
  },
  {
   "cell_type": "code",
   "execution_count": 25,
   "metadata": {},
   "outputs": [
    {
     "name": "stdout",
     "output_type": "stream",
     "text": [
      "The sum of the even digits in 4584 is 3\n"
     ]
    }
   ],
   "source": [
    "number: int = int(input('Insert the number: '))\n",
    "temp = number\n",
    "count = 0\n",
    "while temp != 0:\n",
    "    remainder = temp % 10  # grab the last digit\n",
    "    if is_even(remainder):    # test if it is even\n",
    "        count = count + 1  #update the summation variable\n",
    "    else:\n",
    "        pass # if it is odd, just ignore.\n",
    "    temp = temp // 10\n",
    "print(f'The sum of the even digits in {number} is {count}')"
   ]
  },
  {
   "cell_type": "code",
   "execution_count": 28,
   "metadata": {},
   "outputs": [],
   "source": [
    "def count_evens(number: int):\n",
    "    num_evens = 0\n",
    "    while number != 0:\n",
    "        remainder = number % 10\n",
    "        if is_even(remainder): \n",
    "            num_evens = num_evens + 1\n",
    "        else: \n",
    "            pass\n",
    "        number = number // 10\n",
    "    return num_evens"
   ]
  },
  {
   "cell_type": "markdown",
   "metadata": {},
   "source": [
    "Write an algorithm that counts the odd digits in a given natural number N ."
   ]
  },
  {
   "cell_type": "code",
   "execution_count": null,
   "metadata": {},
   "outputs": [],
   "source": [
    "# your homework\n"
   ]
  },
  {
   "cell_type": "markdown",
   "metadata": {},
   "source": [
    "Write an algorithm that computes the sum of digits in a given natural number N"
   ]
  },
  {
   "cell_type": "code",
   "execution_count": 32,
   "metadata": {},
   "outputs": [
    {
     "name": "stdout",
     "output_type": "stream",
     "text": [
      "The sum of the digits in 1245 is 12\n"
     ]
    }
   ],
   "source": [
    "number: int = int(input('Insert the number: '))\n",
    "temp = number\n",
    "summation = 0\n",
    "while temp != 0:\n",
    "    remainder = temp % 10 # since we care about the digit, we need to store it.\n",
    "    summation = summation + remainder\n",
    "    temp = temp // 10\n",
    "print(f'The sum of the digits in {number} is {summation}') "
   ]
  },
  {
   "cell_type": "code",
   "execution_count": null,
   "metadata": {},
   "outputs": [],
   "source": [
    "def sum_digits(number: int) -> int:\n",
    "    summation = 0\n",
    "    while number != 0:\n",
    "        remainder = number % 10\n",
    "        summation = summation + remainder\n",
    "        number = number // 10\n",
    "    return summation"
   ]
  },
  {
   "cell_type": "markdown",
   "metadata": {},
   "source": [
    "Write an algorithm that computes the sum of even digits in a given natural number N"
   ]
  },
  {
   "cell_type": "code",
   "execution_count": 34,
   "metadata": {},
   "outputs": [
    {
     "name": "stdout",
     "output_type": "stream",
     "text": [
      "The sum of the even digits in 12345 is 6\n"
     ]
    }
   ],
   "source": [
    "number: int = int(input('Insert the number :'))\n",
    "temp = number\n",
    "summation = 0\n",
    "while temp != 0:\n",
    "    remainder = temp % 10\n",
    "    if is_even(remainder):\n",
    "        summation = summation + remainder\n",
    "    else:\n",
    "        pass\n",
    "    temp = temp // 10\n",
    "print(f'The sum of the even digits in {number} is {summation}')"
   ]
  }
 ],
 "metadata": {
  "kernelspec": {
   "display_name": "Python 3",
   "language": "python",
   "name": "python3"
  },
  "language_info": {
   "codemirror_mode": {
    "name": "ipython",
    "version": 3
   },
   "file_extension": ".py",
   "mimetype": "text/x-python",
   "name": "python",
   "nbconvert_exporter": "python",
   "pygments_lexer": "ipython3",
   "version": "3.11.4"
  },
  "orig_nbformat": 4
 },
 "nbformat": 4,
 "nbformat_minor": 2
}
