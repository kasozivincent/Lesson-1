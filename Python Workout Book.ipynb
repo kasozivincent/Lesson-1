{
 "cells": [
  {
   "cell_type": "markdown",
   "metadata": {},
   "source": [
    "For this exercise\n",
    "- Write a function (guessing_game) that takes no arguments.\n",
    "- When run, the function chooses a random integer between 0 and 100 (inclusive).\n",
    "- Then ask the user to guess what number has been chosen.\n",
    "- Each time the user enters a guess, the program indicates one of the following:\n",
    "  - Too high\n",
    "  - Too low\n",
    "  - Just right\n",
    "- If the user guesses correctly, the program exits. Otherwise, the user is asked to\n",
    "try again.\n",
    "- The program only exits after the user guesses correctly"
   ]
  },
  {
   "cell_type": "code",
   "execution_count": null,
   "metadata": {},
   "outputs": [],
   "source": [
    "from random import randint\n",
    "\n",
    "def guessing_game():\n",
    "    number = randint(0, 100)\n",
    "    while True:\n",
    "      guess = int(input('Insert your guess: '))\n",
    "      if guess == number:\n",
    "        print('Just right')\n",
    "        break\n",
    "      elif guess < number:\n",
    "        print('Too low')\n",
    "      else:\n",
    "        print('Too high')\n"
   ]
  },
  {
   "cell_type": "markdown",
   "metadata": {},
   "source": [
    "Modify this program, such that it gives the user only three chances to guess the\n",
    "correct number. If they try three times without success, the program tells them\n",
    "that they didn’t guess in time and then exits."
   ]
  },
  {
   "cell_type": "code",
   "execution_count": null,
   "metadata": {},
   "outputs": [],
   "source": [
    "def guessing_game():\n",
    "    number = randint(0, 100)\n",
    "    for trial in range(3):\n",
    "        guess = int(input('Insert your guess: '))\n",
    "        if guess == number:\n",
    "          print('Just right')\n",
    "          break\n",
    "        elif guess < number:\n",
    "          print('Too low')\n",
    "        else:\n",
    "          print('Too high')\n",
    "guessing_game()"
   ]
  },
  {
   "cell_type": "markdown",
   "metadata": {},
   "source": [
    "Not only should you choose a random number, but you should also choose a random number base, from 2 to 16, in which the user should submit their input. If the user inputs “10” as their guess, you’ll need to interpret it in the correct number base; “10” might mean 10 (decimal), or 2 (binary), or 16\n",
    "(hexadecimal)."
   ]
  },
  {
   "cell_type": "code",
   "execution_count": null,
   "metadata": {},
   "outputs": [],
   "source": []
  },
  {
   "cell_type": "markdown",
   "metadata": {},
   "source": [
    "Try the same thing, but have the program choose a random word from the dictionary, and then ask the user to guess the word. (You might want to limit yourself to words containing two to five letters, to avoid making it too horribly\n",
    "difficult.) Instead of telling the user that they should guess a smaller or larger number, have them choose an earlier or later word in the dict"
   ]
  },
  {
   "cell_type": "code",
   "execution_count": null,
   "metadata": {},
   "outputs": [],
   "source": []
  },
  {
   "cell_type": "markdown",
   "metadata": {},
   "source": [
    "EXERCISE 2 Summing numbers"
   ]
  },
  {
   "cell_type": "markdown",
   "metadata": {},
   "source": [
    "The splat operator, designing functions that can accept a variable number of arguments"
   ]
  },
  {
   "cell_type": "code",
   "execution_count": null,
   "metadata": {},
   "outputs": [],
   "source": [
    "def mysum(*numbers):\n",
    "    sum = 0\n",
    "    for number in numbers:\n",
    "        sum = sum + number\n",
    "    return sum\n",
    "\n",
    "mysum(4, 6, 5, 5, 8, 9)"
   ]
  },
  {
   "cell_type": "code",
   "execution_count": null,
   "metadata": {},
   "outputs": [],
   "source": [
    "def average(*numbers):\n",
    "    print(numbers)\n",
    "    count = len(numbers)\n",
    "    sum = 0\n",
    "    for number in numbers:\n",
    "        sum = sum + number\n",
    "    return sum / count\n",
    "\n",
    "average(4, 1, 2, 5, 6)"
   ]
  },
  {
   "cell_type": "markdown",
   "metadata": {},
   "source": [
    "The built-in version of sum takes an optional second argument, which is used as the starting point for the summing. (That’s why it takes a list of numbers as its first argument, unlike our mysum implementation.) So sum([1,2,3], 4) returns 10, because 1+2+3 is 6, which would be added to the starting value of 4. Reimplement your mysum function such that it works in this way. If a second argument is not provided, then it should default to 0. Note that while you can write a function in Python 3 that defines a parameter after *args, I’d suggest avoiding it and just taking two arguments—a list and an optional starting point."
   ]
  },
  {
   "cell_type": "code",
   "execution_count": null,
   "metadata": {},
   "outputs": [],
   "source": [
    "def sum(iterable, seed: int = 0):\n",
    "    summation = seed\n",
    "    for number in iterable:\n",
    "        summation = summation + number\n",
    "    return summation\n",
    "sum((1, 2, 4), 10)"
   ]
  },
  {
   "cell_type": "markdown",
   "metadata": {},
   "source": [
    "Write a function that takes a list of numbers. It should return the average (i.e., arithmetic mean) of those numbers."
   ]
  },
  {
   "cell_type": "code",
   "execution_count": null,
   "metadata": {},
   "outputs": [],
   "source": [
    "from typing import List\n",
    "def avg(numbers: List[int]):\n",
    "    num_items = len(numbers)\n",
    "    total = sum(numbers)\n",
    "    return total / num_items\n",
    "avg([4])"
   ]
  },
  {
   "cell_type": "markdown",
   "metadata": {},
   "source": [
    "Write a function that takes a list of words (strings). It should return a tuple containing three integers, representing the length of the shortest word, the length of the longest word, and the average word length."
   ]
  },
  {
   "cell_type": "code",
   "execution_count": null,
   "metadata": {},
   "outputs": [],
   "source": [
    "def shortest(names):\n",
    "    short = len(names[0])\n",
    "    for current_name in names[1:]:\n",
    "        if len(current_name) < short:\n",
    "            short = len(current_name)\n",
    "    return short\n",
    "\n",
    "def longest(names):\n",
    "    long = len(names[0])\n",
    "    for current_name in names[1:]:\n",
    "        if len(current_name) > long:\n",
    "            long = len(current_name)\n",
    "    return long\n",
    "\n",
    "\n",
    "def avg_word(names):\n",
    "    num_items = len(names)\n",
    "    sum = 0\n",
    "    for name in names:\n",
    "        sum = sum + len(name)\n",
    "    return sum / num_items\n",
    "\n",
    "def solution(names):\n",
    "    return (shortest(names), longest(names), avg_word(names))\n",
    "\n",
    "solution(['kasozi', 'vincent', 'isaac'])"
   ]
  },
  {
   "cell_type": "markdown",
   "metadata": {},
   "source": [
    "Write a function that takes a list of Python objects. Sum the objects that either are integers or can be turned into integers, ignoring the others"
   ]
  },
  {
   "cell_type": "code",
   "execution_count": null,
   "metadata": {},
   "outputs": [],
   "source": [
    "def sum_objs(objects):\n",
    "    '''This is my function.\n",
    "       This is the second line\n",
    "    '''\n",
    "    sum = 0\n",
    "    for obj in objects:\n",
    "        try:\n",
    "         if isinstance(obj, int):\n",
    "            sum = sum + obj\n",
    "         else:\n",
    "            sum = sum + int(obj)\n",
    "        except:\n",
    "           continue\n",
    "    return sum\n",
    "\n",
    "sum_objs([True, False, '5', 'Vanessa', 'Kasozi', 8])"
   ]
  },
  {
   "cell_type": "markdown",
   "metadata": {},
   "source": [
    "Write a function (run_timing) that asks how long it took for you to run 10 km. The function continues to ask how long (in minutes) it took for additional runs, until the user presses Enter. At that point, the function exits—but only after calculating and displaying the average time that the 10 km runs took."
   ]
  },
  {
   "cell_type": "code",
   "execution_count": null,
   "metadata": {},
   "outputs": [],
   "source": [
    "def run_timing():\n",
    "    days = 0\n",
    "    sum = 0\n",
    "    while True:\n",
    "        response = input('Insert the time for 10km in seconds: ')\n",
    "        if response == '':\n",
    "            break\n",
    "        sum = sum + float(response)\n",
    "        days = days + 1        \n",
    "    return sum / days    \n",
    "run_timing()"
   ]
  },
  {
   "cell_type": "markdown",
   "metadata": {},
   "source": [
    "Write a function that takes a float and two integers (before and after). The function should return a float consisting of before digits before the decimal point and after digits after. Thus, if we call the function with 1234.5678, 2 and\n",
    "3, the return value should be 34.567."
   ]
  },
  {
   "cell_type": "code",
   "execution_count": null,
   "metadata": {},
   "outputs": [],
   "source": [
    "def format(number: float, before, after):\n",
    "    string = str(number)\n",
    "    left, right = string.split('.')\n",
    "    new_left = left[-before:]\n",
    "    new_right = right[:after]\n",
    "    return float(f'{new_left}.{new_right}')\n",
    "\n",
    "format(1234.5678, 1, 3)"
   ]
  },
  {
   "cell_type": "code",
   "execution_count": null,
   "metadata": {},
   "outputs": [],
   "source": [
    "name = 'Vanessa'\n",
    "# get one item from the string\n",
    "print(name[4])\n",
    "\n",
    "# get the last letter in the string\n",
    "print(name[-1])\n",
    "\n",
    "#get the first 2 letters\n",
    "print(name[:2])\n",
    "\n",
    "#get the first 5 letters\n",
    "print(name[:5])\n",
    "\n",
    "#get the last two letters\n",
    "print(name[-2:])\n",
    "\n",
    "# get the last 5 letters\n",
    "print(name[-5:])\n",
    "\n",
    "s = '1234'\n",
    "print(s[-2:])\n",
    "\n",
    "t = '5678'\n",
    "print(t[0:3])\n"
   ]
  },
  {
   "cell_type": "markdown",
   "metadata": {},
   "source": [
    "Explore the Decimal class (http://mng.bz/oPVr), which has an alternative floating-point representation that’s as accurate as any decimal number can be. Write a function that takes two strings from the user, turns them into decimal\n",
    "instances, and then prints the floating-point sum of the user’s two inputs. In other words, make it possible for the user to enter 0.1 and 0.2, and for us to get 0.3 back."
   ]
  },
  {
   "cell_type": "code",
   "execution_count": null,
   "metadata": {},
   "outputs": [],
   "source": [
    "from decimal import Decimal\n",
    "\n",
    "def solution():\n",
    "    first = Decimal(input('Insert the first string: '))\n",
    "    second = Decimal(input('Insert the second string: '))\n",
    "    return float(first + second)\n",
    "solution()"
   ]
  },
  {
   "cell_type": "code",
   "execution_count": null,
   "metadata": {},
   "outputs": [],
   "source": [
    "def convert10(input, base):\n",
    "  decnum = 0\n",
    "  for power, digit in enumerate(reversed(input)): \n",
    "     decnum += int(digit, base) * (base ** power) \n",
    "  return decnum"
   ]
  },
  {
   "cell_type": "markdown",
   "metadata": {},
   "source": [
    "Reimplement the solution for this exercise such that it doesn’t use the int function at all, but rather uses the built-in ord and chr functions to identify the character. This implementation should be more robust, ignoring characters that aren’t legal for the entered number base."
   ]
  },
  {
   "cell_type": "code",
   "execution_count": null,
   "metadata": {},
   "outputs": [],
   "source": []
  },
  {
   "cell_type": "markdown",
   "metadata": {},
   "source": [
    "Write a program that asks the user for their name and then produces a “name triangle”: the first letter of their name, then the first two letters, then the first three, and so forth, until the entire name is written on the final line. "
   ]
  },
  {
   "cell_type": "code",
   "execution_count": null,
   "metadata": {},
   "outputs": [],
   "source": [
    "def name_triangle(name):\n",
    "    for (idx, _) in enumerate(name):\n",
    "        print(name[0: idx + 1])\n",
    "name_triangle('Vanessa')"
   ]
  },
  {
   "cell_type": "code",
   "execution_count": null,
   "metadata": {},
   "outputs": [],
   "source": [
    "def slice(name, lower, upper):\n",
    "    while lower < upper:\n",
    "        print(name[lower], end='')\n",
    "        lower = lower + 1\n",
    "slice('Vanessa', 0, 3)"
   ]
  },
  {
   "cell_type": "code",
   "execution_count": null,
   "metadata": {},
   "outputs": [],
   "source": [
    "'kasozi' in ['kasozi', 'vincent']\n",
    "'k' in 'kasozi'\n",
    "2 in {1, 5, 6}"
   ]
  },
  {
   "cell_type": "markdown",
   "metadata": {},
   "source": [
    "Pig Latin (http://mng.bz/YrON) is a common children’s “secret” language in English speaking countries. (It’s normally secret among children who forget that their parents\n",
    "were once children themselves.) The rules for translating words from English into Pig\n",
    "Latin are quite simple:\n",
    "- If the word begins with a vowel (a, e, i, o, or u), add “way” to the end of the\n",
    "word. So “air” becomes “airway” and “eat” becomes \"eatway.\"\n",
    "- If the word begins with any other letter, then we take the first letter, put it on\n",
    "the end of the word, and then add \"ay.\" Thus, “python” becomes “ythonpay”\n",
    "and “computer” becomes “omputercay.”\n"
   ]
  },
  {
   "cell_type": "code",
   "execution_count": 26,
   "metadata": {},
   "outputs": [],
   "source": [
    "def is_vowel(letter):\n",
    "    return letter in 'aeiouAIEOU'\n",
    "\n",
    "def pig_latin(word: str) -> str:\n",
    "    if is_vowel(word[0]):\n",
    "        return f'{word}way'\n",
    "    else:\n",
    "        return f'{word[1:]}{word[0]}ay'\n",
    "\n",
    "def pig_latin_pun(word: str) -> str:\n",
    "    if is_vowel(word[0]):\n",
    "        return f'{word[:-1]}way{word[-1]}'\n",
    "    else:\n",
    "        return f'{word[1:-1]}{word[0]}ay{word[-1]}'\n",
    "    \n"
   ]
  },
  {
   "cell_type": "markdown",
   "metadata": {},
   "source": [
    "Handle capitalized words—If a word is capitalized (i.e., the first letter is capitalized, but the rest of the word isn’t), then the Pig Latin translation should be similarly capitalized."
   ]
  },
  {
   "cell_type": "code",
   "execution_count": null,
   "metadata": {},
   "outputs": [],
   "source": [
    "def pig_latin_caps(word: str) -> str:\n",
    "    if word[0].islower():\n",
    "        return pig_latin(word)\n",
    "    else:\n",
    "        return pig_latin(word).capitalize()\n",
    "pig_latin_caps('air')"
   ]
  },
  {
   "cell_type": "markdown",
   "metadata": {},
   "source": [
    "Handle punctuation—If a word ends with punctuation, then that punctuation should be shifted to the end of the translated word."
   ]
  },
  {
   "cell_type": "code",
   "execution_count": null,
   "metadata": {},
   "outputs": [],
   "source": [
    "import string\n",
    "def pig_latin_punc(word: str) -> str:\n",
    "    if word[-1] in string.punctuation:\n",
    "        return pig_latin_pun(word)\n",
    "    else:\n",
    "        return pig_latin_caps(word)\n",
    "pig_latin_punc('air')"
   ]
  },
  {
   "cell_type": "markdown",
   "metadata": {},
   "source": [
    "Now that you’ve successfully written a translator for a single English word, let’s make things more difficult: translate a series of English words into Pig Latin. Write a function called pl_sentence that takes a string containing several words, separated by spaces. (To make things easier, we won’t actually ask for a real sentence. More specifically, there will be no capital letters or punctuation.)"
   ]
  },
  {
   "cell_type": "code",
   "execution_count": null,
   "metadata": {},
   "outputs": [],
   "source": [
    "def pl_sentence(sentence: str) -> str:\n",
    "    foo = []\n",
    "    for word in sentence.split():\n",
    "        foo.append(pig_latin(word))\n",
    "    return ' '.join(foo)\n",
    "\n",
    "pl_sentence('this is a test translation')"
   ]
  },
  {
   "cell_type": "markdown",
   "metadata": {},
   "source": [
    "Take a text file, creating (and printing) a nonsensical sentence from the nth word on each of the first 10 lines, where n is the line number."
   ]
  },
  {
   "cell_type": "code",
   "execution_count": null,
   "metadata": {},
   "outputs": [],
   "source": [
    "city = 'New York'\n",
    "city"
   ]
  },
  {
   "cell_type": "code",
   "execution_count": null,
   "metadata": {},
   "outputs": [],
   "source": [
    "city = \"New York\"\n",
    "city"
   ]
  },
  {
   "cell_type": "code",
   "execution_count": null,
   "metadata": {},
   "outputs": [],
   "source": [
    "number = str(8)\n",
    "number"
   ]
  },
  {
   "cell_type": "markdown",
   "metadata": {},
   "source": [
    "String Concatenation"
   ]
  },
  {
   "cell_type": "code",
   "execution_count": null,
   "metadata": {},
   "outputs": [],
   "source": [
    "first_name = 'Mirembe'\n",
    "second_name = 'Vanessa'\n",
    "full_name = f'{first_name} {second_name}'\n",
    "full_name"
   ]
  },
  {
   "cell_type": "markdown",
   "metadata": {},
   "source": [
    "Selecting a char"
   ]
  },
  {
   "cell_type": "code",
   "execution_count": null,
   "metadata": {},
   "outputs": [],
   "source": [
    "name = 'Mirembe Vanessa'\n",
    "name[0]"
   ]
  },
  {
   "cell_type": "markdown",
   "metadata": {},
   "source": [
    "Size of a String"
   ]
  },
  {
   "cell_type": "code",
   "execution_count": null,
   "metadata": {},
   "outputs": [],
   "source": [
    "name = 'Mirembe Vanessa'\n",
    "len(name)"
   ]
  },
  {
   "cell_type": "markdown",
   "metadata": {},
   "source": [
    "Replacing a substring in a string"
   ]
  },
  {
   "cell_type": "code",
   "execution_count": null,
   "metadata": {},
   "outputs": [],
   "source": [
    "name = 'Mirembe Vincent'\n",
    "name.replace('Mirembe', 'Kasozi')"
   ]
  },
  {
   "cell_type": "markdown",
   "metadata": {},
   "source": [
    "Counting substring occurences in a string"
   ]
  },
  {
   "cell_type": "code",
   "execution_count": null,
   "metadata": {},
   "outputs": [],
   "source": [
    "'Vincent Vanessa'.count('Vin')"
   ]
  },
  {
   "cell_type": "markdown",
   "metadata": {},
   "source": [
    "Repeating a String"
   ]
  },
  {
   "cell_type": "code",
   "execution_count": null,
   "metadata": {},
   "outputs": [],
   "source": [
    "'Vincent' * 4"
   ]
  },
  {
   "cell_type": "markdown",
   "metadata": {},
   "source": [
    "How to Split a String"
   ]
  },
  {
   "cell_type": "code",
   "execution_count": null,
   "metadata": {},
   "outputs": [],
   "source": [
    "names = ['kasozi Vincent Vanessa', 'Mirembe Vanessa']\n",
    "for name in names:\n",
    "    first, middle = name.split(maxsplit=1)\n",
    "    print(first, middle)"
   ]
  },
  {
   "cell_type": "code",
   "execution_count": null,
   "metadata": {},
   "outputs": [],
   "source": [
    "'mIREMEBE vANESSA'.swapcase()"
   ]
  },
  {
   "cell_type": "markdown",
   "metadata": {},
   "source": [
    "- input\n",
    "- print\n",
    "- int\n",
    "- bool\n",
    "- float\n",
    "- str\n",
    "- enumerate\n",
    "- reversed\n",
    "- sum\n",
    "- help\n",
    "- type\n",
    "- len\n",
    "- hex\n",
    "- dir"
   ]
  },
  {
   "cell_type": "markdown",
   "metadata": {},
   "source": [
    "Ubbi Dubbi"
   ]
  },
  {
   "cell_type": "code",
   "execution_count": null,
   "metadata": {},
   "outputs": [],
   "source": [
    "def ubbi_dubbi(word: str) -> str:\n",
    "    response = []\n",
    "    for letter in word:\n",
    "        if is_vowel(letter):\n",
    "            response.append(f'ub{letter}')\n",
    "        else:\n",
    "            response.append(letter)\n",
    "    return ''.join(response)\n",
    "\n",
    "ubbi_dubbi('eat')"
   ]
  },
  {
   "cell_type": "markdown",
   "metadata": {},
   "source": [
    "Handle capitalized words—If a word is capitalized (i.e., the first letter is capitalized, but the rest of the word isn’t), then the Ubbi Dubbi translation should be similarly capitalized."
   ]
  },
  {
   "cell_type": "code",
   "execution_count": null,
   "metadata": {},
   "outputs": [],
   "source": [
    "def ubbi_dubbi_caps(word: str) -> str:\n",
    "    if word[0].isupper():\n",
    "        return ubbi_dubbi(word).capitalize()\n",
    "    else:\n",
    "        return ubbi_dubbi(word)\n",
    "ubbi_dubbi_caps('Eat')"
   ]
  },
  {
   "cell_type": "markdown",
   "metadata": {},
   "source": [
    "Remove author names—In academia, it’s common to remove the authors’ names from a paper submitted for peer review. Given a string containing an article and a separate list of strings containing authors’ names, replace all names in the\n",
    "article with _ characters."
   ]
  },
  {
   "cell_type": "code",
   "execution_count": null,
   "metadata": {},
   "outputs": [],
   "source": [
    "from typing import List\n",
    "def replace_names(article: str, names: List[str]) -> str:\n",
    "    for name in names:\n",
    "        article = article.replace(name, '_' * len(name))\n",
    "    return article\n",
    "\n",
    "article = '''\n",
    "     Makerere University .....\n",
    "     Kasozi Vincent Mirembe Vanessa\n",
    "      abstract:\n",
    "      dskhlakfhkafh;ahf;sjkdfh;adsfjh;f\n",
    "      sdfjakfjadflkjafljksdfakfkdfbakdfbak\n",
    "'''\n",
    "\n",
    "\n",
    "names = ['Kasozi Vincent', 'Mirembe Vanessa']\n",
    "\n",
    "print(replace_names(article, names))"
   ]
  },
  {
   "cell_type": "markdown",
   "metadata": {},
   "source": [
    "URL-encode characters—In URLs, we often replace special and nonprintable characters with a % followed by the character’s ASCII value in hexadecimal. For example, if a URL is to include a space character (ASCII 32, aka 0x20), we\n",
    "replace it with %20. Given a string, URL-encode any character that isn’t a letter or number. For the purposes of this exercise, we’ll assume that all characters are indeed in ASCII (i.e., one byte long), and not multibyte UTF-8 characters. It might help to know about the ord (http://mng.bz/EdnJ) and hex (http://mng\n",
    ".bz/nPxg) functions."
   ]
  },
  {
   "cell_type": "code",
   "execution_count": null,
   "metadata": {},
   "outputs": [],
   "source": [
    "import string\n",
    "def url_encode(url):\n",
    "    response = []\n",
    "    for letter in url:\n",
    "        if (letter in string.punctuation) or letter.isspace():\n",
    "            s = hex(ord(letter)).replace('0x', '%')\n",
    "            response.append(s)\n",
    "        else:\n",
    "            response.append(letter)\n",
    "    return ''.join(response)\n",
    "\n",
    "url_encode('hello world ')"
   ]
  },
  {
   "cell_type": "markdown",
   "metadata": {},
   "source": [
    " Sorting a string"
   ]
  },
  {
   "cell_type": "code",
   "execution_count": null,
   "metadata": {},
   "outputs": [],
   "source": [
    "def sort_string(word: str) -> str:\n",
    "    return ''.join(sorted(word))\n",
    "\n",
    "def sort_capitalized(word: str) -> str:\n",
    "    if word[0].isupper():\n",
    "        return ''.join(sorted(word.lower())).capitalize()\n",
    "    else:\n",
    "        return sort_string(word)\n",
    "\n",
    "sort_capitalized('vanessa')"
   ]
  },
  {
   "cell_type": "markdown",
   "metadata": {},
   "source": [
    "Given the string “Tom Dick Harry,” break it into individual words, and then sort those words alphabetically. Once they’re sorted, print them with commas (,) between the names."
   ]
  },
  {
   "cell_type": "code",
   "execution_count": null,
   "metadata": {},
   "outputs": [],
   "source": [
    "def sort_sentence(sentence: str) -> str:\n",
    "    response = []\n",
    "    for word in sentence.split():\n",
    "        response.append(sort_capitalized(word))\n",
    "    return ', '.join(response)\n",
    "\n",
    "sort_sentence('Tom Dick Harry')"
   ]
  },
  {
   "cell_type": "markdown",
   "metadata": {},
   "source": [
    "Which is the last word, alphabetically, in a text file?"
   ]
  },
  {
   "cell_type": "code",
   "execution_count": null,
   "metadata": {},
   "outputs": [],
   "source": [
    "def get_last(file: str) -> str:\n",
    "    words = file.split()\n",
    "    return sorted(words)[-1]"
   ]
  },
  {
   "cell_type": "markdown",
   "metadata": {},
   "source": [
    "Which is the longest word in a text file?"
   ]
  },
  {
   "cell_type": "code",
   "execution_count": null,
   "metadata": {},
   "outputs": [],
   "source": [
    "names = ['Vanessa', 'Alex','Kasozi']\n",
    "sorted(names, key=len)[-1]"
   ]
  },
  {
   "cell_type": "markdown",
   "metadata": {},
   "source": [
    "Write a function, firstlast, that takes a sequence (string, list, or tuple) and returns the first and last elements of that sequence, in a two-element sequence of the same type. So firstlast('abc') will return the string ac, while firstlast([1,2,3,4]) will return the list [1,4]."
   ]
  },
  {
   "cell_type": "code",
   "execution_count": 60,
   "metadata": {},
   "outputs": [
    {
     "data": {
      "text/plain": [
       "('a', 'e')"
      ]
     },
     "execution_count": 60,
     "metadata": {},
     "output_type": "execute_result"
    }
   ],
   "source": [
    "def first_last(seq):\n",
    "    return seq[0:1] + seq[-1:]\n",
    "\n",
    "first_last(tuple('abcde'))"
   ]
  },
  {
   "cell_type": "markdown",
   "metadata": {},
   "source": [
    "Don’t write one function that squares integers, and another that squares floats.\n",
    "Write one function that handles all numbers."
   ]
  },
  {
   "cell_type": "code",
   "execution_count": 64,
   "metadata": {},
   "outputs": [
    {
     "data": {
      "text/plain": [
       "81.0"
      ]
     },
     "execution_count": 64,
     "metadata": {},
     "output_type": "execute_result"
    }
   ],
   "source": [
    "def square(number):\n",
    "    return number ** 2\n",
    "square(9.0)"
   ]
  },
  {
   "cell_type": "markdown",
   "metadata": {},
   "source": [
    "Don’t write one function that finds the largest element of a string, another that does the same for a list, and a third that does the same for a tuple. Write just one function that works on all of them."
   ]
  },
  {
   "cell_type": "code",
   "execution_count": 69,
   "metadata": {},
   "outputs": [
    {
     "data": {
      "text/plain": [
       "'z'"
      ]
     },
     "execution_count": 69,
     "metadata": {},
     "output_type": "execute_result"
    }
   ],
   "source": [
    "def maximum(seq):\n",
    "    biggest = seq[0]\n",
    "    for element in seq[1:]:\n",
    "        if element > biggest:\n",
    "            biggest = element\n",
    "    return biggest"
   ]
  },
  {
   "cell_type": "markdown",
   "metadata": {},
   "source": [
    "Write a function that takes a list or tuple of numbers. Return a two-element list, containing (respectively) the sum of the even-indexed numbers and the sum of the odd-indexed numbers. So calling the function as even_odd_sums([10, 20,\n",
    "30, 40, 50, 60]), you’ll get back [90, 120]."
   ]
  },
  {
   "cell_type": "code",
   "execution_count": 78,
   "metadata": {},
   "outputs": [
    {
     "data": {
      "text/plain": [
       "[90, 120]"
      ]
     },
     "execution_count": 78,
     "metadata": {},
     "output_type": "execute_result"
    }
   ],
   "source": [
    "def even_odds_sums(seq):\n",
    "    evens = sum(seq[::2])\n",
    "    odds = sum(seq[1::2])\n",
    "    return [evens, odds]\n",
    "\n",
    "even_odds_sums(range(10, 70, 10))"
   ]
  },
  {
   "cell_type": "markdown",
   "metadata": {},
   "source": [
    "Write a function that takes a list or tuple of numbers. Return the result of alternately adding and subtracting numbers from each other. So calling the function as plus_minus([10, 20, 30, 40, 50, 60]), you’ll get back the result of\n",
    "10+20-30+40-50+60, or 50."
   ]
  },
  {
   "cell_type": "code",
   "execution_count": 79,
   "metadata": {},
   "outputs": [
    {
     "data": {
      "text/plain": [
       "50"
      ]
     },
     "execution_count": 79,
     "metadata": {},
     "output_type": "execute_result"
    }
   ],
   "source": [
    "def plus_minus(seq):\n",
    "    sign = 1\n",
    "    sum = seq[0]\n",
    "    for number in seq[1:]:\n",
    "        sum = sum + number * sign\n",
    "        sign = sign * -1\n",
    "    return sum\n",
    "\n",
    "plus_minus(range(10, 70, 10))"
   ]
  },
  {
   "cell_type": "markdown",
   "metadata": {},
   "source": [
    "Write a function that partly emulates the built-in zip function (http://mng.bz/Jyzv), taking any number of iterables and returning a list of tuples. Each tuple will contain one element from each of the iterables passed to the function.\n",
    "Thus, if I call myzip([10, 20,30], 'abc'), the result will be [(10, 'a'), (20,'b'), (30, 'c')]. You can return a list (not an iterator) and can assume that all of the iterables are of the same length"
   ]
  },
  {
   "cell_type": "code",
   "execution_count": 7,
   "metadata": {},
   "outputs": [
    {
     "data": {
      "text/plain": [
       "[(1, 'a', 7), (2, 'b', 5)]"
      ]
     },
     "execution_count": 7,
     "metadata": {},
     "output_type": "execute_result"
    }
   ],
   "source": [
    "def my_zip(*iterables):\n",
    "    result = []\n",
    "    smallest = min([len(iterable) for iterable in iterables])\n",
    "    for index in range(smallest):\n",
    "        result.append(tuple([iterable[index] for iterable in iterables]))\n",
    "    return result\n",
    "    \n",
    "my_zip([1, 2, 5], 'abcd', (7, 5))"
   ]
  },
  {
   "cell_type": "markdown",
   "metadata": {},
   "source": [
    "Write a function, sum_numeric, that takes any number of arguments. If the argument is or can be turned into an integer, then it should be added to the total. Arguments that can’t be handled as integers should be ignored. The\n",
    "result is the sum of the numbers. Thus, sum_numeric(10, 20, 'a', '30', 'bcd') would return 60. Notice that even if the string 30 is an element in the list, it’s converted into an integer and added to the total."
   ]
  },
  {
   "cell_type": "code",
   "execution_count": 13,
   "metadata": {},
   "outputs": [
    {
     "name": "stdout",
     "output_type": "stream",
     "text": [
      "🔥🔥🔥🔥🔥🔥🔥\n",
      "🔥🔥🔥🔥🔥🔥🔥\n"
     ]
    },
    {
     "data": {
      "text/plain": [
       "21"
      ]
     },
     "execution_count": 13,
     "metadata": {},
     "output_type": "execute_result"
    }
   ],
   "source": [
    "def sum_numeric(*elements):\n",
    "    total = 0\n",
    "    for element in elements:\n",
    "        try:\n",
    "           if isinstance(element, int):\n",
    "              total = total + element\n",
    "           else:\n",
    "              total = total + int(element)\n",
    "        except:\n",
    "           print('🔥🔥🔥🔥🔥🔥🔥')\n",
    "           continue\n",
    "    return total\n",
    "\n",
    "sum_numeric(2, 6, 5, '8', 'kasozi', 0, '7g')"
   ]
  },
  {
   "cell_type": "markdown",
   "metadata": {},
   "source": [
    "Write a function that takes a list of dicts and returns a single dict that combines all of the keys and values. If a key appears in more than one argument, the value should be a list containing all of the values from the arguments."
   ]
  },
  {
   "cell_type": "code",
   "execution_count": null,
   "metadata": {},
   "outputs": [],
   "source": []
  },
  {
   "cell_type": "markdown",
   "metadata": {},
   "source": [
    "This challenge asks you to redefine the mysum function we defined in chapter 1, such that it can take any number of arguments. The arguments must all be of the same type and know how to respond to the + operator. (Thus, the function should work with numbers, strings, lists, and tuples, but not with sets and dicts.)"
   ]
  },
  {
   "cell_type": "code",
   "execution_count": 19,
   "metadata": {},
   "outputs": [
    {
     "data": {
      "text/plain": [
       "[1, 2, 8, 5, 6, 7]"
      ]
     },
     "execution_count": 19,
     "metadata": {},
     "output_type": "execute_result"
    }
   ],
   "source": [
    "def my_sum(*args):\n",
    "    result = args[0]\n",
    "    for arg in args[1:]:\n",
    "        result = result + arg\n",
    "    return result\n",
    "my_sum([1, 2, 8, 5], [6, 7])"
   ]
  },
  {
   "cell_type": "markdown",
   "metadata": {},
   "source": [
    "Write a function, mysum_bigger_than, that works the same as mysum, except that it takes a first argument that precedes *args. That argument indicates the threshold for including an argument in the sum. Thus, calling mysum_bigger\n",
    "_than(10, 5, 20, 30, 6) would return 50—because 5 and 6 aren’t greater than 10. This function should similarly work with any type and assumes that all of the arguments are of the same type. Note that > and < work on many different types in Python, not just on numbers; with strings, lists, and tuples, it refers to their sort order."
   ]
  },
  {
   "cell_type": "code",
   "execution_count": null,
   "metadata": {},
   "outputs": [],
   "source": []
  },
  {
   "cell_type": "markdown",
   "metadata": {},
   "source": [
    "Given a sequence of positive and negative numbers, sort them by absolute value."
   ]
  },
  {
   "cell_type": "code",
   "execution_count": 22,
   "metadata": {},
   "outputs": [
    {
     "data": {
      "text/plain": [
       "[0, 2, -4, 8, -100]"
      ]
     },
     "execution_count": 22,
     "metadata": {},
     "output_type": "execute_result"
    }
   ],
   "source": [
    "def sort_by_abs(seq):\n",
    "    return sorted(seq, key=abs)"
   ]
  },
  {
   "cell_type": "markdown",
   "metadata": {},
   "source": [
    "Given a list of strings, sort them according to how many vowels they contain."
   ]
  },
  {
   "cell_type": "code",
   "execution_count": 33,
   "metadata": {},
   "outputs": [
    {
     "data": {
      "text/plain": [
       "['vincent', 'kasozi', 'vanessa', 'adrian']"
      ]
     },
     "execution_count": 33,
     "metadata": {},
     "output_type": "execute_result"
    }
   ],
   "source": [
    "def count_vowels(word):\n",
    "    return sum([1 for letter in word if is_vowel(letter)])\n",
    "\n",
    "def count_as(word):\n",
    "    return sum([1 for letter in word if letter == 'a'])\n",
    "\n",
    "names = ['kasozi', 'vincent', 'vanessa', 'adrian']\n",
    "sorted(names, key=count_as)"
   ]
  },
  {
   "cell_type": "markdown",
   "metadata": {},
   "source": [
    "Given a list of lists, with each list containing zero or more numbers, sort by the sum of each inner list’s numbers."
   ]
  },
  {
   "cell_type": "code",
   "execution_count": 37,
   "metadata": {},
   "outputs": [
    {
     "data": {
      "text/plain": [
       "[[1, 5], [9], [5, 6, 4]]"
      ]
     },
     "execution_count": 37,
     "metadata": {},
     "output_type": "execute_result"
    }
   ],
   "source": [
    "sorted([[1, 5], [5, 6, 4], [9]], key=sum)"
   ]
  },
  {
   "cell_type": "markdown",
   "metadata": {},
   "source": [
    "Write a function, most_repeating_word, that takes a sequence of strings as input. The function should return the string that contains the greatest number of repeated letters. In other words\n",
    "- For each word, find the letter that appears the most times.\n",
    "- Find the word whose most-repeated letter appears more than any other."
   ]
  },
  {
   "cell_type": "code",
   "execution_count": null,
   "metadata": {},
   "outputs": [],
   "source": []
  },
  {
   "cell_type": "markdown",
   "metadata": {},
   "source": [
    "Instead of finding the word with the greatest number of repeated letters, find the word with the greatest number of repeated vowels."
   ]
  },
  {
   "cell_type": "code",
   "execution_count": null,
   "metadata": {},
   "outputs": [],
   "source": []
  },
  {
   "cell_type": "markdown",
   "metadata": {},
   "source": [
    "## Dictionaries"
   ]
  },
  {
   "cell_type": "markdown",
   "metadata": {},
   "source": [
    "In this exercise, I want you to create a new constant dict, called MENU, representing\n",
    "the possible items you can order at a restaurant. The keys will be strings, and the values will be prices (i.e., integers). You should then write a function, restaurant, that\n",
    "asks the user to enter an order:\n",
    "- If the user enters the name of a dish on the menu, the program prints the price\n",
    "and the running total. It then asks the user again for their order.\n",
    "- If the user enters the name of a dish not on the menu, the program scolds the\n",
    "user (mildly). It then asks the user again for their order.\n",
    "- If the user enters an empty string, the program stops prompting and prints the\n",
    "total amount."
   ]
  },
  {
   "cell_type": "code",
   "execution_count": 26,
   "metadata": {},
   "outputs": [
    {
     "name": "stdout",
     "output_type": "stream",
     "text": [
      "The total is 0\n"
     ]
    }
   ],
   "source": [
    "menu = {'tea': 10, 'pizza': 25, 'chawarma': 12, 'tacos': 20}  \n",
    "\n",
    "def restaurant():\n",
    "    total_price = 0\n",
    "    while True:\n",
    "       order = input('Enter your order: ')\n",
    "       if order == '':\n",
    "          print(f'The total is {total_price}')\n",
    "          break\n",
    "       elif order in menu:\n",
    "           price = menu[order]\n",
    "           total_price = total_price + price\n",
    "           print(f'item: {order},price: {price}, total price: {total_price}')\n",
    "       else:\n",
    "           print('sorry, we don\\'t have that')\n",
    "          \n",
    "restaurant()"
   ]
  },
  {
   "cell_type": "markdown",
   "metadata": {},
   "source": [
    "Create a dict in which the keys are usernames and the values are passwords,both represented as strings. Create a tiny login system, in which the user must enter a username and password. If there is a match, then indicate that the user\n",
    "has successfully logged in. If not, then refuse them entry. (Note: This is a nice little exercise, but please never store unencrypted passwords. It’s a major security risk.)"
   ]
  },
  {
   "cell_type": "code",
   "execution_count": 10,
   "metadata": {},
   "outputs": [
    {
     "name": "stdout",
     "output_type": "stream",
     "text": [
      "Invalid password\n"
     ]
    }
   ],
   "source": [
    "credentials = {'kasozi': 'function', 'mirembe': 'computer', 'bob': 'alice'}\n",
    "\n",
    "def login():\n",
    "    user_name = input('Enter your user name: ')\n",
    "    password = input('Enter your password: ')\n",
    "    if user_name in credentials:\n",
    "        if password == credentials[user_name]:\n",
    "            print('login successfull')\n",
    "        else:\n",
    "            print('Invalid password')\n",
    "    else:\n",
    "        print('user name doesn\\'t exist')\n",
    "\n",
    "login()"
   ]
  },
  {
   "cell_type": "markdown",
   "metadata": {},
   "source": [
    "Define a dict whose keys are dates (represented by strings) from the most recent week and whose values are temperatures. Ask the user to enter a date, and display the temperature on that date, as well as the previous and subsequent dates, if available."
   ]
  },
  {
   "cell_type": "code",
   "execution_count": null,
   "metadata": {},
   "outputs": [],
   "source": []
  },
  {
   "cell_type": "markdown",
   "metadata": {},
   "source": [
    "Define a dict whose keys are names of people in your family, and whose values are their birth dates, as represented by Python date objects (http://mng.bz/jggr). Ask the user to enter the name of someone in your family, and have the\n",
    "program calculate how many days old that person is. "
   ]
  },
  {
   "cell_type": "code",
   "execution_count": 18,
   "metadata": {},
   "outputs": [
    {
     "name": "stdout",
     "output_type": "stream",
     "text": [
      "bob is 0 days old\n"
     ]
    }
   ],
   "source": [
    "from datetime import date\n",
    "\n",
    "family_details = {\n",
    "    'kasozi': date(1997, 9, 4),\n",
    "    'vanessa': date(2001, 5, 25),\n",
    "    'isaac': date(1642, 12, 25)\n",
    "}\n",
    "\n",
    "def get_days():\n",
    "    name = input('Insert the name :')\n",
    "    dob = family_details.get(name, date.today())\n",
    "    today = date.today()\n",
    "    days = (today - dob).days\n",
    "    print(f'{name} is {days} days old')\n",
    "\n",
    "get_days()"
   ]
  },
  {
   "cell_type": "markdown",
   "metadata": {},
   "source": [
    "Specifically, write a function, get_rainfall, that tracks rainfall in a number of cities. Users of your program will enter the name of a city; if the city name is blank, then the function prints a report (which I’ll describe) before exiting. If the city name isn’t blank, then the program should also ask the user how much rain has fallen in that city (typically measured in millimeters). After the user enters the quantity of rain, the program again asks them for a city name, rainfall amount, and so on—until the user presses Enter instead of typing the name of a city.When the user enters a blank city name, the program exits—but first, it reports\n",
    "how much total rainfall there was in each city"
   ]
  },
  {
   "cell_type": "code",
   "execution_count": 23,
   "metadata": {},
   "outputs": [
    {
     "name": "stdout",
     "output_type": "stream",
     "text": [
      "Kampala --------- 50\n",
      "Mbarara --------- 12\n"
     ]
    }
   ],
   "source": [
    "def get_rainfall():\n",
    "    rainfall = {}\n",
    "    while True:\n",
    "       city = input('Enter the city: ')\n",
    "       if city == '':\n",
    "          print_report(rainfall)\n",
    "          break\n",
    "       else:\n",
    "          amount = int(input(f'Enter the amount of rainfall for {city}'))\n",
    "          rainfall[city] = rainfall.get(city, 0) + amount\n",
    "\n",
    "\n",
    "def print_report(rainfall):\n",
    "   for city, amount in rainfall.items():\n",
    "      print(f'{city} --------- {amount}')\n",
    "\n",
    "get_rainfall()"
   ]
  },
  {
   "cell_type": "markdown",
   "metadata": {},
   "source": [
    "Instead of printing just the total rainfall for each city, print the total rainfall and the average rainfall for reported days. Thus, if you were to enter 30, 20, and 40 for Boston, you would see that the total was 90 and the average was 30."
   ]
  },
  {
   "cell_type": "code",
   "execution_count": 16,
   "metadata": {},
   "outputs": [
    {
     "name": "stdout",
     "output_type": "stream",
     "text": [
      "city: ------------- Total ---------------- Avg\n"
     ]
    }
   ],
   "source": [
    "def get_rainfall_avg():\n",
    "    rainfall = {}\n",
    "    while True:\n",
    "        city = input('Enter the city: ')\n",
    "        if city == '':\n",
    "            print_report(rainfall)\n",
    "            break\n",
    "        else:\n",
    "            amount = int(input('Enter the amount in millimeters: '))\n",
    "            rainfall[city] = rainfall.get(city, []) + [amount]\n",
    "            print(rainfall)\n",
    "\n",
    "def print_report(rainfall):\n",
    "    print('city: ------------- Total ---------------- Avg')\n",
    "    for (key, value) in rainfall.items():\n",
    "        print(f'{key} ------------- {sum(value)} ---------------- {sum(value)/len(value)}')\n",
    "\n",
    "get_rainfall_avg()"
   ]
  },
  {
   "cell_type": "markdown",
   "metadata": {},
   "source": [
    "Read through a text file on disk. Use a dict to track how many words of each length are in the file—that is, how many three-letter words, four-letter words, five-letter words, and so on. Display your results."
   ]
  },
  {
   "cell_type": "code",
   "execution_count": 37,
   "metadata": {},
   "outputs": [
    {
     "data": {
      "text/plain": [
       "{'L': ['Lorem'],\n",
       " 'i': ['ipsum',\n",
       "  'id',\n",
       "  'in',\n",
       "  'iaculis',\n",
       "  'in',\n",
       "  'in',\n",
       "  'interdum',\n",
       "  'ipsum',\n",
       "  'ipsum',\n",
       "  'in',\n",
       "  'in',\n",
       "  'iaculis',\n",
       "  'ipsum',\n",
       "  'in',\n",
       "  'id',\n",
       "  'id',\n",
       "  'id'],\n",
       " 'd': ['dolor',\n",
       "  'dictum',\n",
       "  'diam',\n",
       "  'diam',\n",
       "  'dignissim',\n",
       "  'dapibus',\n",
       "  'dapibus',\n",
       "  'dolor'],\n",
       " 's': ['sit',\n",
       "  'suscipit.',\n",
       "  'suscipit',\n",
       "  'sem',\n",
       "  'sem',\n",
       "  'scelerisque.',\n",
       "  'semper.',\n",
       "  'sit',\n",
       "  'sed',\n",
       "  'sapien',\n",
       "  'sem.',\n",
       "  'suscipit',\n",
       "  'sed',\n",
       "  'sed',\n",
       "  'sapien',\n",
       "  'sodales',\n",
       "  'sapien.',\n",
       "  'suscipit.',\n",
       "  'sem'],\n",
       " 'a': ['amet,',\n",
       "  'adipiscing',\n",
       "  'ac',\n",
       "  'at',\n",
       "  'augue',\n",
       "  'a',\n",
       "  'ac',\n",
       "  'at',\n",
       "  'aliquam',\n",
       "  'a',\n",
       "  'aliquam,',\n",
       "  'at',\n",
       "  'accumsan,',\n",
       "  'ante',\n",
       "  'ac',\n",
       "  'a',\n",
       "  'amet',\n",
       "  'a',\n",
       "  'ante',\n",
       "  'a',\n",
       "  'arcu',\n",
       "  'aliquam',\n",
       "  'a',\n",
       "  'aliquet',\n",
       "  'ac,',\n",
       "  'aliquet',\n",
       "  'at',\n",
       "  'accumsan.',\n",
       "  'ac',\n",
       "  'ac',\n",
       "  'aliquam',\n",
       "  'aliquet.',\n",
       "  'auctor,',\n",
       "  'aliquet'],\n",
       " 'c': ['consectetur',\n",
       "  'consectetur,',\n",
       "  'consectetur',\n",
       "  'consectetur',\n",
       "  'cubilia',\n",
       "  'curae;',\n",
       "  'consequat,',\n",
       "  'commodo',\n",
       "  'cursus',\n",
       "  'cubilia',\n",
       "  'curae;',\n",
       "  'convallis',\n",
       "  'consequat',\n",
       "  'consequat,',\n",
       "  'consectetur',\n",
       "  'congue'],\n",
       " 'e': ['elit.',\n",
       "  'et',\n",
       "  'eros',\n",
       "  'et',\n",
       "  'elit',\n",
       "  'euismod.',\n",
       "  'eu',\n",
       "  'erat',\n",
       "  'elit',\n",
       "  'eget',\n",
       "  'egestas',\n",
       "  'eget',\n",
       "  'euismod,',\n",
       "  'eget,',\n",
       "  'eu',\n",
       "  'eget',\n",
       "  'erat',\n",
       "  'eleifend',\n",
       "  'eget',\n",
       "  'enim',\n",
       "  'enim',\n",
       "  'et',\n",
       "  'euismod',\n",
       "  'et',\n",
       "  'eget',\n",
       "  'enim,',\n",
       "  'eu',\n",
       "  'enim',\n",
       "  'eget.',\n",
       "  'euismod',\n",
       "  'et',\n",
       "  'eros',\n",
       "  'elit',\n",
       "  'elementum,',\n",
       "  'elit,',\n",
       "  'elementum.',\n",
       "  'enim',\n",
       "  'elit',\n",
       "  'eget',\n",
       "  'ex',\n",
       "  'est,',\n",
       "  'elementum',\n",
       "  'enim'],\n",
       " 'S': ['Sed',\n",
       "  'Sed',\n",
       "  'Sed',\n",
       "  'Suspendisse',\n",
       "  'Sed',\n",
       "  'Sed',\n",
       "  'Sed',\n",
       "  'Suspendisse',\n",
       "  'Sed'],\n",
       " 'f': ['fringilla',\n",
       "  'fringilla',\n",
       "  'faucibus',\n",
       "  'felis',\n",
       "  'felis',\n",
       "  'felis',\n",
       "  'faucibus.',\n",
       "  'faucibus',\n",
       "  'fringilla,',\n",
       "  'felis',\n",
       "  'facilisi.',\n",
       "  'finibus.',\n",
       "  'feugiat',\n",
       "  'facilisi.'],\n",
       " 'l': ['lectus.',\n",
       "  'ligula',\n",
       "  'leo,',\n",
       "  'libero',\n",
       "  'ligula',\n",
       "  'lacus',\n",
       "  'luctus',\n",
       "  'leo',\n",
       "  'libero',\n",
       "  'ligula.',\n",
       "  'lacinia.',\n",
       "  'lectus.',\n",
       "  'luctus',\n",
       "  'lectus',\n",
       "  'leo',\n",
       "  'lorem,',\n",
       "  'ligula.',\n",
       "  'luctus',\n",
       "  'lacus',\n",
       "  'ligula',\n",
       "  'lacinia',\n",
       "  'lorem',\n",
       "  'ligula',\n",
       "  'lacinia',\n",
       "  'lectus.'],\n",
       " 'V': ['Vestibulum', 'Vestibulum', 'Vestibulum', 'Vivamus'],\n",
       " 'r': ['rutrum',\n",
       "  'risus',\n",
       "  'risus',\n",
       "  'rutrum',\n",
       "  'rutrum',\n",
       "  'risus',\n",
       "  'risus.',\n",
       "  'rhoncus,'],\n",
       " 'm': ['mi',\n",
       "  'metus',\n",
       "  'malesuada.',\n",
       "  'mi',\n",
       "  'maximus',\n",
       "  'metus.',\n",
       "  'mollis.',\n",
       "  'magna',\n",
       "  'molestie',\n",
       "  'massa',\n",
       "  'mauris',\n",
       "  'malesuada',\n",
       "  'metus.',\n",
       "  'malesuada',\n",
       "  'malesuada',\n",
       "  'mi',\n",
       "  'magna.',\n",
       "  'mollis.'],\n",
       " 'v': ['vitae',\n",
       "  'vitae',\n",
       "  'viverra',\n",
       "  'vitae.',\n",
       "  'vel',\n",
       "  'vulputate.',\n",
       "  'volutpat.',\n",
       "  'volutpat',\n",
       "  'vel',\n",
       "  'volutpat.',\n",
       "  'vulputate',\n",
       "  'viverra',\n",
       "  'varius.',\n",
       "  'vehicula',\n",
       "  'vehicula',\n",
       "  'venenatis',\n",
       "  'vestibulum',\n",
       "  'vel',\n",
       "  'vitae',\n",
       "  'vitae',\n",
       "  'velit',\n",
       "  'vehicula',\n",
       "  'vel',\n",
       "  'varius',\n",
       "  'vitae',\n",
       "  'vitae'],\n",
       " 't': ['tincidunt',\n",
       "  'tempor,',\n",
       "  'turpis.',\n",
       "  'tristique',\n",
       "  'tincidunt.',\n",
       "  'tincidunt',\n",
       "  'tempus',\n",
       "  'tristique',\n",
       "  'tempor,',\n",
       "  'turpis',\n",
       "  'tempus',\n",
       "  'tincidunt.',\n",
       "  'tellus',\n",
       "  'turpis',\n",
       "  'tristique',\n",
       "  'turpis'],\n",
       " 'q': ['quam', 'quis'],\n",
       " 'E': ['Etiam'],\n",
       " 'g': ['gravida', 'gravida,'],\n",
       " 'F': ['Fusce', 'Fusce'],\n",
       " 'n': ['nec',\n",
       "  'nec',\n",
       "  'nunc.',\n",
       "  'non',\n",
       "  'nunc',\n",
       "  'nibh',\n",
       "  'nunc,',\n",
       "  'nec',\n",
       "  'non',\n",
       "  'nulla',\n",
       "  'non',\n",
       "  'nunc',\n",
       "  'neque',\n",
       "  'nibh',\n",
       "  'nec',\n",
       "  'nec',\n",
       "  'nibh',\n",
       "  'nibh',\n",
       "  'non',\n",
       "  'nisi',\n",
       "  'nec',\n",
       "  'nulla',\n",
       "  'neque'],\n",
       " 'I': ['Integer', 'In', 'Integer'],\n",
       " 'p': ['pulvinar,',\n",
       "  'purus',\n",
       "  'pulvinar,',\n",
       "  'pulvinar',\n",
       "  'primis',\n",
       "  'posuere',\n",
       "  'porta.',\n",
       "  'primis',\n",
       "  'posuere',\n",
       "  'potenti.',\n",
       "  'porttitor,',\n",
       "  'purus,',\n",
       "  'purus.',\n",
       "  'porta'],\n",
       " 'o': ['ornare', 'orci', 'orci', 'odio.', 'orci', 'odio.'],\n",
       " 'D': ['Donec', 'Donec', 'Donec', 'Donec'],\n",
       " 'U': ['Ut', 'Ut'],\n",
       " 'j': ['justo', 'justo'],\n",
       " 'u': ['urna',\n",
       "  'ultricies',\n",
       "  'urna',\n",
       "  'ultrices',\n",
       "  'urna',\n",
       "  'ut',\n",
       "  'ullamcorper.',\n",
       "  'ultrices',\n",
       "  'ultricies',\n",
       "  'ut',\n",
       "  'ultrices,',\n",
       "  'ultrices,',\n",
       "  'urna'],\n",
       " 'N': ['Nulla', 'Nullam', 'Nulla', 'Nulla'],\n",
       " 'C': ['Curabitur', 'Curabitur', 'Cras', 'Cras', 'Curabitur'],\n",
       " 'A': ['Aliquam', 'Aliquam'],\n",
       " 'P': ['Praesent', 'Proin', 'Phasellus'],\n",
       " 'Q': ['Quisque', 'Quisque'],\n",
       " 'M': ['Mauris', 'Morbi', 'Maecenas', 'Mauris'],\n",
       " 'b': ['bibendum,', 'bibendum', 'blandit'],\n",
       " 'h': ['hendrerit']}"
      ]
     },
     "execution_count": 37,
     "metadata": {},
     "output_type": "execute_result"
    }
   ],
   "source": [
    "def read_data():\n",
    "    file = open('data/data.txt')\n",
    "    for line in file.readlines():\n",
    "       for word in line.strip().split():\n",
    "        yield word\n",
    "\n",
    "def count_words():\n",
    "    word_count = {}\n",
    "    for word in read_data():\n",
    "        word_count[word[0]] = word_count.get(word[0], []) + [word]\n",
    "    return word_count\n",
    "\n",
    "count_words()"
   ]
  },
  {
   "cell_type": "markdown",
   "metadata": {},
   "source": [
    "Open a log file from a Unix/Linux system—for example, one from the Apache server. For each response code (i.e., three-digit code indicating the HTTP request’s success or failure), store a list of IP addresses that generated that code."
   ]
  },
  {
   "cell_type": "code",
   "execution_count": 48,
   "metadata": {},
   "outputs": [
    {
     "data": {
      "text/plain": [
       "{'200': ['192.168.1.101', '192.168.1.101'],\n",
       " '403': ['192.168.1.102'],\n",
       " '500': ['192.168.1.103'],\n",
       " '300': ['192.168.1.101'],\n",
       " '404': ['192.168.1.102']}"
      ]
     },
     "execution_count": 48,
     "metadata": {},
     "output_type": "execute_result"
    }
   ],
   "source": [
    "def read_data():\n",
    "    file = open('data/apache.txt')\n",
    "    for line in file.readlines():\n",
    "        yield line.strip()\n",
    "\n",
    "def foo():\n",
    "    D = {}\n",
    "    for line in read_data():\n",
    "        fields = line.split() #convert it to a list so that we can easily get the items\n",
    "        ip_address = fields[0] # the first field is the ip address\n",
    "        status_code = fields[8] # the eighth field is the http status code\n",
    "        D[status_code] = D.get(status_code, []) + [ip_address]\n",
    "    return D\n",
    "foo()"
   ]
  },
  {
   "cell_type": "markdown",
   "metadata": {},
   "source": [
    "The dict.update method merges two dicts. Write a function that takes any number of dicts and returns a dict that reflects the combination of all of them. If the same key appears in more than one dict, then the most recently merged\n",
    "dict’s value should appear in the output."
   ]
  },
  {
   "cell_type": "code",
   "execution_count": null,
   "metadata": {},
   "outputs": [],
   "source": []
  },
  {
   "cell_type": "markdown",
   "metadata": {},
   "source": [
    "Write a function that takes any even number of arguments and returns a dict based on them. The even-indexed arguments become the dict keys, while the odd-numbered arguments become the dict values. Thus, calling the function with the arguments ('a', 1, 'b', 2) will result in the dict {'a':1, 'b':2} being returned."
   ]
  },
  {
   "cell_type": "code",
   "execution_count": null,
   "metadata": {},
   "outputs": [],
   "source": []
  },
  {
   "cell_type": "markdown",
   "metadata": {},
   "source": [
    "Write a function , dict_partition, that takes one dict (d) and a function (f) as arguments. dict_partition will return two dicts, each containing key-value pairs from d. The decision regarding where to put each of the key-value pairs\n",
    "will be made according to the output from f, which will be run on each key-value pair in d. If f returns True, then the key-value pair will be put in the first output dict. If f returns False, then the key-value pair will be put in the second output dict."
   ]
  },
  {
   "cell_type": "code",
   "execution_count": null,
   "metadata": {},
   "outputs": [],
   "source": []
  },
  {
   "cell_type": "markdown",
   "metadata": {},
   "source": [
    "## Sets"
   ]
  },
  {
   "cell_type": "markdown",
   "metadata": {},
   "source": [
    "Write a function, called how_many_different_numbers, that takes a single list of integers and returns the number of different integers it contains."
   ]
  },
  {
   "cell_type": "code",
   "execution_count": null,
   "metadata": {},
   "outputs": [],
   "source": []
  },
  {
   "cell_type": "markdown",
   "metadata": {},
   "source": [
    "Read through a server (e.g., Apache or nginx) log file. What were the different IP addresses that tried to access your server?"
   ]
  },
  {
   "cell_type": "code",
   "execution_count": null,
   "metadata": {},
   "outputs": [],
   "source": []
  },
  {
   "cell_type": "markdown",
   "metadata": {},
   "source": [
    "Reading from that same server log, what response codes were returned to users? The 200 code represents “OK,” but there are also 403, 404, and 500 errors. (Regular expressions aren’t required here but will probably help.)"
   ]
  },
  {
   "cell_type": "code",
   "execution_count": null,
   "metadata": {},
   "outputs": [],
   "source": []
  },
  {
   "cell_type": "markdown",
   "metadata": {},
   "source": [
    "Use os.listdir (http://mng.bz/YreB) to get the names of files in the current directory. What file extensions (i.e., suffixes following the final . character) appear in that directory? It’ll probably be helpful to use os.path.splitext\n",
    "(http://mng.bz/GV4v)"
   ]
  },
  {
   "cell_type": "code",
   "execution_count": null,
   "metadata": {},
   "outputs": [],
   "source": []
  },
  {
   "cell_type": "markdown",
   "metadata": {},
   "source": []
  }
 ],
 "metadata": {
  "kernelspec": {
   "display_name": "Python 3",
   "language": "python",
   "name": "python3"
  },
  "language_info": {
   "codemirror_mode": {
    "name": "ipython",
    "version": 3
   },
   "file_extension": ".py",
   "mimetype": "text/x-python",
   "name": "python",
   "nbconvert_exporter": "python",
   "pygments_lexer": "ipython3",
   "version": "3.11.4"
  },
  "orig_nbformat": 4
 },
 "nbformat": 4,
 "nbformat_minor": 2
}
