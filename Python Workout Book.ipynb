{
 "cells": [
  {
   "cell_type": "markdown",
   "metadata": {},
   "source": [
    "For this exercise\n",
    "- Write a function (guessing_game) that takes no arguments.\n",
    "- When run, the function chooses a random integer between 0 and 100 (inclusive).\n",
    "- Then ask the user to guess what number has been chosen.\n",
    "- Each time the user enters a guess, the program indicates one of the following:\n",
    "  - Too high\n",
    "  - Too low\n",
    "  - Just right\n",
    "- If the user guesses correctly, the program exits. Otherwise, the user is asked to\n",
    "try again.\n",
    "- The program only exits after the user guesses correctly"
   ]
  },
  {
   "cell_type": "code",
   "execution_count": null,
   "metadata": {},
   "outputs": [],
   "source": [
    "from random import randint\n",
    "\n",
    "def guessing_game():\n",
    "    number = randint(0, 100)\n",
    "    while True:\n",
    "      guess = int(input('Insert your guess: '))\n",
    "      if guess == number:\n",
    "        print('Just right')\n",
    "        break\n",
    "      elif guess < number:\n",
    "        print('Too low')\n",
    "      else:\n",
    "        print('Too high')\n"
   ]
  },
  {
   "cell_type": "markdown",
   "metadata": {},
   "source": [
    "Modify this program, such that it gives the user only three chances to guess the\n",
    "correct number. If they try three times without success, the program tells them\n",
    "that they didn’t guess in time and then exits."
   ]
  },
  {
   "cell_type": "code",
   "execution_count": null,
   "metadata": {},
   "outputs": [],
   "source": [
    "def guessing_game():\n",
    "    number = randint(0, 100)\n",
    "    for trial in range(3):\n",
    "        guess = int(input('Insert your guess: '))\n",
    "        if guess == number:\n",
    "          print('Just right')\n",
    "          break\n",
    "        elif guess < number:\n",
    "          print('Too low')\n",
    "        else:\n",
    "          print('Too high')\n",
    "guessing_game()"
   ]
  },
  {
   "cell_type": "markdown",
   "metadata": {},
   "source": [
    "Not only should you choose a random number, but you should also choose a random number base, from 2 to 16, in which the user should submit their input. If the user inputs “10” as their guess, you’ll need to interpret it in the correct number base; “10” might mean 10 (decimal), or 2 (binary), or 16\n",
    "(hexadecimal)."
   ]
  },
  {
   "cell_type": "code",
   "execution_count": null,
   "metadata": {},
   "outputs": [],
   "source": []
  },
  {
   "cell_type": "markdown",
   "metadata": {},
   "source": [
    "Try the same thing, but have the program choose a random word from the dictionary, and then ask the user to guess the word. (You might want to limit yourself to words containing two to five letters, to avoid making it too horribly\n",
    "difficult.) Instead of telling the user that they should guess a smaller or larger number, have them choose an earlier or later word in the dict"
   ]
  },
  {
   "cell_type": "code",
   "execution_count": null,
   "metadata": {},
   "outputs": [],
   "source": []
  },
  {
   "cell_type": "markdown",
   "metadata": {},
   "source": [
    "EXERCISE 2 Summing numbers"
   ]
  },
  {
   "cell_type": "markdown",
   "metadata": {},
   "source": [
    "The splat operator, designing functions that can accept a variable number of arguments"
   ]
  },
  {
   "cell_type": "code",
   "execution_count": null,
   "metadata": {},
   "outputs": [],
   "source": [
    "def mysum(*numbers):\n",
    "    sum = 0\n",
    "    for number in numbers:\n",
    "        sum = sum + number\n",
    "    return sum\n",
    "\n",
    "mysum(4, 6, 5, 5, 8, 9)"
   ]
  },
  {
   "cell_type": "code",
   "execution_count": null,
   "metadata": {},
   "outputs": [],
   "source": [
    "def average(*numbers):\n",
    "    print(numbers)\n",
    "    count = len(numbers)\n",
    "    sum = 0\n",
    "    for number in numbers:\n",
    "        sum = sum + number\n",
    "    return sum / count\n",
    "\n",
    "average(4, 1, 2, 5, 6)"
   ]
  },
  {
   "cell_type": "markdown",
   "metadata": {},
   "source": [
    "The built-in version of sum takes an optional second argument, which is used as the starting point for the summing. (That’s why it takes a list of numbers as its first argument, unlike our mysum implementation.) So sum([1,2,3], 4) returns 10, because 1+2+3 is 6, which would be added to the starting value of 4. Reimplement your mysum function such that it works in this way. If a second argument is not provided, then it should default to 0. Note that while you can write a function in Python 3 that defines a parameter after *args, I’d suggest avoiding it and just taking two arguments—a list and an optional starting point."
   ]
  },
  {
   "cell_type": "code",
   "execution_count": null,
   "metadata": {},
   "outputs": [],
   "source": [
    "def sum(iterable, seed: int = 0):\n",
    "    summation = seed\n",
    "    for number in iterable:\n",
    "        summation = summation + number\n",
    "    return summation\n",
    "sum((1, 2, 4), 10)"
   ]
  },
  {
   "cell_type": "markdown",
   "metadata": {},
   "source": [
    "Write a function that takes a list of numbers. It should return the average (i.e., arithmetic mean) of those numbers."
   ]
  },
  {
   "cell_type": "code",
   "execution_count": null,
   "metadata": {},
   "outputs": [],
   "source": [
    "def avg(numbers):\n",
    "    num_items = len(numbers)\n",
    "    total = sum(numbers)\n",
    "    return total / num_items\n",
    "avg([4])"
   ]
  },
  {
   "cell_type": "markdown",
   "metadata": {},
   "source": [
    "Write a function that takes a list of words (strings). It should return a tuple containing three integers, representing the length of the shortest word, the length of the longest word, and the average word length."
   ]
  },
  {
   "cell_type": "code",
   "execution_count": null,
   "metadata": {},
   "outputs": [],
   "source": [
    "def shortest(names):\n",
    "    short = len(names[0])\n",
    "    for current_name in names[1:]:\n",
    "        if len(current_name) < short:\n",
    "            short = len(current_name)\n",
    "    return short\n",
    "\n",
    "def longest(names):\n",
    "    long = len(names[0])\n",
    "    for current_name in names[1:]:\n",
    "        if len(current_name) > long:\n",
    "            long = len(current_name)\n",
    "    return long\n",
    "\n",
    "\n",
    "def avg_word(names):\n",
    "    num_items = len(names)\n",
    "    sum = 0\n",
    "    for name in names:\n",
    "        sum = sum + len(name)\n",
    "    return sum\n",
    "\n",
    "def solution(names):\n",
    "    return (shortest(names), longest(names), avg_word(names))\n",
    "\n",
    "solution(['kasozi', 'vincent', 'isaac'])"
   ]
  },
  {
   "cell_type": "markdown",
   "metadata": {},
   "source": [
    "Write a function that takes a list of Python objects. Sum the objects that either are integers or can be turned into integers, ignoring the others"
   ]
  },
  {
   "cell_type": "code",
   "execution_count": 67,
   "metadata": {},
   "outputs": [
    {
     "data": {
      "text/plain": [
       "14"
      ]
     },
     "execution_count": 67,
     "metadata": {},
     "output_type": "execute_result"
    }
   ],
   "source": [
    "def sum_objs(objects):\n",
    "    '''This is my function.\n",
    "       This is the second line\n",
    "    '''\n",
    "    sum = 0\n",
    "    for obj in objects:\n",
    "        try:\n",
    "         if isinstance(obj, int):\n",
    "            sum = sum + obj\n",
    "         else:\n",
    "            sum = sum + int(obj)\n",
    "        except:\n",
    "           continue\n",
    "    return sum\n",
    "\n",
    "sum_objs([True, False, '5', 'Vanessa', 'Kasozi', 8])"
   ]
  },
  {
   "cell_type": "markdown",
   "metadata": {},
   "source": [
    "Write a function (run_timing) that asks how long it took for you to run 10 km. The function continues to ask how long (in minutes) it took for additional runs, until the user presses Enter. At that point, the function exits—but only after calculating and displaying the average time that the 10 km runs took."
   ]
  },
  {
   "cell_type": "code",
   "execution_count": 79,
   "metadata": {},
   "outputs": [
    {
     "data": {
      "text/plain": [
       "15.0"
      ]
     },
     "execution_count": 79,
     "metadata": {},
     "output_type": "execute_result"
    }
   ],
   "source": [
    "def run_timing():\n",
    "    days = 0\n",
    "    sum = 0\n",
    "    while True:\n",
    "        response = input('Insert the time for 10km in seconds: ')\n",
    "        if response == '':\n",
    "            break\n",
    "        sum = sum + float(response)\n",
    "        days = days + 1        \n",
    "    return sum / days    \n",
    "run_timing()"
   ]
  },
  {
   "cell_type": "markdown",
   "metadata": {},
   "source": [
    "Write a function that takes a float and two integers (before and after). The function should return a float consisting of before digits before the decimal point and after digits after. Thus, if we call the function with 1234.5678, 2 and\n",
    "3, the return value should be 34.567."
   ]
  },
  {
   "cell_type": "code",
   "execution_count": 131,
   "metadata": {},
   "outputs": [
    {
     "data": {
      "text/plain": [
       "4.567"
      ]
     },
     "execution_count": 131,
     "metadata": {},
     "output_type": "execute_result"
    }
   ],
   "source": [
    "def format(number: float, before, after):\n",
    "    string = str(number)\n",
    "    left, right = string.split('.')\n",
    "    new_left = left[-before:]\n",
    "    new_right = right[:after]\n",
    "    return float(f'{new_left}.{new_right}')\n",
    "\n",
    "format(1234.5678, 1, 3)"
   ]
  },
  {
   "cell_type": "code",
   "execution_count": 129,
   "metadata": {},
   "outputs": [
    {
     "name": "stdout",
     "output_type": "stream",
     "text": [
      "s\n",
      "a\n",
      "Va\n",
      "Vanes\n",
      "sa\n",
      "nessa\n",
      "34\n",
      "567\n"
     ]
    }
   ],
   "source": [
    "name = 'Vanessa'\n",
    "# get one item from the string\n",
    "print(name[4])\n",
    "\n",
    "# get the last letter in the string\n",
    "print(name[-1])\n",
    "\n",
    "#get the first 2 letters\n",
    "print(name[:2])\n",
    "\n",
    "#get the first 5 letters\n",
    "print(name[:5])\n",
    "\n",
    "#get the last two letters\n",
    "print(name[-2:])\n",
    "\n",
    "# get the last 5 letters\n",
    "print(name[-5:])\n",
    "\n",
    "s = '1234'\n",
    "print(s[-2:])\n",
    "\n",
    "t = '5678'\n",
    "print(t[0:3])\n"
   ]
  },
  {
   "cell_type": "markdown",
   "metadata": {},
   "source": [
    "Explore the Decimal class (http://mng.bz/oPVr), which has an alternative floating-point representation that’s as accurate as any decimal number can be. Write a function that takes two strings from the user, turns them into decimal\n",
    "instances, and then prints the floating-point sum of the user’s two inputs. In other words, make it possible for the user to enter 0.1 and 0.2, and for us to get 0.3 back."
   ]
  },
  {
   "cell_type": "code",
   "execution_count": 135,
   "metadata": {},
   "outputs": [
    {
     "data": {
      "text/plain": [
       "0.3"
      ]
     },
     "execution_count": 135,
     "metadata": {},
     "output_type": "execute_result"
    }
   ],
   "source": [
    "from decimal import Decimal\n",
    "\n",
    "def solution():\n",
    "    first = Decimal(input('Insert the first string: '))\n",
    "    second = Decimal(input('Insert the second string: '))\n",
    "    return float(first + second)\n",
    "solution()"
   ]
  },
  {
   "cell_type": "code",
   "execution_count": 23,
   "metadata": {},
   "outputs": [
    {
     "name": "stdout",
     "output_type": "stream",
     "text": [
      "8\n"
     ]
    }
   ],
   "source": [
    "def convert10(input, base):\n",
    "  decnum = 0\n",
    "  for power, digit in enumerate(reversed(input)): \n",
    "     decnum += int(digit, base) * (base ** power) \n",
    "  return decnum"
   ]
  },
  {
   "cell_type": "markdown",
   "metadata": {},
   "source": [
    "Reimplement the solution for this exercise such that it doesn’t use the int function at all, but rather uses the built-in ord and chr functions to identify the character. This implementation should be more robust, ignoring characters that aren’t legal for the entered number base."
   ]
  },
  {
   "cell_type": "code",
   "execution_count": 26,
   "metadata": {},
   "outputs": [
    {
     "data": {
      "text/plain": [
       "74"
      ]
     },
     "execution_count": 26,
     "metadata": {},
     "output_type": "execute_result"
    }
   ],
   "source": []
  },
  {
   "cell_type": "markdown",
   "metadata": {},
   "source": [
    "Write a program that asks the user for their name and then produces a “name triangle”: the first letter of their name, then the first two letters, then the first three, and so forth, until the entire name is written on the final line. "
   ]
  },
  {
   "cell_type": "code",
   "execution_count": 33,
   "metadata": {},
   "outputs": [
    {
     "name": "stdout",
     "output_type": "stream",
     "text": [
      "V\n",
      "Va\n",
      "Van\n",
      "Vane\n",
      "Vanes\n",
      "Vaness\n",
      "Vanessa\n"
     ]
    }
   ],
   "source": [
    "def name_triangle(name):\n",
    "    for (idx, _) in enumerate(name):\n",
    "        print(name[0: idx + 1])\n",
    "name_triangle('Vanessa')"
   ]
  },
  {
   "cell_type": "code",
   "execution_count": 34,
   "metadata": {},
   "outputs": [
    {
     "name": "stdout",
     "output_type": "stream",
     "text": [
      "Van"
     ]
    }
   ],
   "source": [
    "def slice(name, lower, upper):\n",
    "    while lower < upper:\n",
    "        print(name[lower], end='')\n",
    "        lower = lower + 1\n",
    "slice('Vanessa', 0, 3)"
   ]
  },
  {
   "cell_type": "code",
   "execution_count": 36,
   "metadata": {},
   "outputs": [
    {
     "name": "stdout",
     "output_type": "stream",
     "text": [
      "['kasozi', 'vincent']\n",
      "['kasozi', 'Vanessa']\n"
     ]
    }
   ],
   "source": [
    "'kasozi' in ['kasozi', 'vincent']\n",
    "'k' in 'kasozi'\n",
    "2 in {1, 5, 6}"
   ]
  },
  {
   "cell_type": "markdown",
   "metadata": {},
   "source": [
    "Pig Latin (http://mng.bz/YrON) is a common children’s “secret” language in English speaking countries. (It’s normally secret among children who forget that their parents\n",
    "were once children themselves.) The rules for translating words from English into Pig\n",
    "Latin are quite simple:\n",
    "- If the word begins with a vowel (a, e, i, o, or u), add “way” to the end of the\n",
    "word. So “air” becomes “airway” and “eat” becomes \"eatway.\"\n",
    "- If the word begins with any other letter, then we take the first letter, put it on\n",
    "the end of the word, and then add \"ay.\" Thus, “python” becomes “ythonpay”\n",
    "and “computer” becomes “omputercay.”\n"
   ]
  },
  {
   "cell_type": "code",
   "execution_count": 45,
   "metadata": {},
   "outputs": [
    {
     "data": {
      "text/plain": [
       "'airway'"
      ]
     },
     "execution_count": 45,
     "metadata": {},
     "output_type": "execute_result"
    }
   ],
   "source": [
    "def is_vowel(letter):\n",
    "    return letter in 'aeiouAIEOU'\n",
    "\n",
    "def pig_latin(word: str) -> str:\n",
    "    if is_vowel(word[0]):\n",
    "        return f'{word}way'\n",
    "    else:\n",
    "        return f'{word[1:]}{word[0]}ay'\n",
    "    \n"
   ]
  },
  {
   "cell_type": "markdown",
   "metadata": {},
   "source": [
    "Handle capitalized words—If a word is capitalized (i.e., the first letter is capitalized, but the rest of the word isn’t), then the Pig Latin translation should be similarly capitalized."
   ]
  },
  {
   "cell_type": "code",
   "execution_count": 49,
   "metadata": {},
   "outputs": [
    {
     "data": {
      "text/plain": [
       "'Asozikay'"
      ]
     },
     "execution_count": 49,
     "metadata": {},
     "output_type": "execute_result"
    }
   ],
   "source": [
    "def pig_latin_caps(word: str) -> str:\n",
    "    if word[0].islower():\n",
    "        return pig_latin(word)\n",
    "    else:\n",
    "        return pig_latin(word).capitalize()\n",
    "pig_latin_caps('Kasozi')"
   ]
  },
  {
   "cell_type": "markdown",
   "metadata": {},
   "source": [
    "Handle punctuation—If a word ends with punctuation, then that punctuation should be shifted to the end of the translated word."
   ]
  },
  {
   "cell_type": "code",
   "execution_count": 53,
   "metadata": {},
   "outputs": [],
   "source": [
    "import string\n",
    "def pig_latin_pun(word: str) -> str:\n",
    "    if word[-1] in string.punctuation:\n",
    "        pass\n",
    "    else:\n",
    "        return pig_latin_caps(word)"
   ]
  },
  {
   "cell_type": "markdown",
   "metadata": {},
   "source": [
    "s.append(9)\n",
    "s"
   ]
  }
 ],
 "metadata": {
  "kernelspec": {
   "display_name": "Python 3",
   "language": "python",
   "name": "python3"
  },
  "language_info": {
   "codemirror_mode": {
    "name": "ipython",
    "version": 3
   },
   "file_extension": ".py",
   "mimetype": "text/x-python",
   "name": "python",
   "nbconvert_exporter": "python",
   "pygments_lexer": "ipython3",
   "version": "3.11.4"
  },
  "orig_nbformat": 4
 },
 "nbformat": 4,
 "nbformat_minor": 2
}
