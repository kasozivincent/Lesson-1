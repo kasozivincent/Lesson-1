{
 "cells": [
  {
   "cell_type": "markdown",
   "metadata": {},
   "source": [
    "For this exercise\n",
    "- Write a function (guessing_game) that takes no arguments.\n",
    "- When run, the function chooses a random integer between 0 and 100 (inclusive).\n",
    "- Then ask the user to guess what number has been chosen.\n",
    "- Each time the user enters a guess, the program indicates one of the following:\n",
    "  - Too high\n",
    "  - Too low\n",
    "  - Just right\n",
    "- If the user guesses correctly, the program exits. Otherwise, the user is asked to\n",
    "try again.\n",
    "- The program only exits after the user guesses correctly"
   ]
  },
  {
   "cell_type": "code",
   "execution_count": 2,
   "metadata": {},
   "outputs": [],
   "source": [
    "from random import randint\n",
    "\n",
    "def guessing_game():\n",
    "    number = randint(0, 100)\n",
    "    while True:\n",
    "      guess = int(input('Insert your guess: '))\n",
    "      if guess == number:\n",
    "        print('Just right')\n",
    "        break\n",
    "      elif guess < number:\n",
    "        print('Too low')\n",
    "      else:\n",
    "        print('Too high')\n"
   ]
  },
  {
   "cell_type": "markdown",
   "metadata": {},
   "source": [
    "Modify this program, such that it gives the user only three chances to guess the\n",
    "correct number. If they try three times without success, the program tells them\n",
    "that they didn’t guess in time and then exits."
   ]
  },
  {
   "cell_type": "code",
   "execution_count": 1,
   "metadata": {},
   "outputs": [
    {
     "ename": "NameError",
     "evalue": "name 'randint' is not defined",
     "output_type": "error",
     "traceback": [
      "\u001b[1;31m---------------------------------------------------------------------------\u001b[0m",
      "\u001b[1;31mNameError\u001b[0m                                 Traceback (most recent call last)",
      "Cell \u001b[1;32mIn[1], line 12\u001b[0m\n\u001b[0;32m     10\u001b[0m         \u001b[39melse\u001b[39;00m:\n\u001b[0;32m     11\u001b[0m           \u001b[39mprint\u001b[39m(\u001b[39m'\u001b[39m\u001b[39mToo high\u001b[39m\u001b[39m'\u001b[39m)\n\u001b[1;32m---> 12\u001b[0m guessing_game()\n",
      "Cell \u001b[1;32mIn[1], line 2\u001b[0m, in \u001b[0;36mguessing_game\u001b[1;34m()\u001b[0m\n\u001b[0;32m      1\u001b[0m \u001b[39mdef\u001b[39;00m \u001b[39mguessing_game\u001b[39m():\n\u001b[1;32m----> 2\u001b[0m     number \u001b[39m=\u001b[39m randint(\u001b[39m0\u001b[39m, \u001b[39m100\u001b[39m)\n\u001b[0;32m      3\u001b[0m     \u001b[39mfor\u001b[39;00m trial \u001b[39min\u001b[39;00m \u001b[39mrange\u001b[39m(\u001b[39m3\u001b[39m):\n\u001b[0;32m      4\u001b[0m         guess \u001b[39m=\u001b[39m \u001b[39mint\u001b[39m(\u001b[39minput\u001b[39m(\u001b[39m'\u001b[39m\u001b[39mInsert your guess: \u001b[39m\u001b[39m'\u001b[39m))\n",
      "\u001b[1;31mNameError\u001b[0m: name 'randint' is not defined"
     ]
    }
   ],
   "source": [
    "def guessing_game():\n",
    "    number = randint(0, 100)\n",
    "    for trial in range(3):\n",
    "        guess = int(input('Insert your guess: '))\n",
    "        if guess == number:\n",
    "          print('Just right')\n",
    "          break\n",
    "        elif guess < number:\n",
    "          print('Too low')\n",
    "        else:\n",
    "          print('Too high')\n",
    "guessing_game()"
   ]
  },
  {
   "cell_type": "markdown",
   "metadata": {},
   "source": [
    "Not only should you choose a random number, but you should also choose a random number base, from 2 to 16, in which the user should submit their input. If the user inputs “10” as their guess, you’ll need to interpret it in the correct number base; “10” might mean 10 (decimal), or 2 (binary), or 16\n",
    "(hexadecimal)."
   ]
  },
  {
   "cell_type": "code",
   "execution_count": null,
   "metadata": {},
   "outputs": [],
   "source": []
  },
  {
   "cell_type": "markdown",
   "metadata": {},
   "source": [
    "Try the same thing, but have the program choose a random word from the dictionary, and then ask the user to guess the word. (You might want to limit yourself to words containing two to five letters, to avoid making it too horribly\n",
    "difficult.) Instead of telling the user that they should guess a smaller or larger number, have them choose an earlier or later word in the dict"
   ]
  },
  {
   "cell_type": "code",
   "execution_count": null,
   "metadata": {},
   "outputs": [],
   "source": []
  },
  {
   "cell_type": "markdown",
   "metadata": {},
   "source": [
    "EXERCISE 2 Summing numbers"
   ]
  },
  {
   "cell_type": "markdown",
   "metadata": {},
   "source": [
    "The splat operator, designing functions that can accept a variable number of arguments"
   ]
  },
  {
   "cell_type": "code",
   "execution_count": null,
   "metadata": {},
   "outputs": [],
   "source": [
    "def mysum(*numbers):\n",
    "    sum = 0\n",
    "    for number in numbers:\n",
    "        sum = sum + number\n",
    "    return sum\n",
    "\n",
    "mysum(4, 6, 5, 5, 8, 9)"
   ]
  },
  {
   "cell_type": "code",
   "execution_count": null,
   "metadata": {},
   "outputs": [],
   "source": [
    "def average(*numbers):\n",
    "    print(numbers)\n",
    "    count = len(numbers)\n",
    "    sum = 0\n",
    "    for number in numbers:\n",
    "        sum = sum + number\n",
    "    return sum / count\n",
    "\n",
    "average(4, 1, 2, 5, 6)"
   ]
  },
  {
   "cell_type": "markdown",
   "metadata": {},
   "source": [
    "The built-in version of sum takes an optional second argument, which is used as the starting point for the summing. (That’s why it takes a list of numbers as its first argument, unlike our mysum implementation.) So sum([1,2,3], 4) returns 10, because 1+2+3 is 6, which would be added to the starting value of 4. Reimplement your mysum function such that it works in this way. If a second argument is not provided, then it should default to 0. Note that while you can write a function in Python 3 that defines a parameter after *args, I’d suggest avoiding it and just taking two arguments—a list and an optional starting point."
   ]
  },
  {
   "cell_type": "code",
   "execution_count": null,
   "metadata": {},
   "outputs": [],
   "source": [
    "def sum(iterable, seed: int = 0):\n",
    "    summation = seed\n",
    "    for number in iterable:\n",
    "        summation = summation + number\n",
    "    return summation\n",
    "sum((1, 2, 4), 10)"
   ]
  },
  {
   "cell_type": "markdown",
   "metadata": {},
   "source": [
    "Write a function that takes a list of numbers. It should return the average (i.e., arithmetic mean) of those numbers."
   ]
  },
  {
   "cell_type": "code",
   "execution_count": null,
   "metadata": {},
   "outputs": [],
   "source": [
    "def avg(numbers):\n",
    "    num_items = len(numbers)\n",
    "    total = sum(numbers)\n",
    "    return total / num_items\n",
    "avg([4])"
   ]
  },
  {
   "cell_type": "markdown",
   "metadata": {},
   "source": [
    "Write a function that takes a list of words (strings). It should return a tuple containing three integers, representing the length of the shortest word, the length of the longest word, and the average word length."
   ]
  },
  {
   "cell_type": "code",
   "execution_count": null,
   "metadata": {},
   "outputs": [],
   "source": [
    "def shortest(names):\n",
    "    short = len(names[0])\n",
    "    for current_name in names[1:]:\n",
    "        if len(current_name) < short:\n",
    "            short = len(current_name)\n",
    "    return short\n",
    "\n",
    "def longest(names):\n",
    "    long = len(names[0])\n",
    "    for current_name in names[1:]:\n",
    "        if len(current_name) > long:\n",
    "            long = len(current_name)\n",
    "    return long\n",
    "\n",
    "\n",
    "def avg_word(names):\n",
    "    num_items = len(names)\n",
    "    sum = 0\n",
    "    for name in names:\n",
    "        sum = sum + len(name)\n",
    "    return sum\n",
    "\n",
    "def solution(names):\n",
    "    return (shortest(names), longest(names), avg_word(names))\n",
    "\n",
    "solution(['kasozi', 'vincent', 'isaac'])"
   ]
  },
  {
   "cell_type": "markdown",
   "metadata": {},
   "source": [
    "Write a function that takes a list of Python objects. Sum the objects that either are integers or can be turned into integers, ignoring the others"
   ]
  },
  {
   "cell_type": "code",
   "execution_count": null,
   "metadata": {},
   "outputs": [
    {
     "data": {
      "text/plain": [
       "14"
      ]
     },
     "execution_count": 67,
     "metadata": {},
     "output_type": "execute_result"
    }
   ],
   "source": [
    "def sum_objs(objects):\n",
    "    '''This is my function.\n",
    "       This is the second line\n",
    "    '''\n",
    "    sum = 0\n",
    "    for obj in objects:\n",
    "        try:\n",
    "         if isinstance(obj, int):\n",
    "            sum = sum + obj\n",
    "         else:\n",
    "            sum = sum + int(obj)\n",
    "        except:\n",
    "           continue\n",
    "    return sum\n",
    "\n",
    "sum_objs([True, False, '5', 'Vanessa', 'Kasozi', 8])"
   ]
  },
  {
   "cell_type": "markdown",
   "metadata": {},
   "source": [
    "Write a function (run_timing) that asks how long it took for you to run 10 km. The function continues to ask how long (in minutes) it took for additional runs, until the user presses Enter. At that point, the function exits—but only after calculating and displaying the average time that the 10 km runs took."
   ]
  },
  {
   "cell_type": "code",
   "execution_count": 2,
   "metadata": {},
   "outputs": [
    {
     "ename": "ZeroDivisionError",
     "evalue": "division by zero",
     "output_type": "error",
     "traceback": [
      "\u001b[1;31m---------------------------------------------------------------------------\u001b[0m",
      "\u001b[1;31mZeroDivisionError\u001b[0m                         Traceback (most recent call last)",
      "Cell \u001b[1;32mIn[2], line 11\u001b[0m\n\u001b[0;32m      9\u001b[0m         days \u001b[39m=\u001b[39m days \u001b[39m+\u001b[39m \u001b[39m1\u001b[39m        \n\u001b[0;32m     10\u001b[0m     \u001b[39mreturn\u001b[39;00m \u001b[39msum\u001b[39m \u001b[39m/\u001b[39m days    \n\u001b[1;32m---> 11\u001b[0m run_timing()\n",
      "Cell \u001b[1;32mIn[2], line 10\u001b[0m, in \u001b[0;36mrun_timing\u001b[1;34m()\u001b[0m\n\u001b[0;32m      8\u001b[0m     \u001b[39msum\u001b[39m \u001b[39m=\u001b[39m \u001b[39msum\u001b[39m \u001b[39m+\u001b[39m \u001b[39mfloat\u001b[39m(response)\n\u001b[0;32m      9\u001b[0m     days \u001b[39m=\u001b[39m days \u001b[39m+\u001b[39m \u001b[39m1\u001b[39m        \n\u001b[1;32m---> 10\u001b[0m \u001b[39mreturn\u001b[39;00m \u001b[39msum\u001b[39;49m \u001b[39m/\u001b[39;49m days\n",
      "\u001b[1;31mZeroDivisionError\u001b[0m: division by zero"
     ]
    }
   ],
   "source": [
    "def run_timing():\n",
    "    days = 0\n",
    "    sum = 0\n",
    "    while True:\n",
    "        response = input('Insert the time for 10km in seconds: ')\n",
    "        if response == '':\n",
    "            break\n",
    "        sum = sum + float(response)\n",
    "        days = days + 1        \n",
    "    return sum / days    \n",
    "run_timing()"
   ]
  },
  {
   "cell_type": "markdown",
   "metadata": {},
   "source": [
    "Write a function that takes a float and two integers (before and after). The function should return a float consisting of before digits before the decimal point and after digits after. Thus, if we call the function with 1234.5678, 2 and\n",
    "3, the return value should be 34.567."
   ]
  },
  {
   "cell_type": "code",
   "execution_count": 3,
   "metadata": {},
   "outputs": [
    {
     "data": {
      "text/plain": [
       "4.567"
      ]
     },
     "execution_count": 3,
     "metadata": {},
     "output_type": "execute_result"
    }
   ],
   "source": [
    "def format(number: float, before, after):\n",
    "    string = str(number)\n",
    "    left, right = string.split('.')\n",
    "    new_left = left[-before:]\n",
    "    new_right = right[:after]\n",
    "    return float(f'{new_left}.{new_right}')\n",
    "\n",
    "format(1234.5678, 1, 3)"
   ]
  },
  {
   "cell_type": "code",
   "execution_count": 4,
   "metadata": {},
   "outputs": [
    {
     "name": "stdout",
     "output_type": "stream",
     "text": [
      "s\n",
      "a\n",
      "Va\n",
      "Vanes\n",
      "sa\n",
      "nessa\n",
      "34\n",
      "567\n"
     ]
    }
   ],
   "source": [
    "name = 'Vanessa'\n",
    "# get one item from the string\n",
    "print(name[4])\n",
    "\n",
    "# get the last letter in the string\n",
    "print(name[-1])\n",
    "\n",
    "#get the first 2 letters\n",
    "print(name[:2])\n",
    "\n",
    "#get the first 5 letters\n",
    "print(name[:5])\n",
    "\n",
    "#get the last two letters\n",
    "print(name[-2:])\n",
    "\n",
    "# get the last 5 letters\n",
    "print(name[-5:])\n",
    "\n",
    "s = '1234'\n",
    "print(s[-2:])\n",
    "\n",
    "t = '5678'\n",
    "print(t[0:3])\n"
   ]
  },
  {
   "cell_type": "markdown",
   "metadata": {},
   "source": [
    "Explore the Decimal class (http://mng.bz/oPVr), which has an alternative floating-point representation that’s as accurate as any decimal number can be. Write a function that takes two strings from the user, turns them into decimal\n",
    "instances, and then prints the floating-point sum of the user’s two inputs. In other words, make it possible for the user to enter 0.1 and 0.2, and for us to get 0.3 back."
   ]
  },
  {
   "cell_type": "code",
   "execution_count": 5,
   "metadata": {},
   "outputs": [
    {
     "data": {
      "text/plain": [
       "16.0"
      ]
     },
     "execution_count": 5,
     "metadata": {},
     "output_type": "execute_result"
    }
   ],
   "source": [
    "from decimal import Decimal\n",
    "\n",
    "def solution():\n",
    "    first = Decimal(input('Insert the first string: '))\n",
    "    second = Decimal(input('Insert the second string: '))\n",
    "    return float(first + second)\n",
    "solution()"
   ]
  },
  {
   "cell_type": "code",
   "execution_count": 6,
   "metadata": {},
   "outputs": [],
   "source": [
    "def convert10(input, base):\n",
    "  decnum = 0\n",
    "  for power, digit in enumerate(reversed(input)): \n",
    "     decnum += int(digit, base) * (base ** power) \n",
    "  return decnum"
   ]
  },
  {
   "cell_type": "markdown",
   "metadata": {},
   "source": [
    "Reimplement the solution for this exercise such that it doesn’t use the int function at all, but rather uses the built-in ord and chr functions to identify the character. This implementation should be more robust, ignoring characters that aren’t legal for the entered number base."
   ]
  },
  {
   "cell_type": "code",
   "execution_count": null,
   "metadata": {},
   "outputs": [],
   "source": []
  },
  {
   "cell_type": "markdown",
   "metadata": {},
   "source": [
    "Write a program that asks the user for their name and then produces a “name triangle”: the first letter of their name, then the first two letters, then the first three, and so forth, until the entire name is written on the final line. "
   ]
  },
  {
   "cell_type": "code",
   "execution_count": 7,
   "metadata": {},
   "outputs": [
    {
     "name": "stdout",
     "output_type": "stream",
     "text": [
      "V\n",
      "Va\n",
      "Van\n",
      "Vane\n",
      "Vanes\n",
      "Vaness\n",
      "Vanessa\n"
     ]
    }
   ],
   "source": [
    "def name_triangle(name):\n",
    "    for (idx, _) in enumerate(name):\n",
    "        print(name[0: idx + 1])\n",
    "name_triangle('Vanessa')"
   ]
  },
  {
   "cell_type": "code",
   "execution_count": 8,
   "metadata": {},
   "outputs": [
    {
     "name": "stdout",
     "output_type": "stream",
     "text": [
      "Van"
     ]
    }
   ],
   "source": [
    "def slice(name, lower, upper):\n",
    "    while lower < upper:\n",
    "        print(name[lower], end='')\n",
    "        lower = lower + 1\n",
    "slice('Vanessa', 0, 3)"
   ]
  },
  {
   "cell_type": "code",
   "execution_count": 9,
   "metadata": {},
   "outputs": [
    {
     "data": {
      "text/plain": [
       "False"
      ]
     },
     "execution_count": 9,
     "metadata": {},
     "output_type": "execute_result"
    }
   ],
   "source": [
    "'kasozi' in ['kasozi', 'vincent']\n",
    "'k' in 'kasozi'\n",
    "2 in {1, 5, 6}"
   ]
  },
  {
   "cell_type": "markdown",
   "metadata": {},
   "source": [
    "Pig Latin (http://mng.bz/YrON) is a common children’s “secret” language in English speaking countries. (It’s normally secret among children who forget that their parents\n",
    "were once children themselves.) The rules for translating words from English into Pig\n",
    "Latin are quite simple:\n",
    "- If the word begins with a vowel (a, e, i, o, or u), add “way” to the end of the\n",
    "word. So “air” becomes “airway” and “eat” becomes \"eatway.\"\n",
    "- If the word begins with any other letter, then we take the first letter, put it on\n",
    "the end of the word, and then add \"ay.\" Thus, “python” becomes “ythonpay”\n",
    "and “computer” becomes “omputercay.”\n"
   ]
  },
  {
   "cell_type": "code",
   "execution_count": 10,
   "metadata": {},
   "outputs": [],
   "source": [
    "def is_vowel(letter):\n",
    "    return letter in 'aeiouAIEOU'\n",
    "\n",
    "def pig_latin(word: str) -> str:\n",
    "    if is_vowel(word[0]):\n",
    "        return f'{word}way'\n",
    "    else:\n",
    "        return f'{word[1:]}{word[0]}ay'\n",
    "\n",
    "def pig_latin_pun(word: str) -> str:\n",
    "    if is_vowel(word[0]):\n",
    "        return f'{word[:-1]}way{word[-1]}'\n",
    "    else:\n",
    "        return f'{word[1:-1]}{word[0]}ay{word[-1]}'\n",
    "    \n"
   ]
  },
  {
   "cell_type": "markdown",
   "metadata": {},
   "source": [
    "Handle capitalized words—If a word is capitalized (i.e., the first letter is capitalized, but the rest of the word isn’t), then the Pig Latin translation should be similarly capitalized."
   ]
  },
  {
   "cell_type": "code",
   "execution_count": 11,
   "metadata": {},
   "outputs": [
    {
     "data": {
      "text/plain": [
       "'airway'"
      ]
     },
     "execution_count": 11,
     "metadata": {},
     "output_type": "execute_result"
    }
   ],
   "source": [
    "def pig_latin_caps(word: str) -> str:\n",
    "    if word[0].islower():\n",
    "        return pig_latin(word)\n",
    "    else:\n",
    "        return pig_latin(word).capitalize()\n",
    "pig_latin_caps('air')"
   ]
  },
  {
   "cell_type": "markdown",
   "metadata": {},
   "source": [
    "Handle punctuation—If a word ends with punctuation, then that punctuation should be shifted to the end of the translated word."
   ]
  },
  {
   "cell_type": "code",
   "execution_count": 14,
   "metadata": {},
   "outputs": [
    {
     "data": {
      "text/plain": [
       "'airway'"
      ]
     },
     "execution_count": 14,
     "metadata": {},
     "output_type": "execute_result"
    }
   ],
   "source": [
    "import string\n",
    "def pig_latin_punc(word: str) -> str:\n",
    "    if word[-1] in string.punctuation:\n",
    "        return pig_latin_pun(word)\n",
    "    else:\n",
    "        return pig_latin_caps(word)\n",
    "pig_latin_punc('air')"
   ]
  },
  {
   "cell_type": "markdown",
   "metadata": {},
   "source": [
    "Now that you’ve successfully written a translator for a single English word, let’s make things more difficult: translate a series of English words into Pig Latin. Write a function called pl_sentence that takes a string containing several words, separated by spaces. (To make things easier, we won’t actually ask for a real sentence. More specifically, there will be no capital letters or punctuation.)"
   ]
  },
  {
   "cell_type": "code",
   "execution_count": 20,
   "metadata": {},
   "outputs": [
    {
     "data": {
      "text/plain": [
       "'histay isway away esttay ranslationtay'"
      ]
     },
     "execution_count": 20,
     "metadata": {},
     "output_type": "execute_result"
    }
   ],
   "source": [
    "def pl_sentence(sentence: str) -> str:\n",
    "    foo = []\n",
    "    for word in sentence.split():\n",
    "        foo.append(pig_latin(word))\n",
    "    return ' '.join(foo)\n",
    "\n",
    "pl_sentence('this is a test translation')"
   ]
  },
  {
   "cell_type": "markdown",
   "metadata": {},
   "source": [
    "Take a text file, creating (and printing) a nonsensical sentence from the nth word on each of the first 10 lines, where n is the line number."
   ]
  },
  {
   "cell_type": "code",
   "execution_count": 25,
   "metadata": {},
   "outputs": [
    {
     "data": {
      "text/plain": [
       "'New York'"
      ]
     },
     "execution_count": 25,
     "metadata": {},
     "output_type": "execute_result"
    }
   ],
   "source": [
    "city = 'New York'\n",
    "city"
   ]
  },
  {
   "cell_type": "code",
   "execution_count": 26,
   "metadata": {},
   "outputs": [
    {
     "data": {
      "text/plain": [
       "'New York'"
      ]
     },
     "execution_count": 26,
     "metadata": {},
     "output_type": "execute_result"
    }
   ],
   "source": [
    "city = \"New York\"\n",
    "city"
   ]
  },
  {
   "cell_type": "code",
   "execution_count": 29,
   "metadata": {},
   "outputs": [
    {
     "data": {
      "text/plain": [
       "'8'"
      ]
     },
     "execution_count": 29,
     "metadata": {},
     "output_type": "execute_result"
    }
   ],
   "source": [
    "number = str(8)\n",
    "number"
   ]
  },
  {
   "cell_type": "markdown",
   "metadata": {},
   "source": [
    "String Concatenation"
   ]
  },
  {
   "cell_type": "code",
   "execution_count": 32,
   "metadata": {},
   "outputs": [
    {
     "data": {
      "text/plain": [
       "'Mirembe Vanessa'"
      ]
     },
     "execution_count": 32,
     "metadata": {},
     "output_type": "execute_result"
    }
   ],
   "source": [
    "first_name = 'Mirembe'\n",
    "second_name = 'Vanessa'\n",
    "full_name = f'{first_name} {second_name}'\n",
    "full_name"
   ]
  },
  {
   "cell_type": "markdown",
   "metadata": {},
   "source": [
    "Selecting a char"
   ]
  },
  {
   "cell_type": "code",
   "execution_count": 33,
   "metadata": {},
   "outputs": [
    {
     "data": {
      "text/plain": [
       "'M'"
      ]
     },
     "execution_count": 33,
     "metadata": {},
     "output_type": "execute_result"
    }
   ],
   "source": [
    "name = 'Mirembe Vanessa'\n",
    "name[0]"
   ]
  },
  {
   "cell_type": "markdown",
   "metadata": {},
   "source": [
    "Size of a String"
   ]
  },
  {
   "cell_type": "code",
   "execution_count": 34,
   "metadata": {},
   "outputs": [
    {
     "data": {
      "text/plain": [
       "15"
      ]
     },
     "execution_count": 34,
     "metadata": {},
     "output_type": "execute_result"
    }
   ],
   "source": [
    "name = 'Mirembe Vanessa'\n",
    "len(name)"
   ]
  },
  {
   "cell_type": "markdown",
   "metadata": {},
   "source": [
    "Replacing a substring in a string"
   ]
  },
  {
   "cell_type": "code",
   "execution_count": 37,
   "metadata": {},
   "outputs": [
    {
     "data": {
      "text/plain": [
       "'Kasozi Vincent'"
      ]
     },
     "execution_count": 37,
     "metadata": {},
     "output_type": "execute_result"
    }
   ],
   "source": [
    "name = 'Mirembe Vincent'\n",
    "name.replace('Mirembe', 'Kasozi')"
   ]
  },
  {
   "cell_type": "markdown",
   "metadata": {},
   "source": [
    "Counting substring occurences in a string"
   ]
  },
  {
   "cell_type": "code",
   "execution_count": 56,
   "metadata": {},
   "outputs": [
    {
     "data": {
      "text/plain": [
       "1"
      ]
     },
     "execution_count": 56,
     "metadata": {},
     "output_type": "execute_result"
    }
   ],
   "source": [
    "'Vincent Vanessa'.count('Vin')"
   ]
  },
  {
   "cell_type": "markdown",
   "metadata": {},
   "source": [
    "Repeating a String"
   ]
  },
  {
   "cell_type": "code",
   "execution_count": 57,
   "metadata": {},
   "outputs": [
    {
     "data": {
      "text/plain": [
       "'VincentVincentVincentVincent'"
      ]
     },
     "execution_count": 57,
     "metadata": {},
     "output_type": "execute_result"
    }
   ],
   "source": [
    "'Vincent' * 4"
   ]
  },
  {
   "cell_type": "markdown",
   "metadata": {},
   "source": [
    "How to Split a String"
   ]
  },
  {
   "cell_type": "code",
   "execution_count": 65,
   "metadata": {},
   "outputs": [
    {
     "name": "stdout",
     "output_type": "stream",
     "text": [
      "kasozi Vincent Vanessa\n",
      "Mirembe Vanessa\n"
     ]
    }
   ],
   "source": [
    "names = ['kasozi Vincent Vanessa', 'Mirembe Vanessa']\n",
    "for name in names:\n",
    "    first, middle = name.split(maxsplit=1)\n",
    "    print(first, middle)"
   ]
  },
  {
   "cell_type": "code",
   "execution_count": 73,
   "metadata": {},
   "outputs": [
    {
     "data": {
      "text/plain": [
       "'Miremebe Vanessa'"
      ]
     },
     "execution_count": 73,
     "metadata": {},
     "output_type": "execute_result"
    }
   ],
   "source": [
    "'mIREMEBE vANESSA'.swapcase()"
   ]
  },
  {
   "cell_type": "markdown",
   "metadata": {},
   "source": [
    "- input\n",
    "- print\n",
    "- int\n",
    "- bool\n",
    "- float\n",
    "- str\n",
    "- enumerate\n",
    "- reversed\n",
    "- sum\n",
    "- help\n",
    "- type\n",
    "- len\n",
    "- hex\n",
    "- dir"
   ]
  },
  {
   "cell_type": "markdown",
   "metadata": {},
   "source": [
    "Ubbi Dubbi"
   ]
  },
  {
   "cell_type": "code",
   "execution_count": 178,
   "metadata": {},
   "outputs": [
    {
     "data": {
      "text/plain": [
       "'ubeubat'"
      ]
     },
     "execution_count": 178,
     "metadata": {},
     "output_type": "execute_result"
    }
   ],
   "source": [
    "def ubbi_dubbi(word: str) -> str:\n",
    "    response = []\n",
    "    for letter in word:\n",
    "        if is_vowel(letter):\n",
    "            response.append(f'ub{letter}')\n",
    "        else:\n",
    "            response.append(letter)\n",
    "    return ''.join(response)\n",
    "\n",
    "ubbi_dubbi('eat')"
   ]
  },
  {
   "cell_type": "markdown",
   "metadata": {},
   "source": [
    "Handle capitalized words—If a word is capitalized (i.e., the first letter is capitalized, but the rest of the word isn’t), then the Ubbi Dubbi translation should be similarly capitalized."
   ]
  },
  {
   "cell_type": "code",
   "execution_count": 177,
   "metadata": {},
   "outputs": [
    {
     "data": {
      "text/plain": [
       "'Ubeubat'"
      ]
     },
     "execution_count": 177,
     "metadata": {},
     "output_type": "execute_result"
    }
   ],
   "source": [
    "def ubbi_dubbi_caps(word: str) -> str:\n",
    "    if word[0].isupper():\n",
    "        return ubbi_dubbi(word).capitalize()\n",
    "    else:\n",
    "        return ubbi_dubbi(word)\n",
    "ubbi_dubbi_caps('Eat')"
   ]
  },
  {
   "cell_type": "markdown",
   "metadata": {},
   "source": [
    "Remove author names—In academia, it’s common to remove the authors’ names from a paper submitted for peer review. Given a string containing an article and a separate list of strings containing authors’ names, replace all names in the\n",
    "article with _ characters."
   ]
  },
  {
   "cell_type": "code",
   "execution_count": 184,
   "metadata": {},
   "outputs": [
    {
     "name": "stdout",
     "output_type": "stream",
     "text": [
      "\n",
      "     Makerere University .....\n",
      "     ______________ _______________\n",
      "      abstract:\n",
      "      dskhlakfhkafh;ahf;sjkdfh;adsfjh;f\n",
      "      sdfjakfjadflkjafljksdfakfkdfbakdfbak\n",
      "\n"
     ]
    }
   ],
   "source": [
    "from typing import List\n",
    "def replace_names(article: str, names: List[str]) -> str:\n",
    "    for name in names:\n",
    "        article = article.replace(name, '_' * len(name))\n",
    "    return article\n",
    "\n",
    "article = '''\n",
    "     Makerere University .....\n",
    "     Kasozi Vincent Mirembe Vanessa\n",
    "      abstract:\n",
    "      dskhlakfhkafh;ahf;sjkdfh;adsfjh;f\n",
    "      sdfjakfjadflkjafljksdfakfkdfbakdfbak\n",
    "'''\n",
    "\n",
    "\n",
    "names = ['Kasozi Vincent', 'Mirembe Vanessa']\n",
    "\n",
    "print(replace_names(article, names))"
   ]
  },
  {
   "cell_type": "markdown",
   "metadata": {},
   "source": [
    "URL-encode characters—In URLs, we often replace special and nonprintable characters with a % followed by the character’s ASCII value in hexadecimal. For example, if a URL is to include a space character (ASCII 32, aka 0x20), we\n",
    "replace it with %20. Given a string, URL-encode any character that isn’t a letter or number. For the purposes of this exercise, we’ll assume that all characters are indeed in ASCII (i.e., one byte long), and not multibyte UTF-8 characters. It might help to know about the ord (http://mng.bz/EdnJ) and hex (http://mng\n",
    ".bz/nPxg) functions."
   ]
  },
  {
   "cell_type": "code",
   "execution_count": 208,
   "metadata": {},
   "outputs": [
    {
     "data": {
      "text/plain": [
       "'hello%20world%20'"
      ]
     },
     "execution_count": 208,
     "metadata": {},
     "output_type": "execute_result"
    }
   ],
   "source": [
    "import string\n",
    "def url_encode(url):\n",
    "    response = []\n",
    "    for letter in url:\n",
    "        if (letter in string.punctuation) or letter.isspace():\n",
    "            s = hex(ord(letter)).replace('0x', '%')\n",
    "            response.append(s)\n",
    "        else:\n",
    "            response.append(letter)\n",
    "    return ''.join(response)\n",
    "\n",
    "url_encode('hello world ')"
   ]
  },
  {
   "cell_type": "markdown",
   "metadata": {},
   "source": [
    " Sorting a string"
   ]
  },
  {
   "cell_type": "code",
   "execution_count": 221,
   "metadata": {},
   "outputs": [
    {
     "data": {
      "text/plain": [
       "'aaenssv'"
      ]
     },
     "execution_count": 221,
     "metadata": {},
     "output_type": "execute_result"
    }
   ],
   "source": [
    "def sort_string(word: str) -> str:\n",
    "    return ''.join(sorted(word))\n",
    "\n",
    "def sort_capitalized(word: str) -> str:\n",
    "    if word[0].isupper():\n",
    "        return ''.join(sorted(word.lower())).capitalize()\n",
    "    else:\n",
    "        return sort_string(word)\n",
    "\n",
    "sort_capitalized('vanessa')"
   ]
  },
  {
   "cell_type": "markdown",
   "metadata": {},
   "source": [
    "Given the string “Tom Dick Harry,” break it into individual words, and then sort those words alphabetically. Once they’re sorted, print them with commas (,) between the names."
   ]
  },
  {
   "cell_type": "code",
   "execution_count": 223,
   "metadata": {},
   "outputs": [
    {
     "data": {
      "text/plain": [
       "'Mot, Cdik, Ahrry'"
      ]
     },
     "execution_count": 223,
     "metadata": {},
     "output_type": "execute_result"
    }
   ],
   "source": [
    "def sort_sentence(sentence: str) -> str:\n",
    "    response = []\n",
    "    for word in sentence.split():\n",
    "        response.append(sort_capitalized(word))\n",
    "    return ', '.join(response)\n",
    "\n",
    "sort_sentence('Tom Dick Harry')"
   ]
  },
  {
   "cell_type": "markdown",
   "metadata": {},
   "source": [
    "Which is the last word, alphabetically, in a text file?"
   ]
  },
  {
   "cell_type": "code",
   "execution_count": 230,
   "metadata": {},
   "outputs": [],
   "source": [
    "def get_last(file: str) -> str:\n",
    "    words = file.split()\n",
    "    return sorted(words)[-1]"
   ]
  },
  {
   "cell_type": "markdown",
   "metadata": {},
   "source": [
    "Which is the longest word in a text file?"
   ]
  },
  {
   "cell_type": "code",
   "execution_count": 239,
   "metadata": {},
   "outputs": [
    {
     "data": {
      "text/plain": [
       "'Vanessa'"
      ]
     },
     "execution_count": 239,
     "metadata": {},
     "output_type": "execute_result"
    }
   ],
   "source": [
    "names = ['Vanessa', 'Alex','Kasozi']\n",
    "sorted(names, key=len)[-1]"
   ]
  },
  {
   "cell_type": "code",
   "execution_count": 233,
   "metadata": {},
   "outputs": [
    {
     "name": "stdout",
     "output_type": "stream",
     "text": [
      "Help on built-in function sorted in module builtins:\n",
      "\n",
      "sorted(iterable, /, *, key=None, reverse=False)\n",
      "    Return a new list containing all items from the iterable in ascending order.\n",
      "    \n",
      "    A custom key function can be supplied to customize the sort order, and the\n",
      "    reverse flag can be set to request the result in descending order.\n",
      "\n"
     ]
    }
   ],
   "source": [
    "help(sorted)"
   ]
  },
  {
   "cell_type": "code",
   "execution_count": null,
   "metadata": {},
   "outputs": [],
   "source": []
  }
 ],
 "metadata": {
  "kernelspec": {
   "display_name": "Python 3",
   "language": "python",
   "name": "python3"
  },
  "language_info": {
   "codemirror_mode": {
    "name": "ipython",
    "version": 3
   },
   "file_extension": ".py",
   "mimetype": "text/x-python",
   "name": "python",
   "nbconvert_exporter": "python",
   "pygments_lexer": "ipython3",
   "version": "3.11.4"
  },
  "orig_nbformat": 4
 },
 "nbformat": 4,
 "nbformat_minor": 2
}
