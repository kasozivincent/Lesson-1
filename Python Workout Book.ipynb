{
 "cells": [
  {
   "cell_type": "markdown",
   "metadata": {},
   "source": [
    "For this exercise\n",
    "- Write a function (guessing_game) that takes no arguments.\n",
    "- When run, the function chooses a random integer between 0 and 100 (inclusive).\n",
    "- Then ask the user to guess what number has been chosen.\n",
    "- Each time the user enters a guess, the program indicates one of the following:\n",
    "  - Too high\n",
    "  - Too low\n",
    "  - Just right\n",
    "- If the user guesses correctly, the program exits. Otherwise, the user is asked to\n",
    "try again.\n",
    "- The program only exits after the user guesses correctly"
   ]
  },
  {
   "cell_type": "code",
   "execution_count": 1,
   "metadata": {},
   "outputs": [],
   "source": [
    "from random import randint\n",
    "\n",
    "def guessing_game():\n",
    "    number = randint(0, 100)\n",
    "    while True:\n",
    "      guess = int(input('Insert your guess: '))\n",
    "      if guess == number:\n",
    "        print('Just right')\n",
    "        break\n",
    "      elif guess < number:\n",
    "        print('Too low')\n",
    "      else:\n",
    "        print('Too high')\n"
   ]
  },
  {
   "cell_type": "markdown",
   "metadata": {},
   "source": [
    "Modify this program, such that it gives the user only three chances to guess the\n",
    "correct number. If they try three times without success, the program tells them\n",
    "that they didn’t guess in time and then exits."
   ]
  },
  {
   "cell_type": "code",
   "execution_count": 2,
   "metadata": {},
   "outputs": [
    {
     "ename": "ValueError",
     "evalue": "invalid literal for int() with base 10: ''",
     "output_type": "error",
     "traceback": [
      "\u001b[1;31m---------------------------------------------------------------------------\u001b[0m",
      "\u001b[1;31mValueError\u001b[0m                                Traceback (most recent call last)",
      "Cell \u001b[1;32mIn[2], line 12\u001b[0m\n\u001b[0;32m     10\u001b[0m         \u001b[39melse\u001b[39;00m:\n\u001b[0;32m     11\u001b[0m           \u001b[39mprint\u001b[39m(\u001b[39m'\u001b[39m\u001b[39mToo high\u001b[39m\u001b[39m'\u001b[39m)\n\u001b[1;32m---> 12\u001b[0m guessing_game()\n",
      "Cell \u001b[1;32mIn[2], line 4\u001b[0m, in \u001b[0;36mguessing_game\u001b[1;34m()\u001b[0m\n\u001b[0;32m      2\u001b[0m number \u001b[39m=\u001b[39m randint(\u001b[39m0\u001b[39m, \u001b[39m100\u001b[39m)\n\u001b[0;32m      3\u001b[0m \u001b[39mfor\u001b[39;00m trial \u001b[39min\u001b[39;00m \u001b[39mrange\u001b[39m(\u001b[39m3\u001b[39m):\n\u001b[1;32m----> 4\u001b[0m     guess \u001b[39m=\u001b[39m \u001b[39mint\u001b[39;49m(\u001b[39minput\u001b[39;49m(\u001b[39m'\u001b[39;49m\u001b[39mInsert your guess: \u001b[39;49m\u001b[39m'\u001b[39;49m))\n\u001b[0;32m      5\u001b[0m     \u001b[39mif\u001b[39;00m guess \u001b[39m==\u001b[39m number:\n\u001b[0;32m      6\u001b[0m       \u001b[39mprint\u001b[39m(\u001b[39m'\u001b[39m\u001b[39mJust right\u001b[39m\u001b[39m'\u001b[39m)\n",
      "\u001b[1;31mValueError\u001b[0m: invalid literal for int() with base 10: ''"
     ]
    }
   ],
   "source": [
    "def guessing_game():\n",
    "    number = randint(0, 100)\n",
    "    for trial in range(3):\n",
    "        guess = int(input('Insert your guess: '))\n",
    "        if guess == number:\n",
    "          print('Just right')\n",
    "          break\n",
    "        elif guess < number:\n",
    "          print('Too low')\n",
    "        else:\n",
    "          print('Too high')\n",
    "guessing_game()"
   ]
  },
  {
   "cell_type": "markdown",
   "metadata": {},
   "source": [
    "Not only should you choose a random number, but you should also choose a random number base, from 2 to 16, in which the user should submit their input. If the user inputs “10” as their guess, you’ll need to interpret it in the correct number base; “10” might mean 10 (decimal), or 2 (binary), or 16\n",
    "(hexadecimal)."
   ]
  },
  {
   "cell_type": "code",
   "execution_count": null,
   "metadata": {},
   "outputs": [],
   "source": []
  },
  {
   "cell_type": "markdown",
   "metadata": {},
   "source": [
    "Try the same thing, but have the program choose a random word from the dictionary, and then ask the user to guess the word. (You might want to limit yourself to words containing two to five letters, to avoid making it too horribly\n",
    "difficult.) Instead of telling the user that they should guess a smaller or larger number, have them choose an earlier or later word in the dict"
   ]
  },
  {
   "cell_type": "code",
   "execution_count": null,
   "metadata": {},
   "outputs": [],
   "source": []
  },
  {
   "cell_type": "markdown",
   "metadata": {},
   "source": [
    "EXERCISE 2 Summing numbers"
   ]
  },
  {
   "cell_type": "markdown",
   "metadata": {},
   "source": [
    "The splat operator, designing functions that can accept a variable number of arguments"
   ]
  },
  {
   "cell_type": "code",
   "execution_count": 3,
   "metadata": {},
   "outputs": [
    {
     "data": {
      "text/plain": [
       "37"
      ]
     },
     "execution_count": 3,
     "metadata": {},
     "output_type": "execute_result"
    }
   ],
   "source": [
    "def mysum(*numbers):\n",
    "    sum = 0\n",
    "    for number in numbers:\n",
    "        sum = sum + number\n",
    "    return sum\n",
    "\n",
    "mysum(4, 6, 5, 5, 8, 9)"
   ]
  },
  {
   "cell_type": "code",
   "execution_count": 4,
   "metadata": {},
   "outputs": [
    {
     "name": "stdout",
     "output_type": "stream",
     "text": [
      "(4, 1, 2, 5, 6)\n"
     ]
    },
    {
     "data": {
      "text/plain": [
       "3.6"
      ]
     },
     "execution_count": 4,
     "metadata": {},
     "output_type": "execute_result"
    }
   ],
   "source": [
    "def average(*numbers):\n",
    "    print(numbers)\n",
    "    count = len(numbers)\n",
    "    sum = 0\n",
    "    for number in numbers:\n",
    "        sum = sum + number\n",
    "    return sum / count\n",
    "\n",
    "average(4, 1, 2, 5, 6)"
   ]
  },
  {
   "cell_type": "markdown",
   "metadata": {},
   "source": [
    "The built-in version of sum takes an optional second argument, which is used as the starting point for the summing. (That’s why it takes a list of numbers as its first argument, unlike our mysum implementation.) So sum([1,2,3], 4) returns 10, because 1+2+3 is 6, which would be added to the starting value of 4. Reimplement your mysum function such that it works in this way. If a second argument is not provided, then it should default to 0. Note that while you can write a function in Python 3 that defines a parameter after *args, I’d suggest avoiding it and just taking two arguments—a list and an optional starting point."
   ]
  },
  {
   "cell_type": "code",
   "execution_count": 15,
   "metadata": {},
   "outputs": [
    {
     "data": {
      "text/plain": [
       "17"
      ]
     },
     "execution_count": 15,
     "metadata": {},
     "output_type": "execute_result"
    }
   ],
   "source": [
    "def sum(iterable, seed: int = 0):\n",
    "    summation = seed\n",
    "    for number in iterable:\n",
    "        summation = summation + number\n",
    "    return summation\n",
    "sum((1, 2, 4), 10)"
   ]
  },
  {
   "cell_type": "markdown",
   "metadata": {},
   "source": [
    "Write a function that takes a list of numbers. It should return the average (i.e., arithmetic mean) of those numbers."
   ]
  },
  {
   "cell_type": "code",
   "execution_count": 18,
   "metadata": {},
   "outputs": [
    {
     "data": {
      "text/plain": [
       "4.0"
      ]
     },
     "execution_count": 18,
     "metadata": {},
     "output_type": "execute_result"
    }
   ],
   "source": [
    "def avg(numbers):\n",
    "    num_items = len(numbers)\n",
    "    total = sum(numbers)\n",
    "    return total / num_items\n",
    "avg([4])"
   ]
  },
  {
   "cell_type": "markdown",
   "metadata": {},
   "source": [
    "Write a function that takes a list of words (strings). It should return a tuple containing three integers, representing the length of the shortest word, the length of the longest word, and the average word length."
   ]
  },
  {
   "cell_type": "code",
   "execution_count": 26,
   "metadata": {},
   "outputs": [
    {
     "data": {
      "text/plain": [
       "(5, 7, 18)"
      ]
     },
     "execution_count": 26,
     "metadata": {},
     "output_type": "execute_result"
    }
   ],
   "source": [
    "def shortest(names):\n",
    "    short = len(names[0])\n",
    "    for current_name in names[1:]:\n",
    "        if len(current_name) < short:\n",
    "            short = len(current_name)\n",
    "    return short\n",
    "\n",
    "def longest(names):\n",
    "    long = len(names[0])\n",
    "    for current_name in names[1:]:\n",
    "        if len(current_name) > long:\n",
    "            long = len(current_name)\n",
    "    return long\n",
    "\n",
    "\n",
    "def avg_word(names):\n",
    "    num_items = len(names)\n",
    "    sum = 0\n",
    "    for name in names:\n",
    "        sum = sum + len(name)\n",
    "    return sum\n",
    "\n",
    "def solution(names):\n",
    "    return (shortest(names), longest(names), avg_word(names))\n",
    "\n",
    "solution(['kasozi', 'vincent', 'isaac'])"
   ]
  },
  {
   "cell_type": "markdown",
   "metadata": {},
   "source": [
    "Write a function that takes a list of Python objects. Sum the objects that either are integers or can be turned into integers, ignoring the others"
   ]
  },
  {
   "cell_type": "code",
   "execution_count": 24,
   "metadata": {},
   "outputs": [
    {
     "data": {
      "text/plain": [
       "['vincent', 'isaac']"
      ]
     },
     "execution_count": 24,
     "metadata": {},
     "output_type": "execute_result"
    }
   ],
   "source": []
  },
  {
   "cell_type": "code",
   "execution_count": null,
   "metadata": {},
   "outputs": [],
   "source": []
  }
 ],
 "metadata": {
  "kernelspec": {
   "display_name": "Python 3",
   "language": "python",
   "name": "python3"
  },
  "language_info": {
   "codemirror_mode": {
    "name": "ipython",
    "version": 3
   },
   "file_extension": ".py",
   "mimetype": "text/x-python",
   "name": "python",
   "nbconvert_exporter": "python",
   "pygments_lexer": "ipython3",
   "version": "3.11.4"
  },
  "orig_nbformat": 4
 },
 "nbformat": 4,
 "nbformat_minor": 2
}
