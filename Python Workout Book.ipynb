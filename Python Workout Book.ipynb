{
 "cells": [
  {
   "cell_type": "markdown",
   "metadata": {},
   "source": [
    "For this exercise\n",
    "- Write a function (guessing_game) that takes no arguments.\n",
    "- When run, the function chooses a random integer between 0 and 100 (inclusive).\n",
    "- Then ask the user to guess what number has been chosen.\n",
    "- Each time the user enters a guess, the program indicates one of the following:\n",
    "  - Too high\n",
    "  - Too low\n",
    "  - Just right\n",
    "- If the user guesses correctly, the program exits. Otherwise, the user is asked to\n",
    "try again.\n",
    "- The program only exits after the user guesses correctly"
   ]
  },
  {
   "cell_type": "code",
   "execution_count": null,
   "metadata": {},
   "outputs": [],
   "source": [
    "from random import randint\n",
    "\n",
    "def guessing_game():\n",
    "    number = randint(0, 100)\n",
    "    while True:\n",
    "      guess = int(input('Insert your guess: '))\n",
    "      if guess == number:\n",
    "        print('Just right')\n",
    "        break\n",
    "      elif guess < number:\n",
    "        print('Too low')\n",
    "      else:\n",
    "        print('Too high')\n"
   ]
  },
  {
   "cell_type": "markdown",
   "metadata": {},
   "source": [
    "Modify this program, such that it gives the user only three chances to guess the\n",
    "correct number. If they try three times without success, the program tells them\n",
    "that they didn’t guess in time and then exits."
   ]
  },
  {
   "cell_type": "code",
   "execution_count": null,
   "metadata": {},
   "outputs": [],
   "source": [
    "def guessing_game():\n",
    "    number = randint(0, 100)\n",
    "    for trial in range(3):\n",
    "        guess = int(input('Insert your guess: '))\n",
    "        if guess == number:\n",
    "          print('Just right')\n",
    "          break\n",
    "        elif guess < number:\n",
    "          print('Too low')\n",
    "        else:\n",
    "          print('Too high')\n",
    "guessing_game()"
   ]
  },
  {
   "cell_type": "markdown",
   "metadata": {},
   "source": [
    "Not only should you choose a random number, but you should also choose a random number base, from 2 to 16, in which the user should submit their input. If the user inputs “10” as their guess, you’ll need to interpret it in the correct number base; “10” might mean 10 (decimal), or 2 (binary), or 16\n",
    "(hexadecimal)."
   ]
  },
  {
   "cell_type": "code",
   "execution_count": null,
   "metadata": {},
   "outputs": [],
   "source": []
  },
  {
   "cell_type": "markdown",
   "metadata": {},
   "source": [
    "Try the same thing, but have the program choose a random word from the dictionary, and then ask the user to guess the word. (You might want to limit yourself to words containing two to five letters, to avoid making it too horribly\n",
    "difficult.) Instead of telling the user that they should guess a smaller or larger number, have them choose an earlier or later word in the dict"
   ]
  },
  {
   "cell_type": "code",
   "execution_count": null,
   "metadata": {},
   "outputs": [],
   "source": []
  },
  {
   "cell_type": "markdown",
   "metadata": {},
   "source": [
    "EXERCISE 2 Summing numbers"
   ]
  },
  {
   "cell_type": "markdown",
   "metadata": {},
   "source": [
    "The splat operator, designing functions that can accept a variable number of arguments"
   ]
  },
  {
   "cell_type": "code",
   "execution_count": null,
   "metadata": {},
   "outputs": [],
   "source": [
    "def mysum(*numbers):\n",
    "    sum = 0\n",
    "    for number in numbers:\n",
    "        sum = sum + number\n",
    "    return sum\n",
    "\n",
    "mysum(4, 6, 5, 5, 8, 9)"
   ]
  },
  {
   "cell_type": "code",
   "execution_count": null,
   "metadata": {},
   "outputs": [],
   "source": [
    "def average(*numbers):\n",
    "    print(numbers)\n",
    "    count = len(numbers)\n",
    "    sum = 0\n",
    "    for number in numbers:\n",
    "        sum = sum + number\n",
    "    return sum / count\n",
    "\n",
    "average(4, 1, 2, 5, 6)"
   ]
  },
  {
   "cell_type": "markdown",
   "metadata": {},
   "source": [
    "The built-in version of sum takes an optional second argument, which is used as the starting point for the summing. (That’s why it takes a list of numbers as its first argument, unlike our mysum implementation.) So sum([1,2,3], 4) returns 10, because 1+2+3 is 6, which would be added to the starting value of 4. Reimplement your mysum function such that it works in this way. If a second argument is not provided, then it should default to 0. Note that while you can write a function in Python 3 that defines a parameter after *args, I’d suggest avoiding it and just taking two arguments—a list and an optional starting point."
   ]
  },
  {
   "cell_type": "code",
   "execution_count": null,
   "metadata": {},
   "outputs": [],
   "source": [
    "def sum(iterable, seed: int = 0):\n",
    "    summation = seed\n",
    "    for number in iterable:\n",
    "        summation = summation + number\n",
    "    return summation\n",
    "sum((1, 2, 4), 10)"
   ]
  },
  {
   "cell_type": "markdown",
   "metadata": {},
   "source": [
    "Write a function that takes a list of numbers. It should return the average (i.e., arithmetic mean) of those numbers."
   ]
  },
  {
   "cell_type": "code",
   "execution_count": null,
   "metadata": {},
   "outputs": [],
   "source": [
    "from typing import List\n",
    "def avg(numbers: List[int]):\n",
    "    num_items = len(numbers)\n",
    "    total = sum(numbers)\n",
    "    return total / num_items\n",
    "avg([4])"
   ]
  },
  {
   "cell_type": "markdown",
   "metadata": {},
   "source": [
    "Write a function that takes a list of words (strings). It should return a tuple containing three integers, representing the length of the shortest word, the length of the longest word, and the average word length."
   ]
  },
  {
   "cell_type": "code",
   "execution_count": null,
   "metadata": {},
   "outputs": [],
   "source": [
    "def shortest(names):\n",
    "    short = len(names[0])\n",
    "    for current_name in names[1:]:\n",
    "        if len(current_name) < short:\n",
    "            short = len(current_name)\n",
    "    return short\n",
    "\n",
    "def longest(names):\n",
    "    long = len(names[0])\n",
    "    for current_name in names[1:]:\n",
    "        if len(current_name) > long:\n",
    "            long = len(current_name)\n",
    "    return long\n",
    "\n",
    "\n",
    "def avg_word(names):\n",
    "    num_items = len(names)\n",
    "    sum = 0\n",
    "    for name in names:\n",
    "        sum = sum + len(name)\n",
    "    return sum / num_items\n",
    "\n",
    "def solution(names):\n",
    "    return (shortest(names), longest(names), avg_word(names))\n",
    "\n",
    "solution(['kasozi', 'vincent', 'isaac'])"
   ]
  },
  {
   "cell_type": "markdown",
   "metadata": {},
   "source": [
    "Write a function that takes a list of Python objects. Sum the objects that either are integers or can be turned into integers, ignoring the others"
   ]
  },
  {
   "cell_type": "code",
   "execution_count": null,
   "metadata": {},
   "outputs": [],
   "source": [
    "def sum_objs(objects):\n",
    "    '''This is my function.\n",
    "       This is the second line\n",
    "    '''\n",
    "    sum = 0\n",
    "    for obj in objects:\n",
    "        try:\n",
    "         if isinstance(obj, int):\n",
    "            sum = sum + obj\n",
    "         else:\n",
    "            sum = sum + int(obj)\n",
    "        except:\n",
    "           continue\n",
    "    return sum\n",
    "\n",
    "sum_objs([True, False, '5', 'Vanessa', 'Kasozi', 8])"
   ]
  },
  {
   "cell_type": "markdown",
   "metadata": {},
   "source": [
    "Write a function (run_timing) that asks how long it took for you to run 10 km. The function continues to ask how long (in minutes) it took for additional runs, until the user presses Enter. At that point, the function exits—but only after calculating and displaying the average time that the 10 km runs took."
   ]
  },
  {
   "cell_type": "code",
   "execution_count": null,
   "metadata": {},
   "outputs": [],
   "source": [
    "def run_timing():\n",
    "    days = 0\n",
    "    sum = 0\n",
    "    while True:\n",
    "        response = input('Insert the time for 10km in seconds: ')\n",
    "        if response == '':\n",
    "            break\n",
    "        sum = sum + float(response)\n",
    "        days = days + 1        \n",
    "    return sum / days    \n",
    "run_timing()"
   ]
  },
  {
   "cell_type": "markdown",
   "metadata": {},
   "source": [
    "Write a function that takes a float and two integers (before and after). The function should return a float consisting of before digits before the decimal point and after digits after. Thus, if we call the function with 1234.5678, 2 and\n",
    "3, the return value should be 34.567."
   ]
  },
  {
   "cell_type": "code",
   "execution_count": null,
   "metadata": {},
   "outputs": [],
   "source": [
    "def format(number: float, before, after):\n",
    "    string = str(number)\n",
    "    left, right = string.split('.')\n",
    "    new_left = left[-before:]\n",
    "    new_right = right[:after]\n",
    "    return float(f'{new_left}.{new_right}')\n",
    "\n",
    "format(1234.5678, 1, 3)"
   ]
  },
  {
   "cell_type": "code",
   "execution_count": null,
   "metadata": {},
   "outputs": [],
   "source": [
    "name = 'Vanessa'\n",
    "# get one item from the string\n",
    "print(name[4])\n",
    "\n",
    "# get the last letter in the string\n",
    "print(name[-1])\n",
    "\n",
    "#get the first 2 letters\n",
    "print(name[:2])\n",
    "\n",
    "#get the first 5 letters\n",
    "print(name[:5])\n",
    "\n",
    "#get the last two letters\n",
    "print(name[-2:])\n",
    "\n",
    "# get the last 5 letters\n",
    "print(name[-5:])\n",
    "\n",
    "s = '1234'\n",
    "print(s[-2:])\n",
    "\n",
    "t = '5678'\n",
    "print(t[0:3])\n"
   ]
  },
  {
   "cell_type": "markdown",
   "metadata": {},
   "source": [
    "Explore the Decimal class (http://mng.bz/oPVr), which has an alternative floating-point representation that’s as accurate as any decimal number can be. Write a function that takes two strings from the user, turns them into decimal\n",
    "instances, and then prints the floating-point sum of the user’s two inputs. In other words, make it possible for the user to enter 0.1 and 0.2, and for us to get 0.3 back."
   ]
  },
  {
   "cell_type": "code",
   "execution_count": null,
   "metadata": {},
   "outputs": [],
   "source": [
    "from decimal import Decimal\n",
    "\n",
    "def solution():\n",
    "    first = Decimal(input('Insert the first string: '))\n",
    "    second = Decimal(input('Insert the second string: '))\n",
    "    return float(first + second)\n",
    "solution()"
   ]
  },
  {
   "cell_type": "code",
   "execution_count": null,
   "metadata": {},
   "outputs": [],
   "source": [
    "def convert10(input, base):\n",
    "  decnum = 0\n",
    "  for power, digit in enumerate(reversed(input)): \n",
    "     decnum += int(digit, base) * (base ** power) \n",
    "  return decnum"
   ]
  },
  {
   "cell_type": "markdown",
   "metadata": {},
   "source": [
    "Reimplement the solution for this exercise such that it doesn’t use the int function at all, but rather uses the built-in ord and chr functions to identify the character. This implementation should be more robust, ignoring characters that aren’t legal for the entered number base."
   ]
  },
  {
   "cell_type": "code",
   "execution_count": null,
   "metadata": {},
   "outputs": [],
   "source": []
  },
  {
   "cell_type": "markdown",
   "metadata": {},
   "source": [
    "Write a program that asks the user for their name and then produces a “name triangle”: the first letter of their name, then the first two letters, then the first three, and so forth, until the entire name is written on the final line. "
   ]
  },
  {
   "cell_type": "code",
   "execution_count": null,
   "metadata": {},
   "outputs": [],
   "source": [
    "def name_triangle(name):\n",
    "    for (idx, _) in enumerate(name):\n",
    "        print(name[0: idx + 1])\n",
    "name_triangle('Vanessa')"
   ]
  },
  {
   "cell_type": "code",
   "execution_count": null,
   "metadata": {},
   "outputs": [],
   "source": [
    "def slice(name, lower, upper):\n",
    "    while lower < upper:\n",
    "        print(name[lower], end='')\n",
    "        lower = lower + 1\n",
    "slice('Vanessa', 0, 3)"
   ]
  },
  {
   "cell_type": "code",
   "execution_count": null,
   "metadata": {},
   "outputs": [],
   "source": [
    "'kasozi' in ['kasozi', 'vincent']\n",
    "'k' in 'kasozi'\n",
    "2 in {1, 5, 6}"
   ]
  },
  {
   "cell_type": "markdown",
   "metadata": {},
   "source": [
    "Pig Latin (http://mng.bz/YrON) is a common children’s “secret” language in English speaking countries. (It’s normally secret among children who forget that their parents\n",
    "were once children themselves.) The rules for translating words from English into Pig\n",
    "Latin are quite simple:\n",
    "- If the word begins with a vowel (a, e, i, o, or u), add “way” to the end of the\n",
    "word. So “air” becomes “airway” and “eat” becomes \"eatway.\"\n",
    "- If the word begins with any other letter, then we take the first letter, put it on\n",
    "the end of the word, and then add \"ay.\" Thus, “python” becomes “ythonpay”\n",
    "and “computer” becomes “omputercay.”\n"
   ]
  },
  {
   "cell_type": "code",
   "execution_count": 26,
   "metadata": {},
   "outputs": [],
   "source": [
    "def is_vowel(letter):\n",
    "    return letter in 'aeiouAIEOU'\n",
    "\n",
    "def pig_latin(word: str) -> str:\n",
    "    if is_vowel(word[0]):\n",
    "        return f'{word}way'\n",
    "    else:\n",
    "        return f'{word[1:]}{word[0]}ay'\n",
    "\n",
    "def pig_latin_pun(word: str) -> str:\n",
    "    if is_vowel(word[0]):\n",
    "        return f'{word[:-1]}way{word[-1]}'\n",
    "    else:\n",
    "        return f'{word[1:-1]}{word[0]}ay{word[-1]}'\n",
    "    \n"
   ]
  },
  {
   "cell_type": "markdown",
   "metadata": {},
   "source": [
    "Handle capitalized words—If a word is capitalized (i.e., the first letter is capitalized, but the rest of the word isn’t), then the Pig Latin translation should be similarly capitalized."
   ]
  },
  {
   "cell_type": "code",
   "execution_count": null,
   "metadata": {},
   "outputs": [],
   "source": [
    "def pig_latin_caps(word: str) -> str:\n",
    "    if word[0].islower():\n",
    "        return pig_latin(word)\n",
    "    else:\n",
    "        return pig_latin(word).capitalize()\n",
    "pig_latin_caps('air')"
   ]
  },
  {
   "cell_type": "markdown",
   "metadata": {},
   "source": [
    "Handle punctuation—If a word ends with punctuation, then that punctuation should be shifted to the end of the translated word."
   ]
  },
  {
   "cell_type": "code",
   "execution_count": null,
   "metadata": {},
   "outputs": [],
   "source": [
    "import string\n",
    "def pig_latin_punc(word: str) -> str:\n",
    "    if word[-1] in string.punctuation:\n",
    "        return pig_latin_pun(word)\n",
    "    else:\n",
    "        return pig_latin_caps(word)\n",
    "pig_latin_punc('air')"
   ]
  },
  {
   "cell_type": "markdown",
   "metadata": {},
   "source": [
    "Now that you’ve successfully written a translator for a single English word, let’s make things more difficult: translate a series of English words into Pig Latin. Write a function called pl_sentence that takes a string containing several words, separated by spaces. (To make things easier, we won’t actually ask for a real sentence. More specifically, there will be no capital letters or punctuation.)"
   ]
  },
  {
   "cell_type": "code",
   "execution_count": null,
   "metadata": {},
   "outputs": [],
   "source": [
    "def pl_sentence(sentence: str) -> str:\n",
    "    foo = []\n",
    "    for word in sentence.split():\n",
    "        foo.append(pig_latin(word))\n",
    "    return ' '.join(foo)\n",
    "\n",
    "pl_sentence('this is a test translation')"
   ]
  },
  {
   "cell_type": "markdown",
   "metadata": {},
   "source": [
    "Take a text file, creating (and printing) a nonsensical sentence from the nth word on each of the first 10 lines, where n is the line number."
   ]
  },
  {
   "cell_type": "code",
   "execution_count": null,
   "metadata": {},
   "outputs": [],
   "source": [
    "city = 'New York'\n",
    "city"
   ]
  },
  {
   "cell_type": "code",
   "execution_count": null,
   "metadata": {},
   "outputs": [],
   "source": [
    "city = \"New York\"\n",
    "city"
   ]
  },
  {
   "cell_type": "code",
   "execution_count": null,
   "metadata": {},
   "outputs": [],
   "source": [
    "number = str(8)\n",
    "number"
   ]
  },
  {
   "cell_type": "markdown",
   "metadata": {},
   "source": [
    "String Concatenation"
   ]
  },
  {
   "cell_type": "code",
   "execution_count": null,
   "metadata": {},
   "outputs": [],
   "source": [
    "first_name = 'Mirembe'\n",
    "second_name = 'Vanessa'\n",
    "full_name = f'{first_name} {second_name}'\n",
    "full_name"
   ]
  },
  {
   "cell_type": "markdown",
   "metadata": {},
   "source": [
    "Selecting a char"
   ]
  },
  {
   "cell_type": "code",
   "execution_count": null,
   "metadata": {},
   "outputs": [],
   "source": [
    "name = 'Mirembe Vanessa'\n",
    "name[0]"
   ]
  },
  {
   "cell_type": "markdown",
   "metadata": {},
   "source": [
    "Size of a String"
   ]
  },
  {
   "cell_type": "code",
   "execution_count": null,
   "metadata": {},
   "outputs": [],
   "source": [
    "name = 'Mirembe Vanessa'\n",
    "len(name)"
   ]
  },
  {
   "cell_type": "markdown",
   "metadata": {},
   "source": [
    "Replacing a substring in a string"
   ]
  },
  {
   "cell_type": "code",
   "execution_count": null,
   "metadata": {},
   "outputs": [],
   "source": [
    "name = 'Mirembe Vincent'\n",
    "name.replace('Mirembe', 'Kasozi')"
   ]
  },
  {
   "cell_type": "markdown",
   "metadata": {},
   "source": [
    "Counting substring occurences in a string"
   ]
  },
  {
   "cell_type": "code",
   "execution_count": null,
   "metadata": {},
   "outputs": [],
   "source": [
    "'Vincent Vanessa'.count('Vin')"
   ]
  },
  {
   "cell_type": "markdown",
   "metadata": {},
   "source": [
    "Repeating a String"
   ]
  },
  {
   "cell_type": "code",
   "execution_count": null,
   "metadata": {},
   "outputs": [],
   "source": [
    "'Vincent' * 4"
   ]
  },
  {
   "cell_type": "markdown",
   "metadata": {},
   "source": [
    "How to Split a String"
   ]
  },
  {
   "cell_type": "code",
   "execution_count": null,
   "metadata": {},
   "outputs": [],
   "source": [
    "names = ['kasozi Vincent Vanessa', 'Mirembe Vanessa']\n",
    "for name in names:\n",
    "    first, middle = name.split(maxsplit=1)\n",
    "    print(first, middle)"
   ]
  },
  {
   "cell_type": "code",
   "execution_count": null,
   "metadata": {},
   "outputs": [],
   "source": [
    "'mIREMEBE vANESSA'.swapcase()"
   ]
  },
  {
   "cell_type": "markdown",
   "metadata": {},
   "source": [
    "- input\n",
    "- print\n",
    "- int\n",
    "- bool\n",
    "- float\n",
    "- str\n",
    "- enumerate\n",
    "- reversed\n",
    "- sum\n",
    "- help\n",
    "- type\n",
    "- len\n",
    "- hex\n",
    "- dir"
   ]
  },
  {
   "cell_type": "markdown",
   "metadata": {},
   "source": [
    "Ubbi Dubbi"
   ]
  },
  {
   "cell_type": "code",
   "execution_count": null,
   "metadata": {},
   "outputs": [],
   "source": [
    "def ubbi_dubbi(word: str) -> str:\n",
    "    response = []\n",
    "    for letter in word:\n",
    "        if is_vowel(letter):\n",
    "            response.append(f'ub{letter}')\n",
    "        else:\n",
    "            response.append(letter)\n",
    "    return ''.join(response)\n",
    "\n",
    "ubbi_dubbi('eat')"
   ]
  },
  {
   "cell_type": "markdown",
   "metadata": {},
   "source": [
    "Handle capitalized words—If a word is capitalized (i.e., the first letter is capitalized, but the rest of the word isn’t), then the Ubbi Dubbi translation should be similarly capitalized."
   ]
  },
  {
   "cell_type": "code",
   "execution_count": null,
   "metadata": {},
   "outputs": [],
   "source": [
    "def ubbi_dubbi_caps(word: str) -> str:\n",
    "    if word[0].isupper():\n",
    "        return ubbi_dubbi(word).capitalize()\n",
    "    else:\n",
    "        return ubbi_dubbi(word)\n",
    "ubbi_dubbi_caps('Eat')"
   ]
  },
  {
   "cell_type": "markdown",
   "metadata": {},
   "source": [
    "Remove author names—In academia, it’s common to remove the authors’ names from a paper submitted for peer review. Given a string containing an article and a separate list of strings containing authors’ names, replace all names in the\n",
    "article with _ characters."
   ]
  },
  {
   "cell_type": "code",
   "execution_count": null,
   "metadata": {},
   "outputs": [],
   "source": [
    "from typing import List\n",
    "def replace_names(article: str, names: List[str]) -> str:\n",
    "    for name in names:\n",
    "        article = article.replace(name, '_' * len(name))\n",
    "    return article\n",
    "\n",
    "article = '''\n",
    "     Makerere University .....\n",
    "     Kasozi Vincent Mirembe Vanessa\n",
    "      abstract:\n",
    "      dskhlakfhkafh;ahf;sjkdfh;adsfjh;f\n",
    "      sdfjakfjadflkjafljksdfakfkdfbakdfbak\n",
    "'''\n",
    "\n",
    "\n",
    "names = ['Kasozi Vincent', 'Mirembe Vanessa']\n",
    "\n",
    "print(replace_names(article, names))"
   ]
  },
  {
   "cell_type": "markdown",
   "metadata": {},
   "source": [
    "URL-encode characters—In URLs, we often replace special and nonprintable characters with a % followed by the character’s ASCII value in hexadecimal. For example, if a URL is to include a space character (ASCII 32, aka 0x20), we\n",
    "replace it with %20. Given a string, URL-encode any character that isn’t a letter or number. For the purposes of this exercise, we’ll assume that all characters are indeed in ASCII (i.e., one byte long), and not multibyte UTF-8 characters. It might help to know about the ord (http://mng.bz/EdnJ) and hex (http://mng\n",
    ".bz/nPxg) functions."
   ]
  },
  {
   "cell_type": "code",
   "execution_count": null,
   "metadata": {},
   "outputs": [],
   "source": [
    "import string\n",
    "def url_encode(url):\n",
    "    response = []\n",
    "    for letter in url:\n",
    "        if (letter in string.punctuation) or letter.isspace():\n",
    "            s = hex(ord(letter)).replace('0x', '%')\n",
    "            response.append(s)\n",
    "        else:\n",
    "            response.append(letter)\n",
    "    return ''.join(response)\n",
    "\n",
    "url_encode('hello world ')"
   ]
  },
  {
   "cell_type": "markdown",
   "metadata": {},
   "source": [
    " Sorting a string"
   ]
  },
  {
   "cell_type": "code",
   "execution_count": null,
   "metadata": {},
   "outputs": [],
   "source": [
    "def sort_string(word: str) -> str:\n",
    "    return ''.join(sorted(word))\n",
    "\n",
    "def sort_capitalized(word: str) -> str:\n",
    "    if word[0].isupper():\n",
    "        return ''.join(sorted(word.lower())).capitalize()\n",
    "    else:\n",
    "        return sort_string(word)\n",
    "\n",
    "sort_capitalized('vanessa')"
   ]
  },
  {
   "cell_type": "markdown",
   "metadata": {},
   "source": [
    "Given the string “Tom Dick Harry,” break it into individual words, and then sort those words alphabetically. Once they’re sorted, print them with commas (,) between the names."
   ]
  },
  {
   "cell_type": "code",
   "execution_count": null,
   "metadata": {},
   "outputs": [],
   "source": [
    "def sort_sentence(sentence: str) -> str:\n",
    "    response = []\n",
    "    for word in sentence.split():\n",
    "        response.append(sort_capitalized(word))\n",
    "    return ', '.join(response)\n",
    "\n",
    "sort_sentence('Tom Dick Harry')"
   ]
  },
  {
   "cell_type": "markdown",
   "metadata": {},
   "source": [
    "Which is the last word, alphabetically, in a text file?"
   ]
  },
  {
   "cell_type": "code",
   "execution_count": null,
   "metadata": {},
   "outputs": [],
   "source": [
    "def get_last(file: str) -> str:\n",
    "    words = file.split()\n",
    "    return sorted(words)[-1]"
   ]
  },
  {
   "cell_type": "markdown",
   "metadata": {},
   "source": [
    "Which is the longest word in a text file?"
   ]
  },
  {
   "cell_type": "code",
   "execution_count": null,
   "metadata": {},
   "outputs": [],
   "source": [
    "names = ['Vanessa', 'Alex','Kasozi']\n",
    "sorted(names, key=len)[-1]"
   ]
  },
  {
   "cell_type": "markdown",
   "metadata": {},
   "source": [
    "Write a function, firstlast, that takes a sequence (string, list, or tuple) and returns the first and last elements of that sequence, in a two-element sequence of the same type. So firstlast('abc') will return the string ac, while firstlast([1,2,3,4]) will return the list [1,4]."
   ]
  },
  {
   "cell_type": "code",
   "execution_count": 60,
   "metadata": {},
   "outputs": [
    {
     "data": {
      "text/plain": [
       "('a', 'e')"
      ]
     },
     "execution_count": 60,
     "metadata": {},
     "output_type": "execute_result"
    }
   ],
   "source": [
    "def first_last(seq):\n",
    "    return seq[0:1] + seq[-1:]\n",
    "\n",
    "first_last(tuple('abcde'))"
   ]
  },
  {
   "cell_type": "markdown",
   "metadata": {},
   "source": [
    "Don’t write one function that squares integers, and another that squares floats.\n",
    "Write one function that handles all numbers."
   ]
  },
  {
   "cell_type": "code",
   "execution_count": 64,
   "metadata": {},
   "outputs": [
    {
     "data": {
      "text/plain": [
       "81.0"
      ]
     },
     "execution_count": 64,
     "metadata": {},
     "output_type": "execute_result"
    }
   ],
   "source": [
    "def square(number):\n",
    "    return number ** 2\n",
    "square(9.0)"
   ]
  },
  {
   "cell_type": "markdown",
   "metadata": {},
   "source": [
    "Don’t write one function that finds the largest element of a string, another that does the same for a list, and a third that does the same for a tuple. Write just one function that works on all of them."
   ]
  },
  {
   "cell_type": "code",
   "execution_count": 69,
   "metadata": {},
   "outputs": [
    {
     "data": {
      "text/plain": [
       "'z'"
      ]
     },
     "execution_count": 69,
     "metadata": {},
     "output_type": "execute_result"
    }
   ],
   "source": [
    "def maximum(seq):\n",
    "    biggest = seq[0]\n",
    "    for element in seq[1:]:\n",
    "        if element > biggest:\n",
    "            biggest = element\n",
    "    return biggest"
   ]
  },
  {
   "cell_type": "markdown",
   "metadata": {},
   "source": [
    "Write a function that takes a list or tuple of numbers. Return a two-element list, containing (respectively) the sum of the even-indexed numbers and the sum of the odd-indexed numbers. So calling the function as even_odd_sums([10, 20,\n",
    "30, 40, 50, 60]), you’ll get back [90, 120]."
   ]
  },
  {
   "cell_type": "code",
   "execution_count": 78,
   "metadata": {},
   "outputs": [
    {
     "data": {
      "text/plain": [
       "[90, 120]"
      ]
     },
     "execution_count": 78,
     "metadata": {},
     "output_type": "execute_result"
    }
   ],
   "source": [
    "def even_odds_sums(seq):\n",
    "    evens = sum(seq[::2])\n",
    "    odds = sum(seq[1::2])\n",
    "    return [evens, odds]\n",
    "\n",
    "even_odds_sums(range(10, 70, 10))"
   ]
  },
  {
   "cell_type": "markdown",
   "metadata": {},
   "source": [
    "Write a function that takes a list or tuple of numbers. Return the result of alternately adding and subtracting numbers from each other. So calling the function as plus_minus([10, 20, 30, 40, 50, 60]), you’ll get back the result of\n",
    "10+20-30+40-50+60, or 50."
   ]
  },
  {
   "cell_type": "code",
   "execution_count": 79,
   "metadata": {},
   "outputs": [
    {
     "data": {
      "text/plain": [
       "50"
      ]
     },
     "execution_count": 79,
     "metadata": {},
     "output_type": "execute_result"
    }
   ],
   "source": [
    "def plus_minus(seq):\n",
    "    sign = 1\n",
    "    sum = seq[0]\n",
    "    for number in seq[1:]:\n",
    "        sum = sum + number * sign\n",
    "        sign = sign * -1\n",
    "    return sum\n",
    "\n",
    "plus_minus(range(10, 70, 10))"
   ]
  },
  {
   "cell_type": "markdown",
   "metadata": {},
   "source": [
    "Write a function that partly emulates the built-in zip function (http://mng.bz/Jyzv), taking any number of iterables and returning a list of tuples. Each tuple will contain one element from each of the iterables passed to the function.\n",
    "Thus, if I call myzip([10, 20,30], 'abc'), the result will be [(10, 'a'), (20,'b'), (30, 'c')]. You can return a list (not an iterator) and can assume that all of the iterables are of the same length"
   ]
  },
  {
   "cell_type": "code",
   "execution_count": 7,
   "metadata": {},
   "outputs": [
    {
     "data": {
      "text/plain": [
       "[(1, 'a', 7), (2, 'b', 5)]"
      ]
     },
     "execution_count": 7,
     "metadata": {},
     "output_type": "execute_result"
    }
   ],
   "source": [
    "def my_zip(*iterables):\n",
    "    result = []\n",
    "    smallest = min([len(iterable) for iterable in iterables])\n",
    "    for index in range(smallest):\n",
    "        result.append(tuple([iterable[index] for iterable in iterables]))\n",
    "    return result\n",
    "    \n",
    "my_zip([1, 2, 5], 'abcd', (7, 5))"
   ]
  },
  {
   "cell_type": "markdown",
   "metadata": {},
   "source": [
    "Write a function, sum_numeric, that takes any number of arguments. If the argument is or can be turned into an integer, then it should be added to the total. Arguments that can’t be handled as integers should be ignored. The\n",
    "result is the sum of the numbers. Thus, sum_numeric(10, 20, 'a', '30', 'bcd') would return 60. Notice that even if the string 30 is an element in the list, it’s converted into an integer and added to the total."
   ]
  },
  {
   "cell_type": "code",
   "execution_count": 13,
   "metadata": {},
   "outputs": [
    {
     "name": "stdout",
     "output_type": "stream",
     "text": [
      "🔥🔥🔥🔥🔥🔥🔥\n",
      "🔥🔥🔥🔥🔥🔥🔥\n"
     ]
    },
    {
     "data": {
      "text/plain": [
       "21"
      ]
     },
     "execution_count": 13,
     "metadata": {},
     "output_type": "execute_result"
    }
   ],
   "source": [
    "def sum_numeric(*elements):\n",
    "    total = 0\n",
    "    for element in elements:\n",
    "        try:\n",
    "           if isinstance(element, int):\n",
    "              total = total + element\n",
    "           else:\n",
    "              total = total + int(element)\n",
    "        except:\n",
    "           print('🔥🔥🔥🔥🔥🔥🔥')\n",
    "           continue\n",
    "    return total\n",
    "\n",
    "sum_numeric(2, 6, 5, '8', 'kasozi', 0, '7g')"
   ]
  },
  {
   "cell_type": "markdown",
   "metadata": {},
   "source": [
    "Write a function that takes a list of dicts and returns a single dict that combines all of the keys and values. If a key appears in more than one argument, the value should be a list containing all of the values from the arguments."
   ]
  },
  {
   "cell_type": "code",
   "execution_count": null,
   "metadata": {},
   "outputs": [],
   "source": []
  },
  {
   "cell_type": "markdown",
   "metadata": {},
   "source": [
    "This challenge asks you to redefine the mysum function we defined in chapter 1, such that it can take any number of arguments. The arguments must all be of the same type and know how to respond to the + operator. (Thus, the function should work with numbers, strings, lists, and tuples, but not with sets and dicts.)"
   ]
  },
  {
   "cell_type": "code",
   "execution_count": 19,
   "metadata": {},
   "outputs": [
    {
     "data": {
      "text/plain": [
       "[1, 2, 8, 5, 6, 7]"
      ]
     },
     "execution_count": 19,
     "metadata": {},
     "output_type": "execute_result"
    }
   ],
   "source": [
    "def my_sum(*args):\n",
    "    result = args[0]\n",
    "    for arg in args[1:]:\n",
    "        result = result + arg\n",
    "    return result\n",
    "my_sum([1, 2, 8, 5], [6, 7])"
   ]
  },
  {
   "cell_type": "markdown",
   "metadata": {},
   "source": [
    "Write a function, mysum_bigger_than, that works the same as mysum, except that it takes a first argument that precedes *args. That argument indicates the threshold for including an argument in the sum. Thus, calling mysum_bigger\n",
    "_than(10, 5, 20, 30, 6) would return 50—because 5 and 6 aren’t greater than 10. This function should similarly work with any type and assumes that all of the arguments are of the same type. Note that > and < work on many different types in Python, not just on numbers; with strings, lists, and tuples, it refers to their sort order."
   ]
  },
  {
   "cell_type": "code",
   "execution_count": null,
   "metadata": {},
   "outputs": [],
   "source": []
  },
  {
   "cell_type": "markdown",
   "metadata": {},
   "source": [
    "Given a sequence of positive and negative numbers, sort them by absolute value."
   ]
  },
  {
   "cell_type": "code",
   "execution_count": 22,
   "metadata": {},
   "outputs": [
    {
     "data": {
      "text/plain": [
       "[0, 2, -4, 8, -100]"
      ]
     },
     "execution_count": 22,
     "metadata": {},
     "output_type": "execute_result"
    }
   ],
   "source": [
    "def sort_by_abs(seq):\n",
    "    return sorted(seq, key=abs)"
   ]
  },
  {
   "cell_type": "markdown",
   "metadata": {},
   "source": [
    "Given a list of strings, sort them according to how many vowels they contain."
   ]
  },
  {
   "cell_type": "code",
   "execution_count": 33,
   "metadata": {},
   "outputs": [
    {
     "data": {
      "text/plain": [
       "['vincent', 'kasozi', 'vanessa', 'adrian']"
      ]
     },
     "execution_count": 33,
     "metadata": {},
     "output_type": "execute_result"
    }
   ],
   "source": [
    "def count_vowels(word):\n",
    "    return sum([1 for letter in word if is_vowel(letter)])\n",
    "\n",
    "def count_as(word):\n",
    "    return sum([1 for letter in word if letter == 'a'])\n",
    "\n",
    "names = ['kasozi', 'vincent', 'vanessa', 'adrian']\n",
    "sorted(names, key=count_as)"
   ]
  },
  {
   "cell_type": "markdown",
   "metadata": {},
   "source": [
    "Given a list of lists, with each list containing zero or more numbers, sort by the sum of each inner list’s numbers."
   ]
  },
  {
   "cell_type": "code",
   "execution_count": 37,
   "metadata": {},
   "outputs": [
    {
     "data": {
      "text/plain": [
       "[[1, 5], [9], [5, 6, 4]]"
      ]
     },
     "execution_count": 37,
     "metadata": {},
     "output_type": "execute_result"
    }
   ],
   "source": [
    "sorted([[1, 5], [5, 6, 4], [9]], key=sum)"
   ]
  },
  {
   "cell_type": "markdown",
   "metadata": {},
   "source": [
    "Write a function, most_repeating_word, that takes a sequence of strings as input. The function should return the string that contains the greatest number of repeated letters. In other words\n",
    "- For each word, find the letter that appears the most times.\n",
    "- Find the word whose most-repeated letter appears more than any other."
   ]
  },
  {
   "cell_type": "code",
   "execution_count": null,
   "metadata": {},
   "outputs": [],
   "source": []
  },
  {
   "cell_type": "markdown",
   "metadata": {},
   "source": [
    "Instead of finding the word with the greatest number of repeated letters, find the word with the greatest number of repeated vowels."
   ]
  },
  {
   "cell_type": "markdown",
   "metadata": {},
   "source": []
  }
 ],
 "metadata": {
  "kernelspec": {
   "display_name": "Python 3",
   "language": "python",
   "name": "python3"
  },
  "language_info": {
   "codemirror_mode": {
    "name": "ipython",
    "version": 3
   },
   "file_extension": ".py",
   "mimetype": "text/x-python",
   "name": "python",
   "nbconvert_exporter": "python",
   "pygments_lexer": "ipython3",
   "version": "3.11.4"
  },
  "orig_nbformat": 4
 },
 "nbformat": 4,
 "nbformat_minor": 2
}
